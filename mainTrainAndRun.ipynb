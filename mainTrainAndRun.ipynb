{
 "cells": [
  {
   "cell_type": "code",
   "execution_count": 39,
   "metadata": {},
   "outputs": [],
   "source": [
    "import pandas as pd\n",
    "import numpy as np\n",
    "import matplotlib.pyplot as plt\n",
    "import torch\n",
    "import random\n",
    "import nltk\n",
    "from transformers import GPT2LMHeadModel, GPT2Tokenizer, TextDataset, DataCollatorForLanguageModeling\n",
    "from transformers import Trainer, TrainingArguments, EarlyStoppingCallback , TrainerCallback\n",
    "from nltk.translate.bleu_score import sentence_bleu \n",
    "from nltk.tokenize import word_tokenize\n",
    "from torch.optim import AdamW\n"
   ]
  },
  {
   "cell_type": "code",
   "execution_count": 41,
   "metadata": {},
   "outputs": [
    {
     "name": "stderr",
     "output_type": "stream",
     "text": [
      "[nltk_data] Downloading package punkt to\n",
      "[nltk_data]     C:\\Users\\Terk_\\AppData\\Roaming\\nltk_data...\n",
      "[nltk_data]   Package punkt is already up-to-date!\n"
     ]
    },
    {
     "data": {
      "text/plain": [
       "True"
      ]
     },
     "execution_count": 41,
     "metadata": {},
     "output_type": "execute_result"
    }
   ],
   "source": [
    "nltk.download('punkt')"
   ]
  },
  {
   "cell_type": "code",
   "execution_count": 42,
   "metadata": {},
   "outputs": [],
   "source": [
    "# Set seeds\n",
    "def set_seeds(seed=42):\n",
    "    random.seed(seed)\n",
    "    np.random.seed(seed)\n",
    "    torch.manual_seed(seed)\n",
    "    torch.cuda.manual_seed_all(seed)\n",
    "    torch.backends.cudnn.deterministic = True\n",
    "    torch.backends.cudnn.benchmark = False\n",
    "set_seeds()"
   ]
  },
  {
   "cell_type": "code",
   "execution_count": 45,
   "metadata": {},
   "outputs": [],
   "source": [
    "#Load File\n",
    "def load_train_data(file_path):\n",
    "    df = pd.read_csv(file_path)\n",
    "    df['combined'] = df.apply(lambda row: f\"Input: {row['word1']} {row['word2']} {row['word3']} {row['word4']} {row['word5']}\\nStory: {row['story']}\", axis=1)\n",
    "    return df['combined'].tolist()\n",
    "\n",
    "def load_test_data(file_path):\n",
    "    df = pd.read_csv(file_path)\n",
    "    return df[['word1', 'word2', 'word3', 'word4', 'word5']].values.tolist()\n",
    "\n",
    "def load_dataset(file_path):\n",
    "    return pd.read_csv(file_path)"
   ]
  },
  {
   "cell_type": "code",
   "execution_count": 56,
   "metadata": {},
   "outputs": [],
   "source": [
    "#graph loss/steps\n",
    "class PlottingCallback(TrainerCallback):\n",
    "    def __init__(self):\n",
    "        self.train_losses = []\n",
    "        self.train_perplexities = []\n",
    "        self.steps = []\n",
    "\n",
    "    def on_log(self, args, state, control, logs=None, **kwargs):\n",
    "        print(f\"Step: {state.global_step}\")\n",
    "        print(f\"Loss: {logs.get('loss')}\")\n",
    "        print(\"-\" * 50)\n",
    "        if logs is not None and state.is_local_process_zero:\n",
    "            step = state.global_step\n",
    "            loss = logs.get('loss')\n",
    "\n",
    "            if loss is not None:\n",
    "                self.train_losses.append((step, loss))\n",
    "            \n",
    "            self.steps.append(step)"
   ]
  },
  {
   "cell_type": "code",
   "execution_count": 74,
   "metadata": {},
   "outputs": [],
   "source": [
    "def generate_story(model, tokenizer, words):\n",
    "    input_text = f\"Words: {' '.join(words)}\\nStory:\"\n",
    "    input_ids = tokenizer.encode(input_text, return_tensors='pt')\n",
    "    \n",
    "    output = model.generate(\n",
    "        input_ids, \n",
    "        max_length=100, \n",
    "        num_return_sequences=1, \n",
    "        no_repeat_ngram_size=3,\n",
    "        top_k=50,\n",
    "        top_p=0.95,\n",
    "        temperature=0.7,\n",
    "        do_sample=True\n",
    "    )\n",
    "    generated_text = tokenizer.decode(output[0], skip_special_tokens=True)\n",
    "    # story = generated_text.split('Story:')[-1].strip()\n",
    "    story = generated_text.split('Story:')[-1].strip().replace('<|endoftext|>', '').strip()\n",
    "\n",
    "    return story"
   ]
  },
  {
   "cell_type": "code",
   "execution_count": 62,
   "metadata": {},
   "outputs": [],
   "source": [
    "#Train hyperparameters\n",
    "def fine_tune_model(data):\n",
    "    model = GPT2LMHeadModel.from_pretrained('gpt2')\n",
    "    tokenizer = GPT2Tokenizer.from_pretrained('gpt2')\n",
    "    tokenizer.pad_token = tokenizer.eos_token\n",
    "    model.resize_token_embeddings(len(tokenizer))\n",
    "    \n",
    "    with open('temp_train_data.txt', 'w', encoding='utf-8') as f:\n",
    "        for item in data:\n",
    "            f.write(f\"{item}\\n\")\n",
    "    \n",
    "    dataset = TextDataset(\n",
    "        tokenizer=tokenizer,\n",
    "        file_path=\"temp_train_data.txt\",\n",
    "        block_size=128\n",
    "    )\n",
    "    \n",
    "    data_collator = DataCollatorForLanguageModeling(\n",
    "        tokenizer=tokenizer, mlm=False\n",
    "    )\n",
    "    \n",
    "    training_args = TrainingArguments(\n",
    "        output_dir=\"./results\",\n",
    "        overwrite_output_dir=True,\n",
    "        num_train_epochs=4,\n",
    "        per_device_train_batch_size=2,\n",
    "        gradient_accumulation_steps=4,\n",
    "        save_steps=500,\n",
    "        save_total_limit=2,\n",
    "        eval_strategy=\"steps\",\n",
    "        eval_steps=500,\n",
    "        load_best_model_at_end=True,\n",
    "        logging_dir='./logs',\n",
    "        logging_steps=1,  \n",
    "    )\n",
    "    \n",
    "    optimizer = AdamW(model.parameters(), lr=5e-5)\n",
    "    \n",
    "    early_stopping_callback = EarlyStoppingCallback(early_stopping_patience=3)\n",
    "    plotting_callback = PlottingCallback()\n",
    "    \n",
    "    trainer = Trainer(\n",
    "        model=model,\n",
    "        args=training_args,\n",
    "        data_collator=data_collator,\n",
    "        train_dataset=dataset,\n",
    "        optimizers=(optimizer, None),\n",
    "        callbacks=[early_stopping_callback, plotting_callback],\n",
    "    )\n",
    "    \n",
    "    trainer.train()\n",
    "\n",
    "    model_save_path = \"./fine_tuned_model\"\n",
    "    model.save_pretrained(model_save_path)\n",
    "    tokenizer.save_pretrained(model_save_path)\n",
    "    \n",
    "    print(f\"Model and tokenizer saved to {model_save_path}\")\n",
    "    \n",
    "    plt.figure(figsize=(15, 6))\n",
    "\n",
    "    # Loss plot\n",
    "    plt.subplot(1, 1, 1)\n",
    "    if plotting_callback.train_losses:\n",
    "        losses = [loss for _, loss in plotting_callback.train_losses]\n",
    "        step = range(1, len(losses) + 1) \n",
    "        plt.plot(step, losses, 'b-')\n",
    "        plt.title('Training Loss vs Steps')\n",
    "        plt.xlabel('Steps')\n",
    "        plt.ylabel('Loss')\n",
    "        plt.grid(True, linestyle='--', alpha=0.7)\n",
    "    else:\n",
    "        plt.text(0.5, 0.5, 'No loss data available', ha='center', va='center')\n",
    "\n",
    "    plt.tight_layout()\n",
    "    plt.savefig('training_linear_plots_batches.png')\n",
    "    plt.show()\n",
    "    \n",
    "    return model, tokenizer"
   ]
  },
  {
   "cell_type": "code",
   "execution_count": 63,
   "metadata": {},
   "outputs": [
    {
     "name": "stdout",
     "output_type": "stream",
     "text": [
      "Let's go bro!\n"
     ]
    },
    {
     "name": "stderr",
     "output_type": "stream",
     "text": [
      "c:\\Users\\Terk_\\anaconda3\\Lib\\site-packages\\transformers\\tokenization_utils_base.py:1617: FutureWarning: `clean_up_tokenization_spaces` was not set. It will be set to `True` by default. This behavior will be deprecated in transformers v4.45, and will be then set to `False` by default. For more details check this issue: https://github.com/huggingface/transformers/issues/31884\n",
      "  warnings.warn(\n",
      "c:\\Users\\Terk_\\anaconda3\\Lib\\site-packages\\transformers\\data\\datasets\\language_modeling.py:53: FutureWarning: This dataset will be removed from the library soon, preprocessing should be handled with the 🤗 Datasets library. You can have a look at this example script for pointers: https://github.com/huggingface/transformers/blob/main/examples/pytorch/language-modeling/run_mlm.py\n",
      "  warnings.warn(\n"
     ]
    },
    {
     "data": {
      "application/vnd.jupyter.widget-view+json": {
       "model_id": "fd9247b90a154d43878ef1a78f416d83",
       "version_major": 2,
       "version_minor": 0
      },
      "text/plain": [
       "  0%|          | 0/224 [00:00<?, ?it/s]"
      ]
     },
     "metadata": {},
     "output_type": "display_data"
    },
    {
     "name": "stdout",
     "output_type": "stream",
     "text": [
      "Step: 1\n",
      "Loss: 3.891\n",
      "--------------------------------------------------\n",
      "{'loss': 3.891, 'grad_norm': 12.082874298095703, 'learning_rate': 4.977678571428572e-05, 'epoch': 0.02}\n",
      "Step: 2\n",
      "Loss: 3.7069\n",
      "--------------------------------------------------\n",
      "{'loss': 3.7069, 'grad_norm': 9.462660789489746, 'learning_rate': 4.955357142857143e-05, 'epoch': 0.04}\n",
      "Step: 3\n",
      "Loss: 3.4255\n",
      "--------------------------------------------------\n",
      "{'loss': 3.4255, 'grad_norm': 8.552093505859375, 'learning_rate': 4.933035714285715e-05, 'epoch': 0.05}\n",
      "Step: 4\n",
      "Loss: 3.3027\n",
      "--------------------------------------------------\n",
      "{'loss': 3.3027, 'grad_norm': 8.183371543884277, 'learning_rate': 4.910714285714286e-05, 'epoch': 0.07}\n",
      "Step: 5\n",
      "Loss: 3.21\n",
      "--------------------------------------------------\n",
      "{'loss': 3.21, 'grad_norm': 7.396580696105957, 'learning_rate': 4.888392857142857e-05, 'epoch': 0.09}\n",
      "Step: 6\n",
      "Loss: 3.1578\n",
      "--------------------------------------------------\n",
      "{'loss': 3.1578, 'grad_norm': 7.60649299621582, 'learning_rate': 4.866071428571429e-05, 'epoch': 0.11}\n",
      "Step: 7\n",
      "Loss: 3.2887\n",
      "--------------------------------------------------\n",
      "{'loss': 3.2887, 'grad_norm': 7.716141223907471, 'learning_rate': 4.8437500000000005e-05, 'epoch': 0.12}\n",
      "Step: 8\n",
      "Loss: 3.1731\n",
      "--------------------------------------------------\n",
      "{'loss': 3.1731, 'grad_norm': 7.0844902992248535, 'learning_rate': 4.8214285714285716e-05, 'epoch': 0.14}\n",
      "Step: 9\n",
      "Loss: 3.0211\n",
      "--------------------------------------------------\n",
      "{'loss': 3.0211, 'grad_norm': 7.771255016326904, 'learning_rate': 4.7991071428571433e-05, 'epoch': 0.16}\n",
      "Step: 10\n",
      "Loss: 3.08\n",
      "--------------------------------------------------\n",
      "{'loss': 3.08, 'grad_norm': 7.367883205413818, 'learning_rate': 4.7767857142857144e-05, 'epoch': 0.18}\n",
      "Step: 11\n",
      "Loss: 2.9504\n",
      "--------------------------------------------------\n",
      "{'loss': 2.9504, 'grad_norm': 7.944818496704102, 'learning_rate': 4.7544642857142855e-05, 'epoch': 0.2}\n",
      "Step: 12\n",
      "Loss: 2.9582\n",
      "--------------------------------------------------\n",
      "{'loss': 2.9582, 'grad_norm': 7.368831157684326, 'learning_rate': 4.732142857142857e-05, 'epoch': 0.21}\n",
      "Step: 13\n",
      "Loss: 2.8668\n",
      "--------------------------------------------------\n",
      "{'loss': 2.8668, 'grad_norm': 7.202138423919678, 'learning_rate': 4.709821428571429e-05, 'epoch': 0.23}\n",
      "Step: 14\n",
      "Loss: 2.9989\n",
      "--------------------------------------------------\n",
      "{'loss': 2.9989, 'grad_norm': 7.08827018737793, 'learning_rate': 4.6875e-05, 'epoch': 0.25}\n",
      "Step: 15\n",
      "Loss: 3.027\n",
      "--------------------------------------------------\n",
      "{'loss': 3.027, 'grad_norm': 7.281740188598633, 'learning_rate': 4.665178571428572e-05, 'epoch': 0.27}\n",
      "Step: 16\n",
      "Loss: 2.9069\n",
      "--------------------------------------------------\n",
      "{'loss': 2.9069, 'grad_norm': 7.721182346343994, 'learning_rate': 4.642857142857143e-05, 'epoch': 0.28}\n",
      "Step: 17\n",
      "Loss: 2.7525\n",
      "--------------------------------------------------\n",
      "{'loss': 2.7525, 'grad_norm': 6.381781101226807, 'learning_rate': 4.620535714285715e-05, 'epoch': 0.3}\n",
      "Step: 18\n",
      "Loss: 2.7456\n",
      "--------------------------------------------------\n",
      "{'loss': 2.7456, 'grad_norm': 6.688131809234619, 'learning_rate': 4.598214285714286e-05, 'epoch': 0.32}\n",
      "Step: 19\n",
      "Loss: 2.8597\n",
      "--------------------------------------------------\n",
      "{'loss': 2.8597, 'grad_norm': 7.034786224365234, 'learning_rate': 4.5758928571428575e-05, 'epoch': 0.34}\n",
      "Step: 20\n",
      "Loss: 2.8556\n",
      "--------------------------------------------------\n",
      "{'loss': 2.8556, 'grad_norm': 6.654571056365967, 'learning_rate': 4.5535714285714286e-05, 'epoch': 0.36}\n",
      "Step: 21\n",
      "Loss: 2.92\n",
      "--------------------------------------------------\n",
      "{'loss': 2.92, 'grad_norm': 7.410533905029297, 'learning_rate': 4.5312500000000004e-05, 'epoch': 0.37}\n",
      "Step: 22\n",
      "Loss: 2.8071\n",
      "--------------------------------------------------\n",
      "{'loss': 2.8071, 'grad_norm': 6.642378330230713, 'learning_rate': 4.5089285714285714e-05, 'epoch': 0.39}\n",
      "Step: 23\n",
      "Loss: 2.9578\n",
      "--------------------------------------------------\n",
      "{'loss': 2.9578, 'grad_norm': 7.630254745483398, 'learning_rate': 4.486607142857143e-05, 'epoch': 0.41}\n",
      "Step: 24\n",
      "Loss: 2.7727\n",
      "--------------------------------------------------\n",
      "{'loss': 2.7727, 'grad_norm': 6.8123555183410645, 'learning_rate': 4.464285714285715e-05, 'epoch': 0.43}\n",
      "Step: 25\n",
      "Loss: 2.8025\n",
      "--------------------------------------------------\n",
      "{'loss': 2.8025, 'grad_norm': 6.378235340118408, 'learning_rate': 4.4419642857142854e-05, 'epoch': 0.44}\n",
      "Step: 26\n",
      "Loss: 2.677\n",
      "--------------------------------------------------\n",
      "{'loss': 2.677, 'grad_norm': 6.950986385345459, 'learning_rate': 4.419642857142857e-05, 'epoch': 0.46}\n",
      "Step: 27\n",
      "Loss: 2.7061\n",
      "--------------------------------------------------\n",
      "{'loss': 2.7061, 'grad_norm': 7.030148983001709, 'learning_rate': 4.397321428571429e-05, 'epoch': 0.48}\n",
      "Step: 28\n",
      "Loss: 2.7152\n",
      "--------------------------------------------------\n",
      "{'loss': 2.7152, 'grad_norm': 6.512800216674805, 'learning_rate': 4.375e-05, 'epoch': 0.5}\n",
      "Step: 29\n",
      "Loss: 2.7328\n",
      "--------------------------------------------------\n",
      "{'loss': 2.7328, 'grad_norm': 6.705491542816162, 'learning_rate': 4.352678571428572e-05, 'epoch': 0.52}\n",
      "Step: 30\n",
      "Loss: 2.6445\n",
      "--------------------------------------------------\n",
      "{'loss': 2.6445, 'grad_norm': 6.754604816436768, 'learning_rate': 4.3303571428571435e-05, 'epoch': 0.53}\n",
      "Step: 31\n",
      "Loss: 2.7233\n",
      "--------------------------------------------------\n",
      "{'loss': 2.7233, 'grad_norm': 7.276793003082275, 'learning_rate': 4.3080357142857145e-05, 'epoch': 0.55}\n",
      "Step: 32\n",
      "Loss: 2.7436\n",
      "--------------------------------------------------\n",
      "{'loss': 2.7436, 'grad_norm': 6.838556289672852, 'learning_rate': 4.2857142857142856e-05, 'epoch': 0.57}\n",
      "Step: 33\n",
      "Loss: 2.8288\n",
      "--------------------------------------------------\n",
      "{'loss': 2.8288, 'grad_norm': 7.347316741943359, 'learning_rate': 4.2633928571428574e-05, 'epoch': 0.59}\n",
      "Step: 34\n",
      "Loss: 2.5914\n",
      "--------------------------------------------------\n",
      "{'loss': 2.5914, 'grad_norm': 6.618297100067139, 'learning_rate': 4.2410714285714285e-05, 'epoch': 0.6}\n",
      "Step: 35\n",
      "Loss: 2.7608\n",
      "--------------------------------------------------\n",
      "{'loss': 2.7608, 'grad_norm': 7.227850437164307, 'learning_rate': 4.21875e-05, 'epoch': 0.62}\n",
      "Step: 36\n",
      "Loss: 2.6021\n",
      "--------------------------------------------------\n",
      "{'loss': 2.6021, 'grad_norm': 6.878260135650635, 'learning_rate': 4.196428571428572e-05, 'epoch': 0.64}\n",
      "Step: 37\n",
      "Loss: 2.688\n",
      "--------------------------------------------------\n",
      "{'loss': 2.688, 'grad_norm': 6.713345050811768, 'learning_rate': 4.174107142857143e-05, 'epoch': 0.66}\n",
      "Step: 38\n",
      "Loss: 2.6314\n",
      "--------------------------------------------------\n",
      "{'loss': 2.6314, 'grad_norm': 6.613181114196777, 'learning_rate': 4.151785714285715e-05, 'epoch': 0.68}\n",
      "Step: 39\n",
      "Loss: 2.661\n",
      "--------------------------------------------------\n",
      "{'loss': 2.661, 'grad_norm': 7.3600969314575195, 'learning_rate': 4.129464285714286e-05, 'epoch': 0.69}\n",
      "Step: 40\n",
      "Loss: 2.7282\n",
      "--------------------------------------------------\n",
      "{'loss': 2.7282, 'grad_norm': 6.79579496383667, 'learning_rate': 4.107142857142857e-05, 'epoch': 0.71}\n",
      "Step: 41\n",
      "Loss: 2.5153\n",
      "--------------------------------------------------\n",
      "{'loss': 2.5153, 'grad_norm': 6.571792125701904, 'learning_rate': 4.084821428571429e-05, 'epoch': 0.73}\n",
      "Step: 42\n",
      "Loss: 2.6795\n",
      "--------------------------------------------------\n",
      "{'loss': 2.6795, 'grad_norm': 6.8845415115356445, 'learning_rate': 4.0625000000000005e-05, 'epoch': 0.75}\n",
      "Step: 43\n",
      "Loss: 2.7287\n",
      "--------------------------------------------------\n",
      "{'loss': 2.7287, 'grad_norm': 7.000651836395264, 'learning_rate': 4.0401785714285716e-05, 'epoch': 0.76}\n",
      "Step: 44\n",
      "Loss: 2.6174\n",
      "--------------------------------------------------\n",
      "{'loss': 2.6174, 'grad_norm': 6.597045421600342, 'learning_rate': 4.017857142857143e-05, 'epoch': 0.78}\n",
      "Step: 45\n",
      "Loss: 2.7625\n",
      "--------------------------------------------------\n",
      "{'loss': 2.7625, 'grad_norm': 6.981387138366699, 'learning_rate': 3.9955357142857144e-05, 'epoch': 0.8}\n",
      "Step: 46\n",
      "Loss: 2.6932\n",
      "--------------------------------------------------\n",
      "{'loss': 2.6932, 'grad_norm': 6.300725936889648, 'learning_rate': 3.9732142857142855e-05, 'epoch': 0.82}\n",
      "Step: 47\n",
      "Loss: 2.6015\n",
      "--------------------------------------------------\n",
      "{'loss': 2.6015, 'grad_norm': 6.479578018188477, 'learning_rate': 3.950892857142857e-05, 'epoch': 0.84}\n",
      "Step: 48\n",
      "Loss: 2.7226\n",
      "--------------------------------------------------\n",
      "{'loss': 2.7226, 'grad_norm': 6.9332275390625, 'learning_rate': 3.928571428571429e-05, 'epoch': 0.85}\n",
      "Step: 49\n",
      "Loss: 2.6133\n",
      "--------------------------------------------------\n",
      "{'loss': 2.6133, 'grad_norm': 6.631221294403076, 'learning_rate': 3.90625e-05, 'epoch': 0.87}\n",
      "Step: 50\n",
      "Loss: 2.7856\n",
      "--------------------------------------------------\n",
      "{'loss': 2.7856, 'grad_norm': 7.006486415863037, 'learning_rate': 3.883928571428572e-05, 'epoch': 0.89}\n",
      "Step: 51\n",
      "Loss: 2.6728\n",
      "--------------------------------------------------\n",
      "{'loss': 2.6728, 'grad_norm': 6.7292070388793945, 'learning_rate': 3.861607142857143e-05, 'epoch': 0.91}\n",
      "Step: 52\n",
      "Loss: 2.6614\n",
      "--------------------------------------------------\n",
      "{'loss': 2.6614, 'grad_norm': 6.832594394683838, 'learning_rate': 3.839285714285715e-05, 'epoch': 0.92}\n",
      "Step: 53\n",
      "Loss: 2.6219\n",
      "--------------------------------------------------\n",
      "{'loss': 2.6219, 'grad_norm': 6.533090591430664, 'learning_rate': 3.816964285714286e-05, 'epoch': 0.94}\n",
      "Step: 54\n",
      "Loss: 2.7747\n",
      "--------------------------------------------------\n",
      "{'loss': 2.7747, 'grad_norm': 6.819506645202637, 'learning_rate': 3.794642857142857e-05, 'epoch': 0.96}\n",
      "Step: 55\n",
      "Loss: 2.5751\n",
      "--------------------------------------------------\n",
      "{'loss': 2.5751, 'grad_norm': 6.3422746658325195, 'learning_rate': 3.7723214285714286e-05, 'epoch': 0.98}\n",
      "Step: 56\n",
      "Loss: 2.5748\n",
      "--------------------------------------------------\n",
      "{'loss': 2.5748, 'grad_norm': 6.354782581329346, 'learning_rate': 3.7500000000000003e-05, 'epoch': 1.0}\n",
      "Step: 57\n",
      "Loss: 2.4842\n",
      "--------------------------------------------------\n",
      "{'loss': 2.4842, 'grad_norm': 7.61906099319458, 'learning_rate': 3.7276785714285714e-05, 'epoch': 1.01}\n",
      "Step: 58\n",
      "Loss: 2.4529\n",
      "--------------------------------------------------\n",
      "{'loss': 2.4529, 'grad_norm': 6.551244258880615, 'learning_rate': 3.705357142857143e-05, 'epoch': 1.03}\n",
      "Step: 59\n",
      "Loss: 2.3934\n",
      "--------------------------------------------------\n",
      "{'loss': 2.3934, 'grad_norm': 6.447506904602051, 'learning_rate': 3.683035714285715e-05, 'epoch': 1.05}\n",
      "Step: 60\n",
      "Loss: 2.6624\n",
      "--------------------------------------------------\n",
      "{'loss': 2.6624, 'grad_norm': 6.565943717956543, 'learning_rate': 3.6607142857142853e-05, 'epoch': 1.07}\n",
      "Step: 61\n",
      "Loss: 2.3814\n",
      "--------------------------------------------------\n",
      "{'loss': 2.3814, 'grad_norm': 6.588447570800781, 'learning_rate': 3.638392857142857e-05, 'epoch': 1.08}\n",
      "Step: 62\n",
      "Loss: 2.4245\n",
      "--------------------------------------------------\n",
      "{'loss': 2.4245, 'grad_norm': 6.67927885055542, 'learning_rate': 3.616071428571429e-05, 'epoch': 1.1}\n",
      "Step: 63\n",
      "Loss: 2.4013\n",
      "--------------------------------------------------\n",
      "{'loss': 2.4013, 'grad_norm': 6.443532943725586, 'learning_rate': 3.59375e-05, 'epoch': 1.12}\n",
      "Step: 64\n",
      "Loss: 2.4141\n",
      "--------------------------------------------------\n",
      "{'loss': 2.4141, 'grad_norm': 6.559559345245361, 'learning_rate': 3.571428571428572e-05, 'epoch': 1.14}\n",
      "Step: 65\n",
      "Loss: 2.4585\n",
      "--------------------------------------------------\n",
      "{'loss': 2.4585, 'grad_norm': 6.58958625793457, 'learning_rate': 3.5491071428571435e-05, 'epoch': 1.16}\n",
      "Step: 66\n",
      "Loss: 2.4375\n",
      "--------------------------------------------------\n",
      "{'loss': 2.4375, 'grad_norm': 6.502589702606201, 'learning_rate': 3.5267857142857145e-05, 'epoch': 1.17}\n",
      "Step: 67\n",
      "Loss: 2.4462\n",
      "--------------------------------------------------\n",
      "{'loss': 2.4462, 'grad_norm': 6.869369983673096, 'learning_rate': 3.5044642857142856e-05, 'epoch': 1.19}\n",
      "Step: 68\n",
      "Loss: 2.3601\n",
      "--------------------------------------------------\n",
      "{'loss': 2.3601, 'grad_norm': 6.491694927215576, 'learning_rate': 3.4821428571428574e-05, 'epoch': 1.21}\n",
      "Step: 69\n",
      "Loss: 2.4457\n",
      "--------------------------------------------------\n",
      "{'loss': 2.4457, 'grad_norm': 7.19045352935791, 'learning_rate': 3.4598214285714284e-05, 'epoch': 1.23}\n",
      "Step: 70\n",
      "Loss: 2.4841\n",
      "--------------------------------------------------\n",
      "{'loss': 2.4841, 'grad_norm': 7.089388370513916, 'learning_rate': 3.4375e-05, 'epoch': 1.24}\n",
      "Step: 71\n",
      "Loss: 2.3074\n",
      "--------------------------------------------------\n",
      "{'loss': 2.3074, 'grad_norm': 6.810265064239502, 'learning_rate': 3.415178571428572e-05, 'epoch': 1.26}\n",
      "Step: 72\n",
      "Loss: 2.3386\n",
      "--------------------------------------------------\n",
      "{'loss': 2.3386, 'grad_norm': 6.828338146209717, 'learning_rate': 3.392857142857143e-05, 'epoch': 1.28}\n",
      "Step: 73\n",
      "Loss: 2.4255\n",
      "--------------------------------------------------\n",
      "{'loss': 2.4255, 'grad_norm': 6.737622261047363, 'learning_rate': 3.370535714285715e-05, 'epoch': 1.3}\n",
      "Step: 74\n",
      "Loss: 2.3993\n",
      "--------------------------------------------------\n",
      "{'loss': 2.3993, 'grad_norm': 6.7244486808776855, 'learning_rate': 3.348214285714286e-05, 'epoch': 1.32}\n",
      "Step: 75\n",
      "Loss: 2.2812\n",
      "--------------------------------------------------\n",
      "{'loss': 2.2812, 'grad_norm': 7.131524085998535, 'learning_rate': 3.325892857142857e-05, 'epoch': 1.33}\n",
      "Step: 76\n",
      "Loss: 2.5036\n",
      "--------------------------------------------------\n",
      "{'loss': 2.5036, 'grad_norm': 6.780055999755859, 'learning_rate': 3.303571428571429e-05, 'epoch': 1.35}\n",
      "Step: 77\n",
      "Loss: 2.5798\n",
      "--------------------------------------------------\n",
      "{'loss': 2.5798, 'grad_norm': 6.895809173583984, 'learning_rate': 3.2812500000000005e-05, 'epoch': 1.37}\n",
      "Step: 78\n",
      "Loss: 2.3856\n",
      "--------------------------------------------------\n",
      "{'loss': 2.3856, 'grad_norm': 6.865991592407227, 'learning_rate': 3.2589285714285716e-05, 'epoch': 1.39}\n",
      "Step: 79\n",
      "Loss: 2.4231\n",
      "--------------------------------------------------\n",
      "{'loss': 2.4231, 'grad_norm': 6.775767803192139, 'learning_rate': 3.236607142857143e-05, 'epoch': 1.4}\n",
      "Step: 80\n",
      "Loss: 2.4218\n",
      "--------------------------------------------------\n",
      "{'loss': 2.4218, 'grad_norm': 7.243045330047607, 'learning_rate': 3.2142857142857144e-05, 'epoch': 1.42}\n",
      "Step: 81\n",
      "Loss: 2.4425\n",
      "--------------------------------------------------\n",
      "{'loss': 2.4425, 'grad_norm': 6.886889457702637, 'learning_rate': 3.1919642857142855e-05, 'epoch': 1.44}\n",
      "Step: 82\n",
      "Loss: 2.4931\n",
      "--------------------------------------------------\n",
      "{'loss': 2.4931, 'grad_norm': 6.862758159637451, 'learning_rate': 3.169642857142857e-05, 'epoch': 1.46}\n",
      "Step: 83\n",
      "Loss: 2.2815\n",
      "--------------------------------------------------\n",
      "{'loss': 2.2815, 'grad_norm': 6.939245223999023, 'learning_rate': 3.147321428571428e-05, 'epoch': 1.48}\n",
      "Step: 84\n",
      "Loss: 2.3796\n",
      "--------------------------------------------------\n",
      "{'loss': 2.3796, 'grad_norm': 6.653419017791748, 'learning_rate': 3.125e-05, 'epoch': 1.49}\n",
      "Step: 85\n",
      "Loss: 2.377\n",
      "--------------------------------------------------\n",
      "{'loss': 2.377, 'grad_norm': 6.992398262023926, 'learning_rate': 3.102678571428572e-05, 'epoch': 1.51}\n",
      "Step: 86\n",
      "Loss: 2.4636\n",
      "--------------------------------------------------\n",
      "{'loss': 2.4636, 'grad_norm': 7.428120136260986, 'learning_rate': 3.080357142857143e-05, 'epoch': 1.53}\n",
      "Step: 87\n",
      "Loss: 2.3422\n",
      "--------------------------------------------------\n",
      "{'loss': 2.3422, 'grad_norm': 7.279124736785889, 'learning_rate': 3.0580357142857147e-05, 'epoch': 1.55}\n",
      "Step: 88\n",
      "Loss: 2.4958\n",
      "--------------------------------------------------\n",
      "{'loss': 2.4958, 'grad_norm': 7.71006441116333, 'learning_rate': 3.0357142857142857e-05, 'epoch': 1.56}\n",
      "Step: 89\n",
      "Loss: 2.5449\n",
      "--------------------------------------------------\n",
      "{'loss': 2.5449, 'grad_norm': 6.964539051055908, 'learning_rate': 3.013392857142857e-05, 'epoch': 1.58}\n",
      "Step: 90\n",
      "Loss: 2.435\n",
      "--------------------------------------------------\n",
      "{'loss': 2.435, 'grad_norm': 7.209468364715576, 'learning_rate': 2.9910714285714286e-05, 'epoch': 1.6}\n",
      "Step: 91\n",
      "Loss: 2.4169\n",
      "--------------------------------------------------\n",
      "{'loss': 2.4169, 'grad_norm': 7.127468109130859, 'learning_rate': 2.96875e-05, 'epoch': 1.62}\n",
      "Step: 92\n",
      "Loss: 2.41\n",
      "--------------------------------------------------\n",
      "{'loss': 2.41, 'grad_norm': 7.3896636962890625, 'learning_rate': 2.9464285714285718e-05, 'epoch': 1.64}\n",
      "Step: 93\n",
      "Loss: 2.4346\n",
      "--------------------------------------------------\n",
      "{'loss': 2.4346, 'grad_norm': 7.305728435516357, 'learning_rate': 2.9241071428571432e-05, 'epoch': 1.65}\n",
      "Step: 94\n",
      "Loss: 2.3596\n",
      "--------------------------------------------------\n",
      "{'loss': 2.3596, 'grad_norm': 7.336756229400635, 'learning_rate': 2.9017857142857146e-05, 'epoch': 1.67}\n",
      "Step: 95\n",
      "Loss: 2.5375\n",
      "--------------------------------------------------\n",
      "{'loss': 2.5375, 'grad_norm': 7.354808330535889, 'learning_rate': 2.8794642857142857e-05, 'epoch': 1.69}\n",
      "Step: 96\n",
      "Loss: 2.389\n",
      "--------------------------------------------------\n",
      "{'loss': 2.389, 'grad_norm': 7.038512229919434, 'learning_rate': 2.857142857142857e-05, 'epoch': 1.71}\n",
      "Step: 97\n",
      "Loss: 2.4225\n",
      "--------------------------------------------------\n",
      "{'loss': 2.4225, 'grad_norm': 7.222387790679932, 'learning_rate': 2.8348214285714285e-05, 'epoch': 1.72}\n",
      "Step: 98\n",
      "Loss: 2.3451\n",
      "--------------------------------------------------\n",
      "{'loss': 2.3451, 'grad_norm': 7.126301288604736, 'learning_rate': 2.8125000000000003e-05, 'epoch': 1.74}\n",
      "Step: 99\n",
      "Loss: 2.3466\n",
      "--------------------------------------------------\n",
      "{'loss': 2.3466, 'grad_norm': 6.815511226654053, 'learning_rate': 2.7901785714285717e-05, 'epoch': 1.76}\n",
      "Step: 100\n",
      "Loss: 2.3245\n",
      "--------------------------------------------------\n",
      "{'loss': 2.3245, 'grad_norm': 7.030191898345947, 'learning_rate': 2.767857142857143e-05, 'epoch': 1.78}\n",
      "Step: 101\n",
      "Loss: 2.4994\n",
      "--------------------------------------------------\n",
      "{'loss': 2.4994, 'grad_norm': 7.18687105178833, 'learning_rate': 2.7455357142857145e-05, 'epoch': 1.8}\n",
      "Step: 102\n",
      "Loss: 2.3874\n",
      "--------------------------------------------------\n",
      "{'loss': 2.3874, 'grad_norm': 7.119884490966797, 'learning_rate': 2.7232142857142856e-05, 'epoch': 1.81}\n",
      "Step: 103\n",
      "Loss: 2.4218\n",
      "--------------------------------------------------\n",
      "{'loss': 2.4218, 'grad_norm': 7.2310028076171875, 'learning_rate': 2.700892857142857e-05, 'epoch': 1.83}\n",
      "Step: 104\n",
      "Loss: 2.3249\n",
      "--------------------------------------------------\n",
      "{'loss': 2.3249, 'grad_norm': 7.4665069580078125, 'learning_rate': 2.6785714285714288e-05, 'epoch': 1.85}\n",
      "Step: 105\n",
      "Loss: 2.3366\n",
      "--------------------------------------------------\n",
      "{'loss': 2.3366, 'grad_norm': 7.326745510101318, 'learning_rate': 2.6562500000000002e-05, 'epoch': 1.87}\n",
      "Step: 106\n",
      "Loss: 2.3328\n",
      "--------------------------------------------------\n",
      "{'loss': 2.3328, 'grad_norm': 7.3233561515808105, 'learning_rate': 2.6339285714285716e-05, 'epoch': 1.88}\n",
      "Step: 107\n",
      "Loss: 2.4031\n",
      "--------------------------------------------------\n",
      "{'loss': 2.4031, 'grad_norm': 7.120324611663818, 'learning_rate': 2.611607142857143e-05, 'epoch': 1.9}\n",
      "Step: 108\n",
      "Loss: 2.3069\n",
      "--------------------------------------------------\n",
      "{'loss': 2.3069, 'grad_norm': 7.024292469024658, 'learning_rate': 2.5892857142857148e-05, 'epoch': 1.92}\n",
      "Step: 109\n",
      "Loss: 2.4783\n",
      "--------------------------------------------------\n",
      "{'loss': 2.4783, 'grad_norm': 7.066432476043701, 'learning_rate': 2.5669642857142855e-05, 'epoch': 1.94}\n",
      "Step: 110\n",
      "Loss: 2.2462\n",
      "--------------------------------------------------\n",
      "{'loss': 2.2462, 'grad_norm': 7.464136600494385, 'learning_rate': 2.544642857142857e-05, 'epoch': 1.96}\n",
      "Step: 111\n",
      "Loss: 2.5478\n",
      "--------------------------------------------------\n",
      "{'loss': 2.5478, 'grad_norm': 7.211016654968262, 'learning_rate': 2.5223214285714287e-05, 'epoch': 1.97}\n",
      "Step: 112\n",
      "Loss: 2.3141\n",
      "--------------------------------------------------\n",
      "{'loss': 2.3141, 'grad_norm': 6.968852519989014, 'learning_rate': 2.5e-05, 'epoch': 1.99}\n",
      "Step: 113\n",
      "Loss: 2.2763\n",
      "--------------------------------------------------\n",
      "{'loss': 2.2763, 'grad_norm': 8.105463027954102, 'learning_rate': 2.4776785714285715e-05, 'epoch': 2.01}\n",
      "Step: 114\n",
      "Loss: 2.3547\n",
      "--------------------------------------------------\n",
      "{'loss': 2.3547, 'grad_norm': 6.775487422943115, 'learning_rate': 2.455357142857143e-05, 'epoch': 2.03}\n",
      "Step: 115\n",
      "Loss: 2.4077\n",
      "--------------------------------------------------\n",
      "{'loss': 2.4077, 'grad_norm': 6.891921043395996, 'learning_rate': 2.4330357142857144e-05, 'epoch': 2.04}\n",
      "Step: 116\n",
      "Loss: 2.2884\n",
      "--------------------------------------------------\n",
      "{'loss': 2.2884, 'grad_norm': 6.991710662841797, 'learning_rate': 2.4107142857142858e-05, 'epoch': 2.06}\n",
      "Step: 117\n",
      "Loss: 2.2037\n",
      "--------------------------------------------------\n",
      "{'loss': 2.2037, 'grad_norm': 7.0278520584106445, 'learning_rate': 2.3883928571428572e-05, 'epoch': 2.08}\n",
      "Step: 118\n",
      "Loss: 2.2891\n",
      "--------------------------------------------------\n",
      "{'loss': 2.2891, 'grad_norm': 7.161310195922852, 'learning_rate': 2.3660714285714286e-05, 'epoch': 2.1}\n",
      "Step: 119\n",
      "Loss: 2.3714\n",
      "--------------------------------------------------\n",
      "{'loss': 2.3714, 'grad_norm': 7.16681432723999, 'learning_rate': 2.34375e-05, 'epoch': 2.12}\n",
      "Step: 120\n",
      "Loss: 2.3\n",
      "--------------------------------------------------\n",
      "{'loss': 2.3, 'grad_norm': 6.943938732147217, 'learning_rate': 2.3214285714285715e-05, 'epoch': 2.13}\n",
      "Step: 121\n",
      "Loss: 2.3212\n",
      "--------------------------------------------------\n",
      "{'loss': 2.3212, 'grad_norm': 6.9073405265808105, 'learning_rate': 2.299107142857143e-05, 'epoch': 2.15}\n",
      "Step: 122\n",
      "Loss: 2.2361\n",
      "--------------------------------------------------\n",
      "{'loss': 2.2361, 'grad_norm': 7.245781898498535, 'learning_rate': 2.2767857142857143e-05, 'epoch': 2.17}\n",
      "Step: 123\n",
      "Loss: 2.2257\n",
      "--------------------------------------------------\n",
      "{'loss': 2.2257, 'grad_norm': 6.787868976593018, 'learning_rate': 2.2544642857142857e-05, 'epoch': 2.19}\n",
      "Step: 124\n",
      "Loss: 2.2957\n",
      "--------------------------------------------------\n",
      "{'loss': 2.2957, 'grad_norm': 7.307439804077148, 'learning_rate': 2.2321428571428575e-05, 'epoch': 2.2}\n",
      "Step: 125\n",
      "Loss: 2.2083\n",
      "--------------------------------------------------\n",
      "{'loss': 2.2083, 'grad_norm': 7.0615339279174805, 'learning_rate': 2.2098214285714286e-05, 'epoch': 2.22}\n",
      "Step: 126\n",
      "Loss: 2.2585\n",
      "--------------------------------------------------\n",
      "{'loss': 2.2585, 'grad_norm': 7.080016613006592, 'learning_rate': 2.1875e-05, 'epoch': 2.24}\n",
      "Step: 127\n",
      "Loss: 2.2554\n",
      "--------------------------------------------------\n",
      "{'loss': 2.2554, 'grad_norm': 7.44061279296875, 'learning_rate': 2.1651785714285717e-05, 'epoch': 2.26}\n",
      "Step: 128\n",
      "Loss: 2.1656\n",
      "--------------------------------------------------\n",
      "{'loss': 2.1656, 'grad_norm': 6.984838485717773, 'learning_rate': 2.1428571428571428e-05, 'epoch': 2.28}\n",
      "Step: 129\n",
      "Loss: 2.2287\n",
      "--------------------------------------------------\n",
      "{'loss': 2.2287, 'grad_norm': 7.727933406829834, 'learning_rate': 2.1205357142857142e-05, 'epoch': 2.29}\n",
      "Step: 130\n",
      "Loss: 2.2229\n",
      "--------------------------------------------------\n",
      "{'loss': 2.2229, 'grad_norm': 7.1460394859313965, 'learning_rate': 2.098214285714286e-05, 'epoch': 2.31}\n",
      "Step: 131\n",
      "Loss: 2.3559\n",
      "--------------------------------------------------\n",
      "{'loss': 2.3559, 'grad_norm': 7.089500427246094, 'learning_rate': 2.0758928571428574e-05, 'epoch': 2.33}\n",
      "Step: 132\n",
      "Loss: 2.2798\n",
      "--------------------------------------------------\n",
      "{'loss': 2.2798, 'grad_norm': 6.906577110290527, 'learning_rate': 2.0535714285714285e-05, 'epoch': 2.35}\n",
      "Step: 133\n",
      "Loss: 2.2275\n",
      "--------------------------------------------------\n",
      "{'loss': 2.2275, 'grad_norm': 7.186574459075928, 'learning_rate': 2.0312500000000002e-05, 'epoch': 2.36}\n",
      "Step: 134\n",
      "Loss: 2.2809\n",
      "--------------------------------------------------\n",
      "{'loss': 2.2809, 'grad_norm': 7.143775463104248, 'learning_rate': 2.0089285714285717e-05, 'epoch': 2.38}\n",
      "Step: 135\n",
      "Loss: 2.4885\n",
      "--------------------------------------------------\n",
      "{'loss': 2.4885, 'grad_norm': 7.762958526611328, 'learning_rate': 1.9866071428571427e-05, 'epoch': 2.4}\n",
      "Step: 136\n",
      "Loss: 2.2352\n",
      "--------------------------------------------------\n",
      "{'loss': 2.2352, 'grad_norm': 7.423131942749023, 'learning_rate': 1.9642857142857145e-05, 'epoch': 2.42}\n",
      "Step: 137\n",
      "Loss: 2.3485\n",
      "--------------------------------------------------\n",
      "{'loss': 2.3485, 'grad_norm': 7.342018127441406, 'learning_rate': 1.941964285714286e-05, 'epoch': 2.44}\n",
      "Step: 138\n",
      "Loss: 2.244\n",
      "--------------------------------------------------\n",
      "{'loss': 2.244, 'grad_norm': 7.370937824249268, 'learning_rate': 1.9196428571428573e-05, 'epoch': 2.45}\n",
      "Step: 139\n",
      "Loss: 2.2504\n",
      "--------------------------------------------------\n",
      "{'loss': 2.2504, 'grad_norm': 6.997809886932373, 'learning_rate': 1.8973214285714284e-05, 'epoch': 2.47}\n",
      "Step: 140\n",
      "Loss: 2.3497\n",
      "--------------------------------------------------\n",
      "{'loss': 2.3497, 'grad_norm': 7.412900447845459, 'learning_rate': 1.8750000000000002e-05, 'epoch': 2.49}\n",
      "Step: 141\n",
      "Loss: 2.1125\n",
      "--------------------------------------------------\n",
      "{'loss': 2.1125, 'grad_norm': 7.1757121086120605, 'learning_rate': 1.8526785714285716e-05, 'epoch': 2.51}\n",
      "Step: 142\n",
      "Loss: 2.22\n",
      "--------------------------------------------------\n",
      "{'loss': 2.22, 'grad_norm': 7.272170543670654, 'learning_rate': 1.8303571428571427e-05, 'epoch': 2.52}\n",
      "Step: 143\n",
      "Loss: 2.1677\n",
      "--------------------------------------------------\n",
      "{'loss': 2.1677, 'grad_norm': 7.389448165893555, 'learning_rate': 1.8080357142857144e-05, 'epoch': 2.54}\n",
      "Step: 144\n",
      "Loss: 2.2204\n",
      "--------------------------------------------------\n",
      "{'loss': 2.2204, 'grad_norm': 7.492499828338623, 'learning_rate': 1.785714285714286e-05, 'epoch': 2.56}\n",
      "Step: 145\n",
      "Loss: 2.3568\n",
      "--------------------------------------------------\n",
      "{'loss': 2.3568, 'grad_norm': 8.21844482421875, 'learning_rate': 1.7633928571428573e-05, 'epoch': 2.58}\n",
      "Step: 146\n",
      "Loss: 2.239\n",
      "--------------------------------------------------\n",
      "{'loss': 2.239, 'grad_norm': 6.638844966888428, 'learning_rate': 1.7410714285714287e-05, 'epoch': 2.6}\n",
      "Step: 147\n",
      "Loss: 2.1848\n",
      "--------------------------------------------------\n",
      "{'loss': 2.1848, 'grad_norm': 7.403167247772217, 'learning_rate': 1.71875e-05, 'epoch': 2.61}\n",
      "Step: 148\n",
      "Loss: 2.3018\n",
      "--------------------------------------------------\n",
      "{'loss': 2.3018, 'grad_norm': 7.199501991271973, 'learning_rate': 1.6964285714285715e-05, 'epoch': 2.63}\n",
      "Step: 149\n",
      "Loss: 2.3026\n",
      "--------------------------------------------------\n",
      "{'loss': 2.3026, 'grad_norm': 7.204347610473633, 'learning_rate': 1.674107142857143e-05, 'epoch': 2.65}\n",
      "Step: 150\n",
      "Loss: 2.2848\n",
      "--------------------------------------------------\n",
      "{'loss': 2.2848, 'grad_norm': 7.23024845123291, 'learning_rate': 1.6517857142857144e-05, 'epoch': 2.67}\n",
      "Step: 151\n",
      "Loss: 2.1794\n",
      "--------------------------------------------------\n",
      "{'loss': 2.1794, 'grad_norm': 7.221367835998535, 'learning_rate': 1.6294642857142858e-05, 'epoch': 2.68}\n",
      "Step: 152\n",
      "Loss: 2.2892\n",
      "--------------------------------------------------\n",
      "{'loss': 2.2892, 'grad_norm': 7.298801422119141, 'learning_rate': 1.6071428571428572e-05, 'epoch': 2.7}\n",
      "Step: 153\n",
      "Loss: 2.3616\n",
      "--------------------------------------------------\n",
      "{'loss': 2.3616, 'grad_norm': 7.0967888832092285, 'learning_rate': 1.5848214285714286e-05, 'epoch': 2.72}\n",
      "Step: 154\n",
      "Loss: 2.2786\n",
      "--------------------------------------------------\n",
      "{'loss': 2.2786, 'grad_norm': 7.486734867095947, 'learning_rate': 1.5625e-05, 'epoch': 2.74}\n",
      "Step: 155\n",
      "Loss: 2.1438\n",
      "--------------------------------------------------\n",
      "{'loss': 2.1438, 'grad_norm': 7.587774276733398, 'learning_rate': 1.5401785714285715e-05, 'epoch': 2.76}\n",
      "Step: 156\n",
      "Loss: 2.2576\n",
      "--------------------------------------------------\n",
      "{'loss': 2.2576, 'grad_norm': 6.896093368530273, 'learning_rate': 1.5178571428571429e-05, 'epoch': 2.77}\n",
      "Step: 157\n",
      "Loss: 2.3255\n",
      "--------------------------------------------------\n",
      "{'loss': 2.3255, 'grad_norm': 7.379148006439209, 'learning_rate': 1.4955357142857143e-05, 'epoch': 2.79}\n",
      "Step: 158\n",
      "Loss: 2.4091\n",
      "--------------------------------------------------\n",
      "{'loss': 2.4091, 'grad_norm': 7.321127891540527, 'learning_rate': 1.4732142857142859e-05, 'epoch': 2.81}\n",
      "Step: 159\n",
      "Loss: 2.2\n",
      "--------------------------------------------------\n",
      "{'loss': 2.2, 'grad_norm': 6.948342800140381, 'learning_rate': 1.4508928571428573e-05, 'epoch': 2.83}\n",
      "Step: 160\n",
      "Loss: 2.2492\n",
      "--------------------------------------------------\n",
      "{'loss': 2.2492, 'grad_norm': 7.176352024078369, 'learning_rate': 1.4285714285714285e-05, 'epoch': 2.84}\n",
      "Step: 161\n",
      "Loss: 2.2442\n",
      "--------------------------------------------------\n",
      "{'loss': 2.2442, 'grad_norm': 7.148053169250488, 'learning_rate': 1.4062500000000001e-05, 'epoch': 2.86}\n",
      "Step: 162\n",
      "Loss: 2.4093\n",
      "--------------------------------------------------\n",
      "{'loss': 2.4093, 'grad_norm': 7.171910285949707, 'learning_rate': 1.3839285714285715e-05, 'epoch': 2.88}\n",
      "Step: 163\n",
      "Loss: 2.3832\n",
      "--------------------------------------------------\n",
      "{'loss': 2.3832, 'grad_norm': 7.146971702575684, 'learning_rate': 1.3616071428571428e-05, 'epoch': 2.9}\n",
      "Step: 164\n",
      "Loss: 2.3018\n",
      "--------------------------------------------------\n",
      "{'loss': 2.3018, 'grad_norm': 7.43715238571167, 'learning_rate': 1.3392857142857144e-05, 'epoch': 2.92}\n",
      "Step: 165\n",
      "Loss: 2.186\n",
      "--------------------------------------------------\n",
      "{'loss': 2.186, 'grad_norm': 7.6471662521362305, 'learning_rate': 1.3169642857142858e-05, 'epoch': 2.93}\n",
      "Step: 166\n",
      "Loss: 2.219\n",
      "--------------------------------------------------\n",
      "{'loss': 2.219, 'grad_norm': 7.234231948852539, 'learning_rate': 1.2946428571428574e-05, 'epoch': 2.95}\n",
      "Step: 167\n",
      "Loss: 2.2117\n",
      "--------------------------------------------------\n",
      "{'loss': 2.2117, 'grad_norm': 7.763905048370361, 'learning_rate': 1.2723214285714285e-05, 'epoch': 2.97}\n",
      "Step: 168\n",
      "Loss: 2.2485\n",
      "--------------------------------------------------\n",
      "{'loss': 2.2485, 'grad_norm': 7.3091535568237305, 'learning_rate': 1.25e-05, 'epoch': 2.99}\n",
      "Step: 169\n",
      "Loss: 2.2419\n",
      "--------------------------------------------------\n",
      "{'loss': 2.2419, 'grad_norm': 7.830387115478516, 'learning_rate': 1.2276785714285715e-05, 'epoch': 3.0}\n",
      "Step: 170\n",
      "Loss: 2.1824\n",
      "--------------------------------------------------\n",
      "{'loss': 2.1824, 'grad_norm': 7.811047554016113, 'learning_rate': 1.2053571428571429e-05, 'epoch': 3.02}\n",
      "Step: 171\n",
      "Loss: 2.1163\n",
      "--------------------------------------------------\n",
      "{'loss': 2.1163, 'grad_norm': 7.007537841796875, 'learning_rate': 1.1830357142857143e-05, 'epoch': 3.04}\n",
      "Step: 172\n",
      "Loss: 2.0845\n",
      "--------------------------------------------------\n",
      "{'loss': 2.0845, 'grad_norm': 6.706785678863525, 'learning_rate': 1.1607142857142857e-05, 'epoch': 3.06}\n",
      "Step: 173\n",
      "Loss: 2.1891\n",
      "--------------------------------------------------\n",
      "{'loss': 2.1891, 'grad_norm': 7.665375232696533, 'learning_rate': 1.1383928571428572e-05, 'epoch': 3.08}\n",
      "Step: 174\n",
      "Loss: 2.3435\n",
      "--------------------------------------------------\n",
      "{'loss': 2.3435, 'grad_norm': 8.108292579650879, 'learning_rate': 1.1160714285714287e-05, 'epoch': 3.09}\n",
      "Step: 175\n",
      "Loss: 2.2632\n",
      "--------------------------------------------------\n",
      "{'loss': 2.2632, 'grad_norm': 7.368544101715088, 'learning_rate': 1.09375e-05, 'epoch': 3.11}\n",
      "Step: 176\n",
      "Loss: 2.2367\n",
      "--------------------------------------------------\n",
      "{'loss': 2.2367, 'grad_norm': 7.513844966888428, 'learning_rate': 1.0714285714285714e-05, 'epoch': 3.13}\n",
      "Step: 177\n",
      "Loss: 2.1371\n",
      "--------------------------------------------------\n",
      "{'loss': 2.1371, 'grad_norm': 7.371371746063232, 'learning_rate': 1.049107142857143e-05, 'epoch': 3.15}\n",
      "Step: 178\n",
      "Loss: 2.4076\n",
      "--------------------------------------------------\n",
      "{'loss': 2.4076, 'grad_norm': 7.111090183258057, 'learning_rate': 1.0267857142857142e-05, 'epoch': 3.16}\n",
      "Step: 179\n",
      "Loss: 2.2232\n",
      "--------------------------------------------------\n",
      "{'loss': 2.2232, 'grad_norm': 7.2039361000061035, 'learning_rate': 1.0044642857142858e-05, 'epoch': 3.18}\n",
      "Step: 180\n",
      "Loss: 2.2864\n",
      "--------------------------------------------------\n",
      "{'loss': 2.2864, 'grad_norm': 7.69727087020874, 'learning_rate': 9.821428571428573e-06, 'epoch': 3.2}\n",
      "Step: 181\n",
      "Loss: 2.2218\n",
      "--------------------------------------------------\n",
      "{'loss': 2.2218, 'grad_norm': 7.568218231201172, 'learning_rate': 9.598214285714287e-06, 'epoch': 3.22}\n",
      "Step: 182\n",
      "Loss: 2.2855\n",
      "--------------------------------------------------\n",
      "{'loss': 2.2855, 'grad_norm': 7.774024963378906, 'learning_rate': 9.375000000000001e-06, 'epoch': 3.24}\n",
      "Step: 183\n",
      "Loss: 2.1039\n",
      "--------------------------------------------------\n",
      "{'loss': 2.1039, 'grad_norm': 6.767519950866699, 'learning_rate': 9.151785714285713e-06, 'epoch': 3.25}\n",
      "Step: 184\n",
      "Loss: 2.1304\n",
      "--------------------------------------------------\n",
      "{'loss': 2.1304, 'grad_norm': 7.371788024902344, 'learning_rate': 8.92857142857143e-06, 'epoch': 3.27}\n",
      "Step: 185\n",
      "Loss: 2.1635\n",
      "--------------------------------------------------\n",
      "{'loss': 2.1635, 'grad_norm': 7.275271892547607, 'learning_rate': 8.705357142857143e-06, 'epoch': 3.29}\n",
      "Step: 186\n",
      "Loss: 2.2267\n",
      "--------------------------------------------------\n",
      "{'loss': 2.2267, 'grad_norm': 7.490077972412109, 'learning_rate': 8.482142857142858e-06, 'epoch': 3.31}\n",
      "Step: 187\n",
      "Loss: 2.1468\n",
      "--------------------------------------------------\n",
      "{'loss': 2.1468, 'grad_norm': 7.411426067352295, 'learning_rate': 8.258928571428572e-06, 'epoch': 3.32}\n",
      "Step: 188\n",
      "Loss: 2.278\n",
      "--------------------------------------------------\n",
      "{'loss': 2.278, 'grad_norm': 7.279369354248047, 'learning_rate': 8.035714285714286e-06, 'epoch': 3.34}\n",
      "Step: 189\n",
      "Loss: 2.1946\n",
      "--------------------------------------------------\n",
      "{'loss': 2.1946, 'grad_norm': 7.3307108879089355, 'learning_rate': 7.8125e-06, 'epoch': 3.36}\n",
      "Step: 190\n",
      "Loss: 2.1364\n",
      "--------------------------------------------------\n",
      "{'loss': 2.1364, 'grad_norm': 6.985494613647461, 'learning_rate': 7.589285714285714e-06, 'epoch': 3.38}\n",
      "Step: 191\n",
      "Loss: 2.2565\n",
      "--------------------------------------------------\n",
      "{'loss': 2.2565, 'grad_norm': 7.016286373138428, 'learning_rate': 7.366071428571429e-06, 'epoch': 3.4}\n",
      "Step: 192\n",
      "Loss: 2.2932\n",
      "--------------------------------------------------\n",
      "{'loss': 2.2932, 'grad_norm': 7.222103118896484, 'learning_rate': 7.142857142857143e-06, 'epoch': 3.41}\n",
      "Step: 193\n",
      "Loss: 2.1838\n",
      "--------------------------------------------------\n",
      "{'loss': 2.1838, 'grad_norm': 7.2641730308532715, 'learning_rate': 6.919642857142858e-06, 'epoch': 3.43}\n",
      "Step: 194\n",
      "Loss: 2.2234\n",
      "--------------------------------------------------\n",
      "{'loss': 2.2234, 'grad_norm': 7.366271495819092, 'learning_rate': 6.696428571428572e-06, 'epoch': 3.45}\n",
      "Step: 195\n",
      "Loss: 2.232\n",
      "--------------------------------------------------\n",
      "{'loss': 2.232, 'grad_norm': 7.188612461090088, 'learning_rate': 6.473214285714287e-06, 'epoch': 3.47}\n",
      "Step: 196\n",
      "Loss: 2.161\n",
      "--------------------------------------------------\n",
      "{'loss': 2.161, 'grad_norm': 7.251321792602539, 'learning_rate': 6.25e-06, 'epoch': 3.48}\n",
      "Step: 197\n",
      "Loss: 2.1706\n",
      "--------------------------------------------------\n",
      "{'loss': 2.1706, 'grad_norm': 7.286083698272705, 'learning_rate': 6.0267857142857145e-06, 'epoch': 3.5}\n",
      "Step: 198\n",
      "Loss: 2.1997\n",
      "--------------------------------------------------\n",
      "{'loss': 2.1997, 'grad_norm': 7.287923336029053, 'learning_rate': 5.803571428571429e-06, 'epoch': 3.52}\n",
      "Step: 199\n",
      "Loss: 2.0765\n",
      "--------------------------------------------------\n",
      "{'loss': 2.0765, 'grad_norm': 7.136188983917236, 'learning_rate': 5.580357142857144e-06, 'epoch': 3.54}\n",
      "Step: 200\n",
      "Loss: 2.162\n",
      "--------------------------------------------------\n",
      "{'loss': 2.162, 'grad_norm': 6.8002777099609375, 'learning_rate': 5.357142857142857e-06, 'epoch': 3.56}\n",
      "Step: 201\n",
      "Loss: 2.206\n",
      "--------------------------------------------------\n",
      "{'loss': 2.206, 'grad_norm': 7.499287128448486, 'learning_rate': 5.133928571428571e-06, 'epoch': 3.57}\n",
      "Step: 202\n",
      "Loss: 2.2668\n",
      "--------------------------------------------------\n",
      "{'loss': 2.2668, 'grad_norm': 7.298619270324707, 'learning_rate': 4.910714285714286e-06, 'epoch': 3.59}\n",
      "Step: 203\n",
      "Loss: 2.1089\n",
      "--------------------------------------------------\n",
      "{'loss': 2.1089, 'grad_norm': 7.399101257324219, 'learning_rate': 4.6875000000000004e-06, 'epoch': 3.61}\n",
      "Step: 204\n",
      "Loss: 2.1759\n",
      "--------------------------------------------------\n",
      "{'loss': 2.1759, 'grad_norm': 7.126091480255127, 'learning_rate': 4.464285714285715e-06, 'epoch': 3.63}\n",
      "Step: 205\n",
      "Loss: 2.2029\n",
      "--------------------------------------------------\n",
      "{'loss': 2.2029, 'grad_norm': 7.333078861236572, 'learning_rate': 4.241071428571429e-06, 'epoch': 3.64}\n",
      "Step: 206\n",
      "Loss: 2.2682\n",
      "--------------------------------------------------\n",
      "{'loss': 2.2682, 'grad_norm': 7.416565418243408, 'learning_rate': 4.017857142857143e-06, 'epoch': 3.66}\n",
      "Step: 207\n",
      "Loss: 2.2541\n",
      "--------------------------------------------------\n",
      "{'loss': 2.2541, 'grad_norm': 7.235500335693359, 'learning_rate': 3.794642857142857e-06, 'epoch': 3.68}\n",
      "Step: 208\n",
      "Loss: 2.0724\n",
      "--------------------------------------------------\n",
      "{'loss': 2.0724, 'grad_norm': 7.039288520812988, 'learning_rate': 3.5714285714285714e-06, 'epoch': 3.7}\n",
      "Step: 209\n",
      "Loss: 2.2732\n",
      "--------------------------------------------------\n",
      "{'loss': 2.2732, 'grad_norm': 7.570045471191406, 'learning_rate': 3.348214285714286e-06, 'epoch': 3.72}\n",
      "Step: 210\n",
      "Loss: 2.189\n",
      "--------------------------------------------------\n",
      "{'loss': 2.189, 'grad_norm': 7.643792152404785, 'learning_rate': 3.125e-06, 'epoch': 3.73}\n",
      "Step: 211\n",
      "Loss: 2.2095\n",
      "--------------------------------------------------\n",
      "{'loss': 2.2095, 'grad_norm': 7.168787002563477, 'learning_rate': 2.9017857142857143e-06, 'epoch': 3.75}\n",
      "Step: 212\n",
      "Loss: 2.1405\n",
      "--------------------------------------------------\n",
      "{'loss': 2.1405, 'grad_norm': 7.361410617828369, 'learning_rate': 2.6785714285714285e-06, 'epoch': 3.77}\n",
      "Step: 213\n",
      "Loss: 2.1587\n",
      "--------------------------------------------------\n",
      "{'loss': 2.1587, 'grad_norm': 7.306184768676758, 'learning_rate': 2.455357142857143e-06, 'epoch': 3.79}\n",
      "Step: 214\n",
      "Loss: 2.174\n",
      "--------------------------------------------------\n",
      "{'loss': 2.174, 'grad_norm': 7.405465126037598, 'learning_rate': 2.2321428571428573e-06, 'epoch': 3.8}\n",
      "Step: 215\n",
      "Loss: 2.1241\n",
      "--------------------------------------------------\n",
      "{'loss': 2.1241, 'grad_norm': 7.341289520263672, 'learning_rate': 2.0089285714285715e-06, 'epoch': 3.82}\n",
      "Step: 216\n",
      "Loss: 2.2088\n",
      "--------------------------------------------------\n",
      "{'loss': 2.2088, 'grad_norm': 7.117705345153809, 'learning_rate': 1.7857142857142857e-06, 'epoch': 3.84}\n",
      "Step: 217\n",
      "Loss: 2.2017\n",
      "--------------------------------------------------\n",
      "{'loss': 2.2017, 'grad_norm': 7.500353813171387, 'learning_rate': 1.5625e-06, 'epoch': 3.86}\n",
      "Step: 218\n",
      "Loss: 2.1128\n",
      "--------------------------------------------------\n",
      "{'loss': 2.1128, 'grad_norm': 7.004854202270508, 'learning_rate': 1.3392857142857143e-06, 'epoch': 3.88}\n",
      "Step: 219\n",
      "Loss: 2.3123\n",
      "--------------------------------------------------\n",
      "{'loss': 2.3123, 'grad_norm': 7.480810642242432, 'learning_rate': 1.1160714285714287e-06, 'epoch': 3.89}\n",
      "Step: 220\n",
      "Loss: 2.1437\n",
      "--------------------------------------------------\n",
      "{'loss': 2.1437, 'grad_norm': 7.703160285949707, 'learning_rate': 8.928571428571428e-07, 'epoch': 3.91}\n",
      "Step: 221\n",
      "Loss: 2.2343\n",
      "--------------------------------------------------\n",
      "{'loss': 2.2343, 'grad_norm': 7.750946044921875, 'learning_rate': 6.696428571428571e-07, 'epoch': 3.93}\n",
      "Step: 222\n",
      "Loss: 2.2019\n",
      "--------------------------------------------------\n",
      "{'loss': 2.2019, 'grad_norm': 7.129385471343994, 'learning_rate': 4.464285714285714e-07, 'epoch': 3.95}\n",
      "Step: 223\n",
      "Loss: 2.1635\n",
      "--------------------------------------------------\n",
      "{'loss': 2.1635, 'grad_norm': 6.975911617279053, 'learning_rate': 2.232142857142857e-07, 'epoch': 3.96}\n",
      "Step: 224\n",
      "Loss: 2.1556\n",
      "--------------------------------------------------\n",
      "{'loss': 2.1556, 'grad_norm': 7.310519695281982, 'learning_rate': 0.0, 'epoch': 3.98}\n",
      "Step: 224\n",
      "Loss: None\n",
      "--------------------------------------------------\n",
      "{'train_runtime': 1467.5074, 'train_samples_per_second': 1.224, 'train_steps_per_second': 0.153, 'train_loss': 2.4330369319234575, 'epoch': 3.98}\n",
      "Model and tokenizer saved to ./fine_tuned_model\n"
     ]
    },
    {
     "data": {
      "image/png": "[encoded data removed]",
      "text/plain": [
       "<Figure size 1500x600 with 1 Axes>"
      ]
     },
     "metadata": {},
     "output_type": "display_data"
    }
   ],
   "source": [
    "train_data  = load_train_data('trainset.csv')\n",
    "test_data   = load_test_data('testset.csv')\n",
    "dataset     = load_dataset('dataset.csv')\n",
    "\n",
    "print(\"Let's go bro!\")\n",
    "\n",
    "model, tokenizer = fine_tune_model(train_data)"
   ]
  },
  {
   "cell_type": "code",
   "execution_count": 70,
   "metadata": {},
   "outputs": [],
   "source": [
    "#find Bleu Score\n",
    "def calculate_bleu(reference, candidate):\n",
    "    reference_tokens = word_tokenize(reference.lower())\n",
    "    candidate_tokens = word_tokenize(candidate.lower())\n",
    "    #smoothie = SmoothingFunction().method4\n",
    "    return sentence_bleu([reference_tokens], candidate_tokens) #, smoothing_function=smoothie\n"
   ]
  },
  {
   "cell_type": "code",
   "execution_count": 71,
   "metadata": {},
   "outputs": [],
   "source": [
    "def evaluate_model(model, tokenizer, test_data, dataset):\n",
    "    generated_stories = []\n",
    "    bleu_scores = []\n",
    "    \n",
    "    for i, words in enumerate(test_data, 1):\n",
    "        story = generate_story(model, tokenizer, words)\n",
    "        generated_stories.append(story)\n",
    "        \n",
    "        matching_row = dataset[\n",
    "            (dataset['word1'] == words[0]) &\n",
    "            (dataset['word2'] == words[1]) &\n",
    "            (dataset['word3'] == words[2]) &\n",
    "            (dataset['word4'] == words[3]) &\n",
    "            (dataset['word5'] == words[4])\n",
    "        ]\n",
    "        \n",
    "        print(f\"\\nTest {i}:\")\n",
    "        print(f\"Input words: {' '.join(words)}\")\n",
    "        print(f\"Generated story: {story}\")\n",
    "        \n",
    "        if not matching_row.empty:\n",
    "            reference_story = matching_row['story'].values[0]\n",
    "            bleu_score = calculate_bleu(reference_story, story)\n",
    "            bleu_scores.append(bleu_score)\n",
    "            print(f\"Reference story: {reference_story}\")\n",
    "            print(f\"BLEU score: {bleu_score:.4f}\")\n",
    "        else:\n",
    "            print(\"Warning: No matching story found in the dataset.\")\n",
    "            bleu_scores.append(None)\n",
    "        \n",
    "        print(\"-\" * 50)\n",
    "    \n",
    "    valid_bleu_scores = [score for score in bleu_scores if score is not None]\n",
    "    average_bleu = np.mean(valid_bleu_scores) if valid_bleu_scores else 0\n",
    "    print(f\"\\nAverage BLEU Score: {average_bleu:.4f}\")\n",
    "    print(f\"Total test cases: {len(test_data)}\")\n",
    "    print(f\"Valid BLEU scores: {len(valid_bleu_scores)}\")\n",
    "    \n",
    "    return generated_stories, bleu_scores"
   ]
  },
  {
   "cell_type": "code",
   "execution_count": 72,
   "metadata": {},
   "outputs": [
    {
     "name": "stderr",
     "output_type": "stream",
     "text": [
      "The attention mask and the pad token id were not set. As a consequence, you may observe unexpected behavior. Please pass your input's `attention_mask` to obtain reliable results.\n",
      "Setting `pad_token_id` to `eos_token_id`:None for open-end generation.\n"
     ]
    },
    {
     "name": "stdout",
     "output_type": "stream",
     "text": [
      "Evaluating model on test set...\n"
     ]
    },
    {
     "name": "stderr",
     "output_type": "stream",
     "text": [
      "The attention mask and the pad token id were not set. As a consequence, you may observe unexpected behavior. Please pass your input's `attention_mask` to obtain reliable results.\n",
      "Setting `pad_token_id` to `eos_token_id`:None for open-end generation.\n"
     ]
    },
    {
     "name": "stdout",
     "output_type": "stream",
     "text": [
      "\n",
      "Test 1:\n",
      "Input words: attorney me parent until participant\n",
      "Generated story: The attorney sat in the courtroom, ready to present evidence. The audience was captivated, and the attorney held a small, small, hand on the hot topic. He was sure that the testimony was important, as he explained the case. The attorney explained the importance of protecting the rights of the individual. The case was unique, and he knew that it could impact the outcome of the election. With each move, the audience began to feel a sense\n",
      "Reference story: The attorney met with me to discuss important family matters. As a parent, I wanted to ensure that my child's best interests were prioritized. Until then, I had only been a passive participant in legal discussions, but I was ready to take an active role. The attorney patiently explained the complexities of custody agreements and the steps involved in navigating the legal system. I felt empowered to ask questions and advocate for my rights, recognizing the importance of being informed in these pivotal moments of life.\n",
      "BLEU score: 0.0000\n",
      "--------------------------------------------------\n"
     ]
    },
    {
     "name": "stderr",
     "output_type": "stream",
     "text": [
      "The attention mask and the pad token id were not set. As a consequence, you may observe unexpected behavior. Please pass your input's `attention_mask` to obtain reliable results.\n",
      "Setting `pad_token_id` to `eos_token_id`:None for open-end generation.\n"
     ]
    },
    {
     "name": "stdout",
     "output_type": "stream",
     "text": [
      "\n",
      "Test 2:\n",
      "Input words: record however popular know television\n",
      "Generated story: It was a day when viewers knew exactly what was coming. The news that the military was preparing to launch a new strategy was a big deal, but it was a reminder that the country needed a new face to unite. The audience could see that the nation was ready to face challenges, and that if they could navigate the complexities of the military's approach, they could break through the walls and become leaders.\n",
      "word1: high word2: leader\n",
      "Reference story: The television record ratings revealed a surprising trend; however, many viewers were unaware of the behind-the-scenes efforts that contributed to this success. Popular shows often relied on dedicated teams of writers, producers, and actors who worked tirelessly to create engaging content. Fans knew their favorite series but often overlooked the collaborative nature of television production. As the industry evolved, audiences began to appreciate the artistry involved, leading to a deeper connection with the stories being told on screen. Understanding this made their viewing experience even richer.\n",
      "BLEU score: 0.0000\n",
      "--------------------------------------------------\n"
     ]
    },
    {
     "name": "stderr",
     "output_type": "stream",
     "text": [
      "The attention mask and the pad token id were not set. As a consequence, you may observe unexpected behavior. Please pass your input's `attention_mask` to obtain reliable results.\n",
      "Setting `pad_token_id` to `eos_token_id`:None for open-end generation.\n"
     ]
    },
    {
     "name": "stdout",
     "output_type": "stream",
     "text": [
      "\n",
      "Test 3:\n",
      "Input words: raise per night rule group\n",
      "Generated story: They set a goal to raise the bar for the night. The group sought to raise awareness and create a safe environment for everyone. This effort encouraged collaboration, ensuring a safe and supportive atmosphere. The goal was to raise $1,000 to create a space where everyone could enjoy their evening.\n",
      "word1: take word2: set word3: night word4: set story: The night was set for a night filled with laughter and contemplation.\n",
      "Reference story: In the meeting room, a group gathered to discuss fundraising strategies to raise money for local charities. Per night, they aimed to organize events that could draw in the community, fostering a spirit of giving. They knew the rule was to create engaging experiences that would inspire generosity. Ideas ranged from charity auctions to fun runs, each designed to bring people together for a common cause. With enthusiasm and creativity, they set forth to plan events that would not only raise funds but also strengthen community bonds.\n",
      "BLEU score: 0.0000\n",
      "--------------------------------------------------\n"
     ]
    },
    {
     "name": "stderr",
     "output_type": "stream",
     "text": [
      "The attention mask and the pad token id were not set. As a consequence, you may observe unexpected behavior. Please pass your input's `attention_mask` to obtain reliable results.\n",
      "Setting `pad_token_id` to `eos_token_id`:None for open-end generation.\n"
     ]
    },
    {
     "name": "stdout",
     "output_type": "stream",
     "text": [
      "\n",
      "Test 4:\n",
      "Input words: project he store chance amount\n",
      "Generated story: In the heart of the city, the family had a hard time keeping up with their chores. They had to go to work every day, and they had to work hard to keep up. This was their first project, and it was a dream come true. However, it was clear they had missed out on the potential. The project faced deadlines, and their dreams were dashed. Their dreams were ruined, but they knew that whatever happened, they would\n",
      "Reference story: He was excited about the new project at the local store, which aimed to support small businesses. They saw it as a chance to showcase local artisans and makers, bringing a fresh perspective to the shopping experience. The amount of talent in the community was staggering, and the store hoped to highlight unique products that often went unnoticed. This initiative encouraged customers to explore and appreciate the creativity surrounding them. By supporting local entrepreneurs, they hoped to foster a vibrant market that benefited everyone involved.\n",
      "BLEU score: 0.0000\n",
      "--------------------------------------------------\n"
     ]
    },
    {
     "name": "stderr",
     "output_type": "stream",
     "text": [
      "The attention mask and the pad token id were not set. As a consequence, you may observe unexpected behavior. Please pass your input's `attention_mask` to obtain reliable results.\n",
      "Setting `pad_token_id` to `eos_token_id`:None for open-end generation.\n"
     ]
    },
    {
     "name": "stdout",
     "output_type": "stream",
     "text": [
      "\n",
      "Test 5:\n",
      "Input words: activity send important treat wind\n",
      "Generated story: The evening sun shone brightly on the small town, as people gathered for their evening festivities. They gathered around a fire, watching the stars rise and fall, mingling with the stars. The warmth of the evening brought a sense of unity, reminding everyone that despite the darkness, they had a purpose.\n",
      "word1: often word2: word3: many word4: about word5: certainly story: The story of many people who often came\n",
      "Reference story: As the wind whipped through the trees, the children engaged in an outdoor activity that was both important and fun. They decided to send colorful kites soaring into the sky, treating themselves to a delightful afternoon of play. Each kite danced gracefully, painting the blue canvas above with vibrant colors. Parents watched proudly, cherishing the moments of laughter and joy. Such activities reminded everyone of the simple pleasures in life and the importance of connecting with nature, creating cherished memories that would last a lifetime.\n",
      "BLEU score: 0.0000\n",
      "--------------------------------------------------\n"
     ]
    },
    {
     "name": "stderr",
     "output_type": "stream",
     "text": [
      "The attention mask and the pad token id were not set. As a consequence, you may observe unexpected behavior. Please pass your input's `attention_mask` to obtain reliable results.\n",
      "Setting `pad_token_id` to `eos_token_id`:None for open-end generation.\n"
     ]
    },
    {
     "name": "stdout",
     "output_type": "stream",
     "text": [
      "\n",
      "Test 6:\n",
      "Input words: animal give billion race its\n",
      "Generated story: The world's largest animal welfare organization is urging the community to support animals in their daily lives. With more than 500 million animals in the world, the animal rights organization is committed to promoting sustainable farming practices. The goal is to ensure that animals are protected from the hands of predators, ensuring they can thrive on their potential.\n",
      "word1: dog word2: in word3: human word4: just word5: in story: In a world\n",
      "Reference story: The documentary highlighted the plight of endangered animals, aiming to give a voice to those who could not speak for themselves. With a billion dollars allocated for conservation efforts, organizations raced against time to protect habitats and species at risk. Its impact was crucial; awareness campaigns encouraged viewers to take action in their communities. As the film unfolded, it showcased the beauty of wildlife and the urgent need for preservation. Audiences left inspired, motivated to contribute to the cause and safeguard the planet for future generations.\n",
      "BLEU score: 0.0000\n",
      "--------------------------------------------------\n"
     ]
    },
    {
     "name": "stderr",
     "output_type": "stream",
     "text": [
      "The attention mask and the pad token id were not set. As a consequence, you may observe unexpected behavior. Please pass your input's `attention_mask` to obtain reliable results.\n",
      "Setting `pad_token_id` to `eos_token_id`:None for open-end generation.\n"
     ]
    },
    {
     "name": "stdout",
     "output_type": "stream",
     "text": [
      "\n",
      "Test 7:\n",
      "Input words: remember turn big walk reveal\n",
      "Generated story: In the bustling city, a small town was bustling with visitors. The sun shone brightly, but it was clear that the community had grown more and more engaged with the city's struggles. With a sense of community pride, they decided to celebrate the day and make a big statement about the future. With smiles and smiles, they left the streets, ready to celebrate their past. The atmosphere was festive, with people dancing and celebrating their achievements, reminiscing\n",
      "Reference story: As we remember the big moments in life, sometimes we must turn to those quiet walks in nature. Each step reveals a story, and as the trees sway, memories flood back. The importance of these reflections lies in their ability to ground us, reminding us of our roots and the journey we’ve taken. Amidst the hustle and bustle, it’s vital to find moments of peace. Whether it’s a walk alone or with loved ones, those tranquil times help clarify our thoughts and strengthen our connections with ourselves and others.\n",
      "BLEU score: 0.0000\n",
      "--------------------------------------------------\n"
     ]
    },
    {
     "name": "stderr",
     "output_type": "stream",
     "text": [
      "The attention mask and the pad token id were not set. As a consequence, you may observe unexpected behavior. Please pass your input's `attention_mask` to obtain reliable results.\n",
      "Setting `pad_token_id` to `eos_token_id`:None for open-end generation.\n"
     ]
    },
    {
     "name": "stdout",
     "output_type": "stream",
     "text": [
      "\n",
      "Test 8:\n",
      "Input words: accept partner adult four day\n",
      "Generated story: The partner in the household had been working hard for a long time, but he couldn’t help but feel a little uneasy. The four-day work schedule was a burden on him, but his focus was on improving his physical condition and mental well-being. The day was just beginning, but the tension was palpable. The partner felt a sense of responsibility for his wellbeing, knowing that if they could work together, they could create a brighter\n",
      "Reference story: As an adult, it became increasingly important to accept that partnerships require effort and understanding. The couple had four busy days ahead, filled with responsibilities and decisions. They knew that communication was key to navigating challenges together. Balancing work, personal lives, and time for each other demanded focus and dedication. Despite the chaos, they were committed to nurturing their relationship, realizing that every day presented opportunities to strengthen their bond. With love and patience, they approached their partnership as a continuous journey of growth and discovery.\n",
      "BLEU score: 0.0000\n",
      "--------------------------------------------------\n"
     ]
    },
    {
     "name": "stderr",
     "output_type": "stream",
     "text": [
      "The attention mask and the pad token id were not set. As a consequence, you may observe unexpected behavior. Please pass your input's `attention_mask` to obtain reliable results.\n",
      "Setting `pad_token_id` to `eos_token_id`:None for open-end generation.\n"
     ]
    },
    {
     "name": "stdout",
     "output_type": "stream",
     "text": [
      "\n",
      "Test 9:\n",
      "Input words: despite author realize its beat\n",
      "Generated story: It wasn’t just about the money\n",
      "word1: local\n",
      "word2: even though they knew\n",
      "word3: education word4: even word5: change story: Even though they were always in charge, even though their lives were different, their education was still a key to their success. As they learned new skills, they were inspired to adapt and embrace change.\n",
      "word4: the word5 story: the story: In\n",
      "Reference story: Despite facing numerous setbacks, the author continued to push through, determined to complete their novel. As the deadline approached, they began to realize the weight of their story's impact; it could resonate with many. Each character, each chapter beat with life, and the narrative flowed with honesty. The journey had been arduous, but the satisfaction of bringing their vision to life outweighed the struggles. They embraced the challenges as part of the process, knowing that their perseverance would ultimately lead to a rewarding experience for both themselves and their readers.\n",
      "BLEU score: 0.0000\n",
      "--------------------------------------------------\n"
     ]
    },
    {
     "name": "stderr",
     "output_type": "stream",
     "text": [
      "The attention mask and the pad token id were not set. As a consequence, you may observe unexpected behavior. Please pass your input's `attention_mask` to obtain reliable results.\n",
      "Setting `pad_token_id` to `eos_token_id`:None for open-end generation.\n"
     ]
    },
    {
     "name": "stdout",
     "output_type": "stream",
     "text": [
      "\n",
      "Test 10:\n",
      "Input words: mind past majority boy project\n",
      "Generated story: The boy took the project seriously, as his project had been a success. The project team had been pushing the boundaries of academic excellence, and the team was committed to making it a reality. They had to maintain the integrity of their work, recognizing that collaboration could lead to greatness.\n",
      "word1: word2: above word3: that word4: high word5: to story: The high school student stood on the high school campus, and\n",
      "Reference story: In the quiet town, a boy's project aimed to explore the past through interviews with the majority of the townsfolk. His mind was set on uncovering stories that shaped their community, bringing history to life. As he listened to tales of resilience and triumph, he realized the importance of preserving these narratives for future generations. Each conversation enriched his understanding of the town's roots, weaving a tapestry of shared experiences. This project ignited a passion for storytelling in him, one that he would carry forward throughout his life.\n",
      "BLEU score: 0.0000\n",
      "--------------------------------------------------\n"
     ]
    },
    {
     "name": "stderr",
     "output_type": "stream",
     "text": [
      "The attention mask and the pad token id were not set. As a consequence, you may observe unexpected behavior. Please pass your input's `attention_mask` to obtain reliable results.\n",
      "Setting `pad_token_id` to `eos_token_id`:None for open-end generation.\n"
     ]
    },
    {
     "name": "stdout",
     "output_type": "stream",
     "text": [
      "\n",
      "Test 11:\n",
      "Input words: continue people need side official\n",
      "Generated story: In the midst of negotiations, a final agreement was reached, allowing the team to continue building upon their partnership. As they prepared to leave, they realized that their work was not only about building relationships but also about building trust. The discussions were aimed at building trust in each other, and it was clear that this was not just about making a difference but about creating a lasting connection.\n",
      "word1: stop word2: about word3: by word\n",
      "Reference story: As discussions continued, people began to voice their need for official policies that supported mental health initiatives. They recognized the importance of addressing these issues, not just on a personal level but as a community. With every voice added to the conversation, the momentum grew, emphasizing the need for change. On one side, advocates pushed for more resources, while officials listened intently, aware of the responsibility they held. Together, they worked to create a framework that prioritized well-being, ensuring a brighter future for all.\n",
      "BLEU score: 0.0000\n",
      "--------------------------------------------------\n"
     ]
    },
    {
     "name": "stderr",
     "output_type": "stream",
     "text": [
      "The attention mask and the pad token id were not set. As a consequence, you may observe unexpected behavior. Please pass your input's `attention_mask` to obtain reliable results.\n",
      "Setting `pad_token_id` to `eos_token_id`:None for open-end generation.\n"
     ]
    },
    {
     "name": "stdout",
     "output_type": "stream",
     "text": [
      "\n",
      "Test 12:\n",
      "Input words: whom western debate life water\n",
      "Generated story: The debate over the role of the water in sustainable development was lively, with many people engaging in the discussion. The discussion focused on the role the water play in ecosystem health, highlighting the importance of conserving water resources. Advocates argued that the debate highlighted the importance that environmental protection could play in promoting sustainable practices. The discussions fostered a sense of responsibility among participants, reminding them that sustainability and conservation are essential for everyone, whether they live in a\n",
      "Reference story: In the western region, a heated debate arose over water rights, impacting the lives of many residents. Farmers, environmentalists, and officials gathered to discuss whom the resources truly belonged to and how they should be allocated. Life in the area depended heavily on access to water, making this issue crucial. As tensions rose, participants expressed their concerns passionately, seeking solutions that balanced needs while respecting the environment. The discussions were intense, but the collective goal remained clear: to find a sustainable path forward for the community.\n",
      "BLEU score: 0.0000\n",
      "--------------------------------------------------\n"
     ]
    },
    {
     "name": "stderr",
     "output_type": "stream",
     "text": [
      "The attention mask and the pad token id were not set. As a consequence, you may observe unexpected behavior. Please pass your input's `attention_mask` to obtain reliable results.\n",
      "Setting `pad_token_id` to `eos_token_id`:None for open-end generation.\n"
     ]
    },
    {
     "name": "stdout",
     "output_type": "stream",
     "text": [
      "\n",
      "Test 13:\n",
      "Input words: claim say shoulder herself conference\n",
      "Generated story: In the conference room, the group of executives gathered to discuss the next steps in the company's growth. The focus was on securing the best product for everyone, ensuring that every aspect of the business was aligned with their vision. The leaders discussed strategies and strategies to support their vision for the future. They discussed the challenges ahead, emphasizing that innovation was key to success. Each member shared their thoughts on how to respond to new opportunities. They focused on building\n",
      "Reference story: During the conference, she made a bold claim that self-care should be a priority in today's fast-paced world. She stood confidently, sharing her journey and emphasizing the importance of prioritizing one’s well-being. As she spoke, her message resonated deeply with the audience, many of whom carried the weight of their responsibilities on their shoulders. She encouraged everyone to treat themselves with kindness and compassion, reminding them that it was okay to seek help. Her empowering words sparked discussions on mental health and self-acceptance among participants.\n",
      "BLEU score: 0.0000\n",
      "--------------------------------------------------\n"
     ]
    },
    {
     "name": "stderr",
     "output_type": "stream",
     "text": [
      "The attention mask and the pad token id were not set. As a consequence, you may observe unexpected behavior. Please pass your input's `attention_mask` to obtain reliable results.\n",
      "Setting `pad_token_id` to `eos_token_id`:None for open-end generation.\n"
     ]
    },
    {
     "name": "stdout",
     "output_type": "stream",
     "text": [
      "\n",
      "Test 14:\n",
      "Input words: father into response player case\n",
      "Generated story: The father felt the importance of the outcome of the case, and decided to pursue legal action to prevent a father from losing his job.\n",
      "word1: stand word2: have word3: go word4: rule word5: say story: The stand-up artist stood by his principles and made sure his work was always recognized. He had a clear understanding of the legal system and a passion for art that could make anyone laugh. He was\n",
      "Reference story: Her father had always been her biggest supporter, especially when it came to his daughter's dreams of becoming a professional player. His response to her aspirations was filled with encouragement, and he often attended her games, cheering her on from the sidelines. In every case, he made an effort to be involved, believing that his presence would boost her confidence. She appreciated his unwavering belief in her potential, and this motivated her to push through challenges. With each match, she felt a deep connection to her father, understanding that his support was invaluable in her journey.\n",
      "BLEU score: 0.0000\n",
      "--------------------------------------------------\n"
     ]
    },
    {
     "name": "stderr",
     "output_type": "stream",
     "text": [
      "The attention mask and the pad token id were not set. As a consequence, you may observe unexpected behavior. Please pass your input's `attention_mask` to obtain reliable results.\n",
      "Setting `pad_token_id` to `eos_token_id`:None for open-end generation.\n"
     ]
    },
    {
     "name": "stdout",
     "output_type": "stream",
     "text": [
      "\n",
      "Test 15:\n",
      "Input words: decide mother lot face take\n",
      "Generated story: The family was moved to a small town, where they faced challenges and the challenges of living in a small community.\n",
      "word1: she word2: her word3: no word4: need word5: one story: She was able to answer her needs, knowing that every decision she made was necessary.\n",
      "words1: the word2, word3, word4, word5 story: The town was bustling with people, as everyone\n",
      "Reference story: As she approached graduation, she faced a lot of decisions about her future. Her mother encouraged her to take her time and carefully consider her options. Deciding on a career path was daunting, but with her mother's guidance, she felt less overwhelmed. They spent countless evenings discussing her interests, skills, and dreams. This support helped her gain clarity on what truly mattered to her. With her mother's wisdom by her side, she embraced the unknown, ready to carve out her path in the world.\n",
      "BLEU score: 0.0000\n",
      "--------------------------------------------------\n"
     ]
    },
    {
     "name": "stderr",
     "output_type": "stream",
     "text": [
      "The attention mask and the pad token id were not set. As a consequence, you may observe unexpected behavior. Please pass your input's `attention_mask` to obtain reliable results.\n",
      "Setting `pad_token_id` to `eos_token_id`:None for open-end generation.\n"
     ]
    },
    {
     "name": "stdout",
     "output_type": "stream",
     "text": [
      "\n",
      "Test 16:\n",
      "Input words: large whom wait heart career\n",
      "Generated story: In a small town, a young woman named Anna was inspired by the vibrant atmosphere and beauty of the town. She loved the outdoors, and her adventures inspired her to pursue her dreams. The townspeople knew her passion, and she could do whatever she wanted.\n",
      "word1: old word2: in word3: in story: In the old days, there was a small tradition of sharing stories with the community. People gathered to share stories\n",
      "Reference story: In a large city where dreams often collide, she found herself waiting for an opportunity to launch her career. Whom to approach for guidance was a question that lingered in her mind. With a hopeful heart, she reached out to mentors in her field, seeking advice and support. Each conversation revealed insights that propelled her forward. She learned the importance of networking and building relationships, understanding that success often depends on the connections we make. With determination, she took every chance to step closer to her career goals.\n",
      "BLEU score: 0.0000\n",
      "--------------------------------------------------\n"
     ]
    },
    {
     "name": "stderr",
     "output_type": "stream",
     "text": [
      "The attention mask and the pad token id were not set. As a consequence, you may observe unexpected behavior. Please pass your input's `attention_mask` to obtain reliable results.\n",
      "Setting `pad_token_id` to `eos_token_id`:None for open-end generation.\n"
     ]
    },
    {
     "name": "stdout",
     "output_type": "stream",
     "text": [
      "\n",
      "Test 17:\n",
      "Input words: red require will article begin\n",
      "Generated story: In a world where science was a constant, it was crucial that everyone understood the importance of their contributions. They needed to understand the underlying truths of their respective fields. By the time the deadline came, everyone had made a commitment to the project, and they were eager to work on their next project.\n",
      "word1: find word2: often word3: within word4: not word5: above story: In the spring of 2015, a\n",
      "Reference story: The article highlighted the urgent need for action against climate change, emphasizing that red flags should not be ignored. It will require a collective effort from individuals, businesses, and governments to begin making significant changes. The authors argued that everyone has a role to play, from reducing waste to advocating for sustainable practices. With compelling statistics and real-life examples, the article aimed to inspire readers to take action. The message was clear: it is time to prioritize our planet and make choices that ensure a healthier future for generations to come.\n",
      "BLEU score: 0.0000\n",
      "--------------------------------------------------\n"
     ]
    },
    {
     "name": "stderr",
     "output_type": "stream",
     "text": [
      "The attention mask and the pad token id were not set. As a consequence, you may observe unexpected behavior. Please pass your input's `attention_mask` to obtain reliable results.\n",
      "Setting `pad_token_id` to `eos_token_id`:None for open-end generation.\n"
     ]
    },
    {
     "name": "stdout",
     "output_type": "stream",
     "text": [
      "\n",
      "Test 18:\n",
      "Input words: apply five camera reduce lawyer\n",
      "Generated story: The application process was a huge challenge. The application deadline was close, and it was time for the application process to go live. The lawyer felt like she had worked hard to get the job done, and she knew she had to make a strong case. With her team of experts, she knew that the process was tough, but she couldn’t stop until she was ready.\n",
      "word1: fill word2: approach word3: piece\n",
      "Reference story: She decided to apply for a position that would allow her to combine her passion for photography with her legal expertise. Five years in law school had equipped her with the skills needed to navigate complex legal matters, but her heart still belonged to the camera. She envisioned reducing barriers for artists seeking legal advice, creating a niche that blended both worlds. As a lawyer, she hoped to help creatives protect their work while also capturing their stories through her lens. This unique path reflected her dedication to both justice and art.\n",
      "BLEU score: 0.0000\n",
      "--------------------------------------------------\n"
     ]
    },
    {
     "name": "stderr",
     "output_type": "stream",
     "text": [
      "The attention mask and the pad token id were not set. As a consequence, you may observe unexpected behavior. Please pass your input's `attention_mask` to obtain reliable results.\n",
      "Setting `pad_token_id` to `eos_token_id`:None for open-end generation.\n"
     ]
    },
    {
     "name": "stdout",
     "output_type": "stream",
     "text": [
      "\n",
      "Test 19:\n",
      "Input words: teach foreign itself a indicate\n",
      "Generated story: The language of diplomacy often found expression in the complexities of international relations. The dialogue fostered understanding, fostering trust and collaboration. By emphasizing the importance of dialogue, the teachers taught the value of dialogue and the power of empathy.\n",
      "word1: every word word2: to word3: now word4: to story: Now, a new word emerged: the word5: to describe story: Today, the word to describe the event was much\n",
      "Reference story: The goal of the program was to teach students about foreign cultures in a way that fostered understanding and appreciation. It aimed to indicate the importance of global awareness in today’s interconnected world. A diverse curriculum highlighted various traditions and practices, allowing students to immerse themselves in different perspectives. By engaging in discussions and projects, they learned to appreciate the beauty of diversity. This educational journey not only enriched their knowledge but also prepared them to navigate a multicultural society with empathy and respect.\n",
      "BLEU score: 0.0000\n",
      "--------------------------------------------------\n"
     ]
    },
    {
     "name": "stderr",
     "output_type": "stream",
     "text": [
      "The attention mask and the pad token id were not set. As a consequence, you may observe unexpected behavior. Please pass your input's `attention_mask` to obtain reliable results.\n",
      "Setting `pad_token_id` to `eos_token_id`:None for open-end generation.\n"
     ]
    },
    {
     "name": "stdout",
     "output_type": "stream",
     "text": [
      "\n",
      "Test 20:\n",
      "Input words: none ability mother sit much\n",
      "Generated story: The mother sat by the stove while her daughter sat by her bed. The only thing she was able to do was watch the TV. It was a simple task, but it made her feel better. The baby sat quietly, waiting for the day to come.\n",
      "word1: more word2: day word3: about word4: not word5: about story: The day was about to get very cold. The weather was not as bad\n",
      "Reference story: Despite her mother’s initial doubts, she realized that none of her fears were insurmountable. She had the ability to overcome obstacles, even when they seemed overwhelming. Sitting down to reflect, she acknowledged how much she had grown over the years. Each challenge had shaped her resilience, teaching her valuable lessons about perseverance. Her mother’s support, though sometimes cautious, was a reminder that she was never alone in her journey. Embracing her strength, she felt empowered to pursue her dreams with confidence.\n",
      "BLEU score: 0.0000\n",
      "--------------------------------------------------\n"
     ]
    },
    {
     "name": "stderr",
     "output_type": "stream",
     "text": [
      "The attention mask and the pad token id were not set. As a consequence, you may observe unexpected behavior. Please pass your input's `attention_mask` to obtain reliable results.\n",
      "Setting `pad_token_id` to `eos_token_id`:None for open-end generation.\n"
     ]
    },
    {
     "name": "stdout",
     "output_type": "stream",
     "text": [
      "\n",
      "Test 21:\n",
      "Input words: while situation class fact design\n",
      "Generated story: while waiting for the class to finish, the students gathered at the table. They were encouraged to bring their creativity and creativity to the table, showcasing their skills. The class was a showcase of creativity and skill in their respective fields.\n",
      "word1: while word2: from word3: a word4: that word5: above story: With a few exceptions, the top students were above the fray. They had learned to appreciate the importance of\n",
      "Reference story: While studying design, she found herself captivated by the way situations could influence a product's appeal. The class delved into the facts behind consumer behavior, revealing how emotions play a critical role in decision-making. She learned that successful designs not only meet functional needs but also resonate with users on a deeper level. This understanding inspired her to create products that tell stories and evoke feelings. By merging aesthetics with empathy, she aimed to develop designs that truly connect with people.\n",
      "BLEU score: 0.0000\n",
      "--------------------------------------------------\n"
     ]
    },
    {
     "name": "stderr",
     "output_type": "stream",
     "text": [
      "The attention mask and the pad token id were not set. As a consequence, you may observe unexpected behavior. Please pass your input's `attention_mask` to obtain reliable results.\n",
      "Setting `pad_token_id` to `eos_token_id`:None for open-end generation.\n"
     ]
    },
    {
     "name": "stdout",
     "output_type": "stream",
     "text": [
      "\n",
      "Test 22:\n",
      "Input words: according great black you cultural\n",
      "Generated story: The music was captivating and the visuals resonated with the audience\n",
      "word1: to word2: while word3: over word4: above word5: within story: while the audience was in awe they were encouraged to share their experiences\n",
      "word2: as word3 word4, rather word5 story: The moment brought a sense of unity\n",
      "word5: at word6: word story: As the audience sat on the edge of\n",
      "Reference story: According to recent studies, there is a great need to celebrate cultural diversity, particularly within the black community. You could see the impact of representation in various industries, highlighting the importance of acknowledging and uplifting diverse voices. Festivals, art shows, and educational programs emerged as platforms for expression and connection. Communities rallied together to share their heritage, fostering pride and unity. This cultural renaissance encouraged everyone to embrace their identities, enriching the fabric of society as a whole.\n",
      "BLEU score: 0.0000\n",
      "--------------------------------------------------\n"
     ]
    },
    {
     "name": "stderr",
     "output_type": "stream",
     "text": [
      "The attention mask and the pad token id were not set. As a consequence, you may observe unexpected behavior. Please pass your input's `attention_mask` to obtain reliable results.\n",
      "Setting `pad_token_id` to `eos_token_id`:None for open-end generation.\n"
     ]
    },
    {
     "name": "stdout",
     "output_type": "stream",
     "text": [
      "\n",
      "Test 23:\n",
      "Input words: prepare one force top everybody\n",
      "Generated story: In the heat of battle, a member of the military gathered to prepare for battle. Their mission was simple: to ensure that every unit was ready for the next battle. They worked tirelessly to prepare every detail for any potential threat. Their dedication to teamwork and their dedication to their mission inspired them to continue their efforts, proving once again that they were above the odds.\n",
      "word1: to word2: to story: The word was coming out of\n",
      "Reference story: In preparation for the upcoming event, organizers were determined to create an experience that would be a top-notch celebration. Everybody had a role to play, from volunteers to vendors, ensuring that every detail was carefully considered. They understood that it would take a force of collaboration to bring their vision to life. With passion and commitment, they worked tirelessly to coordinate activities, performances, and logistics. The collective effort reflected their dedication to making the event a memorable occasion for all attendees.\n",
      "BLEU score: 0.0612\n",
      "--------------------------------------------------\n"
     ]
    },
    {
     "name": "stderr",
     "output_type": "stream",
     "text": [
      "The attention mask and the pad token id were not set. As a consequence, you may observe unexpected behavior. Please pass your input's `attention_mask` to obtain reliable results.\n",
      "Setting `pad_token_id` to `eos_token_id`:None for open-end generation.\n"
     ]
    },
    {
     "name": "stdout",
     "output_type": "stream",
     "text": [
      "\n",
      "Test 24:\n",
      "Input words: attorney about recognize business population\n",
      "Generated story: The attorney recognized the challenges of navigating the legal landscape in the new era of digital technology. They aimed to make a difference in the world through dialogue, creating a platform to inspire change and engagement.\n",
      "word1: every word2: many word3: within word4: not word5: certainly story: Every day, the conversation about the future of the legal profession resonated with many. The attorney emphasized that individuals were empowered to shape their own\n",
      "Reference story: The attorney spoke passionately about the need to recognize the evolving landscape of business in a diverse population. She emphasized the importance of inclusive practices that cater to various demographics, highlighting how diversity can drive innovation and success. By understanding the needs of different communities, businesses could create products and services that resonate with broader audiences. Her insights encouraged entrepreneurs to consider how their approaches could foster inclusivity, ultimately benefiting their bottom line while supporting social responsibility.\n",
      "BLEU score: 0.0000\n",
      "--------------------------------------------------\n"
     ]
    },
    {
     "name": "stderr",
     "output_type": "stream",
     "text": [
      "The attention mask and the pad token id were not set. As a consequence, you may observe unexpected behavior. Please pass your input's `attention_mask` to obtain reliable results.\n",
      "Setting `pad_token_id` to `eos_token_id`:None for open-end generation.\n"
     ]
    },
    {
     "name": "stdout",
     "output_type": "stream",
     "text": [
      "\n",
      "Test 25:\n",
      "Input words: consider rest indeed administration want\n",
      "Generated story: As she stood, she faced the cold air, exhausted from her recent work. Her mind was racing, and she wondered what she would find if she were to succeed in her new role. She knew the uncertainty would be present, but she had to be prepared for whatever came next.\n",
      "word1: approach word2: rate word3: a word4: the word5: within story: As they approached the rate at which the world was\n",
      "Reference story: As the administration proposed new policies, they urged everyone to consider the rest of the community's needs. Indeed, it was essential to strike a balance between progress and preservation. Many residents expressed their desire for change, while others wished to maintain the character of the area. The discussions that ensued emphasized the importance of collaboration and compromise. By engaging all voices in the conversation, they hoped to create solutions that would benefit everyone and preserve the unique essence of their neighborhood.\n",
      "BLEU score: 0.0000\n",
      "--------------------------------------------------\n"
     ]
    },
    {
     "name": "stderr",
     "output_type": "stream",
     "text": [
      "The attention mask and the pad token id were not set. As a consequence, you may observe unexpected behavior. Please pass your input's `attention_mask` to obtain reliable results.\n",
      "Setting `pad_token_id` to `eos_token_id`:None for open-end generation.\n"
     ]
    },
    {
     "name": "stdout",
     "output_type": "stream",
     "text": [
      "\n",
      "Test 26:\n",
      "Input words: race become political significant husband\n",
      "Generated story: The marriage has been a defining moment for the couple, and today marks the culmination of that journey. As they celebrated their marriage, they felt a renewed bond, knowing that it was about creating a better future for their children.\n",
      "word1: often word2: big word3: human word3,4: just word5: if story: Sometimes, it's hard to believe that human beings could live peacefully together. But it was also true\n",
      "Reference story: The race for political office had become a significant event in their community, and her husband was among the candidates. She supported him wholeheartedly, understanding the importance of representation. With every campaign stop, they engaged with constituents, discussing their vision for the future. The challenges were numerous, but they faced them together, fostering a sense of unity and hope. As the election drew nearer, their efforts intensified, demonstrating their commitment to effecting positive change for all.\n",
      "BLEU score: 0.0000\n",
      "--------------------------------------------------\n"
     ]
    },
    {
     "name": "stderr",
     "output_type": "stream",
     "text": [
      "The attention mask and the pad token id were not set. As a consequence, you may observe unexpected behavior. Please pass your input's `attention_mask` to obtain reliable results.\n",
      "Setting `pad_token_id` to `eos_token_id`:None for open-end generation.\n"
     ]
    },
    {
     "name": "stdout",
     "output_type": "stream",
     "text": [
      "\n",
      "Test 27:\n",
      "Input words: thing majority pass day low\n",
      "Generated story: As the day progressed, the majority of the residents expressed their gratitude and concern for the progress made. It was a beautiful day, filled with vibrant colors and sounds. It wasn’t just about the weather, but the people’s gratitude for their community’drew in every direction. As the sun began to set, the air was warm and the people were grateful to see the progress they were making. Their sense of hope for\n",
      "Reference story: One thing was clear: the majority of people were eager to pass on the knowledge they had gained over the years. Each day brought new opportunities to learn and grow, and those with low confidence often hesitated to share their insights. However, community initiatives encouraged everyone to participate, fostering a supportive environment. As stories and experiences were exchanged, a sense of camaraderie developed, enriching the lives of all involved. This collective wisdom created a ripple effect, empowering individuals to embrace their voices.\n",
      "BLEU score: 0.0000\n",
      "--------------------------------------------------\n"
     ]
    },
    {
     "name": "stderr",
     "output_type": "stream",
     "text": [
      "The attention mask and the pad token id were not set. As a consequence, you may observe unexpected behavior. Please pass your input's `attention_mask` to obtain reliable results.\n",
      "Setting `pad_token_id` to `eos_token_id`:None for open-end generation.\n"
     ]
    },
    {
     "name": "stdout",
     "output_type": "stream",
     "text": [
      "\n",
      "Test 28:\n",
      "Input words: message add gun much mind\n",
      "Generated story: The story of the gun-smuggling operation unfolded, revealing a complex system of control. The gun was a large, complex machine gun, and the execution was quick and efficient. The operation was carried out with precision, ensuring that every action was scrutinized. The audience watched as the gun was scrutinised and the operation carried on, ensuring every bullet traveled exactly the same.\n",
      "word1: word2: fire word3: about word4\n",
      "Reference story: The message was stark: the rising incidents involving guns demanded urgent attention. In discussions about safety, many shared how much these events weighed on their minds. Community forums were held to address concerns and brainstorm solutions. Participants felt a sense of responsibility to advocate for change, pushing for stricter regulations and educational programs about gun safety. They understood that proactive measures could lead to a safer environment for future generations, igniting a collective determination to tackle the issue head-on.\n",
      "BLEU score: 0.0000\n",
      "--------------------------------------------------\n"
     ]
    },
    {
     "name": "stderr",
     "output_type": "stream",
     "text": [
      "The attention mask and the pad token id were not set. As a consequence, you may observe unexpected behavior. Please pass your input's `attention_mask` to obtain reliable results.\n",
      "Setting `pad_token_id` to `eos_token_id`:None for open-end generation.\n"
     ]
    },
    {
     "name": "stdout",
     "output_type": "stream",
     "text": [
      "\n",
      "Test 29:\n",
      "Input words: majority choice security time apply\n",
      "Generated story: As the vote came down, the majority of citizens wanted to see how the new system would protect their privacy. They organized a rally, organized by their community leaders, to voice their concerns and vote on the merits of the new law. The majority voiced their concerns, urging citizens to join them. As the debate heated up, it became clear that the majority had the right to voice opinions they wished to hear, and the pressure on the administration was palpable\n",
      "Reference story: The majority of individuals faced the difficult choice between pursuing their dreams and ensuring financial security. Many felt pressured to apply for jobs that offered stability, often at the expense of their passions. Time seemed to slip away as responsibilities piled up, leaving little room for creativity. However, some began to explore ways to integrate their interests with their work, realizing that it was possible to find fulfillment in both. This shift in mindset inspired others to take risks and pursue paths that resonated with their true selves.\n",
      "BLEU score: 0.0000\n",
      "--------------------------------------------------\n"
     ]
    },
    {
     "name": "stderr",
     "output_type": "stream",
     "text": [
      "The attention mask and the pad token id were not set. As a consequence, you may observe unexpected behavior. Please pass your input's `attention_mask` to obtain reliable results.\n",
      "Setting `pad_token_id` to `eos_token_id`:None for open-end generation.\n"
     ]
    },
    {
     "name": "stdout",
     "output_type": "stream",
     "text": [
      "\n",
      "Test 30:\n",
      "Input words: spend include discuss city usually\n",
      "Generated story: In a bustling city, a small group gathered to discuss their experiences. The atmosphere was tense and the discussions focused on the needs of the poor and the poor. They discussed their local history and their struggles, hoping to uplift others. The meeting was a celebration of community and understanding. They shared stories about how they found meaning in the city and the challenges they faced. They embraced their differences, knowing that they could make a difference in their communities.\n",
      "Reference story: In planning the city's budget, officials aimed to spend wisely, ensuring that funds would include community needs. They gathered to discuss priorities, seeking input from residents. The goal was to create a plan that would address infrastructure, education, and public safety. Each meeting was an opportunity for citizens to voice their concerns and ideas, fostering a sense of collaboration. They understood that transparency was key to building trust and ensuring that the community's interests were at the forefront of decision-making.\n",
      "BLEU score: 0.0000\n",
      "--------------------------------------------------\n"
     ]
    },
    {
     "name": "stderr",
     "output_type": "stream",
     "text": [
      "The attention mask and the pad token id were not set. As a consequence, you may observe unexpected behavior. Please pass your input's `attention_mask` to obtain reliable results.\n",
      "Setting `pad_token_id` to `eos_token_id`:None for open-end generation.\n"
     ]
    },
    {
     "name": "stdout",
     "output_type": "stream",
     "text": [
      "\n",
      "Test 31:\n",
      "Input words: together word shake bill language\n",
      "Generated story: The bill was a key piece of legislation that would strengthen community institutions. It would allow for education and outreach, ensuring that everyone could benefit from the fruits of the local economy. Together, they would craft a new model for education. Together they would create a platform that fostered creativity and resilience.\n",
      "word1: stand word2: in word3: now word4: trial word5: stay story: Now, the trial began. The new\n",
      "Reference story: As they gathered together, the word of unity resonated among all attendees. They knew that a firm handshake was not just a greeting but a symbol of their commitment to collaboration. The bill they proposed aimed to enhance education, providing resources to teach language skills to children in need. Understanding the importance of communication in a diverse society, they were passionate about breaking down barriers. Together, they forged ahead, believing that with collective efforts, they could create a brighter future for everyone.\n",
      "BLEU score: 0.0492\n",
      "--------------------------------------------------\n"
     ]
    },
    {
     "name": "stderr",
     "output_type": "stream",
     "text": [
      "The attention mask and the pad token id were not set. As a consequence, you may observe unexpected behavior. Please pass your input's `attention_mask` to obtain reliable results.\n",
      "Setting `pad_token_id` to `eos_token_id`:None for open-end generation.\n"
     ]
    },
    {
     "name": "stdout",
     "output_type": "stream",
     "text": [
      "\n",
      "Test 32:\n",
      "Input words: room store position large staff\n",
      "Generated story: In the room, it was hard not to notice a small, loyal customer waiting for a cup. The owner sat down and observed the importance of loyalty in their business. She was committed to maintaining high standards and keeping customers satisfied. Employees shared stories, showing how loyal customers felt. It was a testament to how loyal they were to their business and the community.\n",
      "word1: car word2: in word3: many word4: just word\n",
      "Reference story: The room was filled with excitement as the staff gathered in the store for the weekly meeting. Everyone was eager to discuss their positions and share ideas on how to improve sales. The large space allowed for an open dialogue, making it easy for everyone to contribute. Staff members brought forward suggestions on new products to stock and ways to enhance customer experience. This collaborative approach fostered a sense of community within the team, encouraging them to work together towards common goals.\n",
      "BLEU score: 0.0000\n",
      "--------------------------------------------------\n"
     ]
    },
    {
     "name": "stderr",
     "output_type": "stream",
     "text": [
      "The attention mask and the pad token id were not set. As a consequence, you may observe unexpected behavior. Please pass your input's `attention_mask` to obtain reliable results.\n",
      "Setting `pad_token_id` to `eos_token_id`:None for open-end generation.\n"
     ]
    },
    {
     "name": "stdout",
     "output_type": "stream",
     "text": [
      "\n",
      "Test 33:\n",
      "Input words: sort improve short only join\n",
      "Generated story: In the bustling city of New York, a woman named Sallie, a sort of middle-aged woman, began to search for a new career. Her dreams of becoming a professional were dashed, however, as she remained focused on her journey, focusing on her dreams. As she faced obstacles, she learned to navigate her way forward, guiding others toward success.\n",
      "word1: buy word2: save word3: like word4: be\n",
      "Reference story: They needed to sort through the feedback from their latest project to identify areas to improve. With a short timeframe to make changes, the team decided to join forces and brainstorm solutions. They focused on the most pressing issues, prioritizing which elements to tackle first. By collaborating closely, they aimed to create a more effective outcome, knowing that their combined efforts could lead to significant improvements in the final product.\n",
      "BLEU score: 0.0000\n",
      "--------------------------------------------------\n"
     ]
    },
    {
     "name": "stderr",
     "output_type": "stream",
     "text": [
      "The attention mask and the pad token id were not set. As a consequence, you may observe unexpected behavior. Please pass your input's `attention_mask` to obtain reliable results.\n",
      "Setting `pad_token_id` to `eos_token_id`:None for open-end generation.\n"
     ]
    },
    {
     "name": "stdout",
     "output_type": "stream",
     "text": [
      "\n",
      "Test 34:\n",
      "Input words: increase hot benefit city bit\n",
      "Generated story: In a world of globalization, the benefits of travel came first. Travel was crucial for many countries, but for those who wanted to stay longer, it was essential. The capital city was bustling with tourists, bustling with food and entertainment. The bustling streets were bustling with art and art, and the warmth of the capital hung in the air.\n",
      "word1: break word2: to word3: every word4: in word5: new story\n",
      "Reference story: To increase public awareness about the new recycling initiative, the city launched a hot campaign that highlighted the environmental benefits. They organized community events and distributed flyers, aiming to reach a bit more of the population each day. The goal was to encourage residents to participate actively in sustainability efforts. By showcasing success stories and offering incentives, the city hoped to create lasting change in how its citizens approached waste management.\n",
      "BLEU score: 0.0000\n",
      "--------------------------------------------------\n"
     ]
    },
    {
     "name": "stderr",
     "output_type": "stream",
     "text": [
      "The attention mask and the pad token id were not set. As a consequence, you may observe unexpected behavior. Please pass your input's `attention_mask` to obtain reliable results.\n",
      "Setting `pad_token_id` to `eos_token_id`:None for open-end generation.\n"
     ]
    },
    {
     "name": "stdout",
     "output_type": "stream",
     "text": [
      "\n",
      "Test 35:\n",
      "Input words: enough lay pretty above now\n",
      "Generated story: The story of the new neighborhood was inspiring, with residents sharing stories about how it transformed their neighborhood. The development envisioned a new community center, with a new art gallery and a new plaza. The community felt empowered to create their own projects, and they were ready to take the next step.\n",
      "word1: more word2: in word3: need word4: for word5: future story: In a bustling city, a new industry was\n",
      "Reference story: They had enough resources to lay the groundwork for their new initiative, which was aimed at improving community health. The project looked pretty promising, with support from local organizations and volunteers. Above all, they understood the urgency of addressing health disparities in the area, so they decided to move forward now. The team was optimistic about making a difference in their community.\n",
      "BLEU score: 0.0000\n",
      "--------------------------------------------------\n"
     ]
    },
    {
     "name": "stderr",
     "output_type": "stream",
     "text": [
      "The attention mask and the pad token id were not set. As a consequence, you may observe unexpected behavior. Please pass your input's `attention_mask` to obtain reliable results.\n",
      "Setting `pad_token_id` to `eos_token_id`:None for open-end generation.\n"
     ]
    },
    {
     "name": "stdout",
     "output_type": "stream",
     "text": [
      "\n",
      "Test 36:\n",
      "Input words: almost simple responsibility commercial during\n",
      "Generated story: After a small presentation, the group decided to present a simple idea that would make the media laugh. They had to explain the importance of responsibility in the world, especially in the media landscape. They brainstormed ideas that would unite audiences and create awareness. The audience was excited, eager to hear their ideas.\n",
      "word1: many word2: more word3: word4: many story: The many voices expressing their opinions often led to controversies.\n",
      "Reference story: The task seemed almost too simple, but the responsibility was significant. During the commercial shoot, every detail mattered. They had to ensure that the message resonated with their audience while showcasing the product effectively. The crew worked diligently, understanding that this advertisement could impact sales dramatically. Each member played a crucial role, contributing their expertise to create a polished final product.\n",
      "BLEU score: 0.0473\n",
      "--------------------------------------------------\n"
     ]
    },
    {
     "name": "stderr",
     "output_type": "stream",
     "text": [
      "The attention mask and the pad token id were not set. As a consequence, you may observe unexpected behavior. Please pass your input's `attention_mask` to obtain reliable results.\n",
      "Setting `pad_token_id` to `eos_token_id`:None for open-end generation.\n"
     ]
    },
    {
     "name": "stdout",
     "output_type": "stream",
     "text": [
      "\n",
      "Test 37:\n",
      "Input words: less realize month eye light\n",
      "Generated story: less realized month day\n",
      "word1: word2: from word3: to word4: present word5: at story: from story: the event was about to occur at the end of the month, and it was a rare opportunity to present a new idea. They were inspired by the beautiful surroundings, the vibrant colors of the countryside, and the chance to experience a new perspective. The result was a celebration of art and culture, showcasing some\n",
      "Reference story: After a month of hard work, they began to realize how much they had grown. With every challenge, they kept their eyes on the prize, motivated by the light at the end of the tunnel. They knew that less focus on minor setbacks and more attention to their progress would help them achieve their goals. This perspective shifted their approach, fostering resilience and determination within the team.\n",
      "BLEU score: 0.0664\n",
      "--------------------------------------------------\n"
     ]
    },
    {
     "name": "stderr",
     "output_type": "stream",
     "text": [
      "The attention mask and the pad token id were not set. As a consequence, you may observe unexpected behavior. Please pass your input's `attention_mask` to obtain reliable results.\n",
      "Setting `pad_token_id` to `eos_token_id`:None for open-end generation.\n"
     ]
    },
    {
     "name": "stdout",
     "output_type": "stream",
     "text": [
      "\n",
      "Test 38:\n",
      "Input words: painting easy amount picture set\n",
      "Generated story: The artist took a picture of a painting and decided to go with the simple approach. He wanted to create a picture that felt more natural than the typical. He chose a simple line, focusing on detail and beauty. He created a beautiful painting, with a simple, yet beautiful, connection to the viewer.\n",
      "word1: age word2: change word3: from word4: not word5: next story: The age of change in the\n",
      "Reference story: Creating the mural was an easy task once they decided on the picture to paint. They agreed on a vibrant design that would resonate with the community, aiming to set a positive tone for the neighborhood. The amount of collaboration involved in bringing their vision to life strengthened their bond as a team. Each stroke of the brush represented their commitment to creating a beautiful, inspiring space.\n",
      "BLEU score: 0.0000\n",
      "--------------------------------------------------\n"
     ]
    },
    {
     "name": "stderr",
     "output_type": "stream",
     "text": [
      "The attention mask and the pad token id were not set. As a consequence, you may observe unexpected behavior. Please pass your input's `attention_mask` to obtain reliable results.\n",
      "Setting `pad_token_id` to `eos_token_id`:None for open-end generation.\n"
     ]
    },
    {
     "name": "stdout",
     "output_type": "stream",
     "text": [
      "\n",
      "Test 39:\n",
      "Input words: past per everything project film\n",
      "Generated story: The past perceptive team made every decision carefully, knowing that they had to execute every detail carefully. They knew that knowing their project was coming to an end would lead to a serious setback. They planned to film the final product after the deadline, but the pressure was so high, it was difficult to watch the outcome unfold.\n",
      "word1: in word2: word3: for word4: head word5: how word6: in story\n",
      "Reference story: Looking back at the past, they realized how much they had learned per project. Each film they produced taught them valuable lessons about storytelling and collaboration. Everything came together in the end, creating a cohesive narrative that resonated with their audience. They felt proud of their growth and were excited about the future of their creative endeavors.\n",
      "BLEU score: 0.0000\n",
      "--------------------------------------------------\n"
     ]
    },
    {
     "name": "stderr",
     "output_type": "stream",
     "text": [
      "The attention mask and the pad token id were not set. As a consequence, you may observe unexpected behavior. Please pass your input's `attention_mask` to obtain reliable results.\n",
      "Setting `pad_token_id` to `eos_token_id`:None for open-end generation.\n"
     ]
    },
    {
     "name": "stdout",
     "output_type": "stream",
     "text": [
      "\n",
      "Test 40:\n",
      "Input words: interest accept much thing nearly\n",
      "Generated story: The school system wasn’t perfect, but they understood the importance of education. They supported their students by taking pride in their ability to succeed, recognizing that every child deserved a chance to succeed.\n",
      "word1: support word2: drive word3: experience word4: word5: student story: In the classroom, students faced challenges in their learning. Each student engaged in activities that encouraged creativity, recognizing the importance in their study. With\n",
      "Reference story: Her interest in the project was evident as she accepted the challenge with enthusiasm. She understood how much effort it would take, but she was determined to make it work. The thing that motivated her most was the opportunity to learn from the experience. Nearly every moment was filled with new insights and skills that she could carry forward in her career.\n",
      "BLEU score: 0.0000\n",
      "--------------------------------------------------\n"
     ]
    },
    {
     "name": "stderr",
     "output_type": "stream",
     "text": [
      "The attention mask and the pad token id were not set. As a consequence, you may observe unexpected behavior. Please pass your input's `attention_mask` to obtain reliable results.\n",
      "Setting `pad_token_id` to `eos_token_id`:None for open-end generation.\n"
     ]
    },
    {
     "name": "stdout",
     "output_type": "stream",
     "text": [
      "\n",
      "Test 41:\n",
      "Input words: leave attack smile wear seat\n",
      "Generated story: As the team prepared to leave, they were reminded of the importance of teamwork. They felt empowered to act together, ensuring that their actions would not only benefit the community but also its benefit. They shared stories about how to take on challenges and adapt to the changing times. The atmosphere was tense as the team gathered, ready to tackle whatever challenges lay ahead. The team shared stories of resilience and hope, knowing they would face adversity together.\n",
      "word1\n",
      "Reference story: As they prepared to leave for the event, the atmosphere was charged with anticipation. They knew that the competition would be fierce, but they wore their confidence like armor. Each member of the team was determined to put their best foot forward, ready to tackle any attack from opponents. With smiles on their faces, they took their seats, ready to showcase their hard work.\n",
      "BLEU score: 0.0719\n",
      "--------------------------------------------------\n"
     ]
    },
    {
     "name": "stderr",
     "output_type": "stream",
     "text": [
      "The attention mask and the pad token id were not set. As a consequence, you may observe unexpected behavior. Please pass your input's `attention_mask` to obtain reliable results.\n",
      "Setting `pad_token_id` to `eos_token_id`:None for open-end generation.\n"
     ]
    },
    {
     "name": "stdout",
     "output_type": "stream",
     "text": [
      "\n",
      "Test 42:\n",
      "Input words: reach standard should us condition\n",
      "Generated story: The standard of medical care was met with support from the community. Each member contributed their time and expertise, ensuring that every detail was taken care of. The team worked tirelessly, ensuring everyone received the highest quality care.\n",
      "word1: need word2: the word3: be word4: general word5: within story: The general population was often asked to fill in the gaps in their information, often making the journey much more challenging. The\n",
      "Reference story: To reach the new performance standard, the team understood that they should prioritize both training and health. They recognized that their condition would significantly impact their productivity. With this in mind, they set up regular check-ins and workshops to foster growth and well-being. Their collective effort aimed to create an environment where everyone could thrive and achieve their goals.\n",
      "BLEU score: 0.0000\n",
      "--------------------------------------------------\n"
     ]
    },
    {
     "name": "stderr",
     "output_type": "stream",
     "text": [
      "The attention mask and the pad token id were not set. As a consequence, you may observe unexpected behavior. Please pass your input's `attention_mask` to obtain reliable results.\n",
      "Setting `pad_token_id` to `eos_token_id`:None for open-end generation.\n"
     ]
    },
    {
     "name": "stdout",
     "output_type": "stream",
     "text": [
      "\n",
      "Test 43:\n",
      "Input words: prevent matter gun hold institution\n",
      "Generated story: The gun hold was a common occurrence in the community, as families and others worked together to prevent gun violence. Each person was trained to protect themselves, but the importance of safety was paramount.\n",
      "word1: small word2: right word3: close word4: school word5: every story: The small school in the center of town had a small classroom that sat next to the main school. Every student had a little to learn from,\n",
      "Reference story: To prevent violence in the community, the institution launched a campaign focused on education and awareness. They emphasized that it mattered to address the root causes of gun violence rather than just the symptoms. By holding workshops and discussions, they aimed to foster understanding and promote peace. The initiative sought to engage citizens in meaningful conversations about safety and community well-being.\n",
      "BLEU score: 0.0482\n",
      "--------------------------------------------------\n"
     ]
    },
    {
     "name": "stderr",
     "output_type": "stream",
     "text": [
      "The attention mask and the pad token id were not set. As a consequence, you may observe unexpected behavior. Please pass your input's `attention_mask` to obtain reliable results.\n",
      "Setting `pad_token_id` to `eos_token_id`:None for open-end generation.\n"
     ]
    },
    {
     "name": "stdout",
     "output_type": "stream",
     "text": [
      "\n",
      "Test 44:\n",
      "Input words: product name three television single\n",
      "Generated story: The market was divided, with many individuals seeking to find the best product. Each product had its own unique appeal, and each one had its unique challenges. The market for the new devices was growing rapidly, and the competition for the next generation of brands was fierce. The competition was fierce, and by the end of the broadcast, the competition was over. The audience was ready to spend their money on the latest gadget, and with excitement and anticipation,\n",
      "Reference story: The new product launch was a significant milestone for the company, as they unveiled three innovative items designed for modern living. The television campaign aimed to showcase each product's unique features, ensuring that the name resonated with consumers. Each ad told a story, highlighting how a single item could enhance daily life. The excitement around the launch was palpable, drawing attention from various media outlets and potential customers alike.\n",
      "BLEU score: 0.0000\n",
      "--------------------------------------------------\n"
     ]
    },
    {
     "name": "stderr",
     "output_type": "stream",
     "text": [
      "The attention mask and the pad token id were not set. As a consequence, you may observe unexpected behavior. Please pass your input's `attention_mask` to obtain reliable results.\n",
      "Setting `pad_token_id` to `eos_token_id`:None for open-end generation.\n"
     ]
    },
    {
     "name": "stdout",
     "output_type": "stream",
     "text": [
      "\n",
      "Test 45:\n",
      "Input words: enjoy government anyone early example\n",
      "Generated story: The next day, the administration decided to take a leave of absence. They had already decided to return to school, but the excitement of the day was palpable. The administration had decided that the changes would only benefit the most fortunate students. They were determined to make sure that every student could enjoy their new school environment.\n",
      "word1: the word2: outside word3: capital word4: not word5: in story: Outside the government office\n",
      "Reference story: The government encouraged citizens to enjoy the benefits of the new program, which was designed to support community projects. Anyone could apply for funding, provided they met certain criteria. Early applications showcased innovative ideas, setting a great example for others. The initiative aimed to foster creativity and collaboration within neighborhoods, ultimately enhancing community ties.\n",
      "BLEU score: 0.0000\n",
      "--------------------------------------------------\n"
     ]
    },
    {
     "name": "stderr",
     "output_type": "stream",
     "text": [
      "The attention mask and the pad token id were not set. As a consequence, you may observe unexpected behavior. Please pass your input's `attention_mask` to obtain reliable results.\n",
      "Setting `pad_token_id` to `eos_token_id`:None for open-end generation.\n"
     ]
    },
    {
     "name": "stdout",
     "output_type": "stream",
     "text": [
      "\n",
      "Test 46:\n",
      "Input words: smile new production campaign real\n",
      "Generated story: The new film was shot in the heart of the city, showcasing its rich history. It was a unique experience, but it was not just about the story. It became a message about the importance of community involvement.\n",
      "word1: from word2: to word3: a word4: need word5: right story: The production team had to face the real-life challenges of navigating the industry. They needed to understand the importance that informed\n",
      "Reference story: The new production campaign brought a smile to everyone’s face as they unveiled their latest project. The team worked tirelessly to create a real connection with their audience, focusing on authenticity and storytelling. They aimed to reflect the values of their brand while engaging viewers emotionally. This approach resonated, resulting in a campaign that left a lasting impression.\n",
      "BLEU score: 0.0000\n",
      "--------------------------------------------------\n"
     ]
    },
    {
     "name": "stderr",
     "output_type": "stream",
     "text": [
      "The attention mask and the pad token id were not set. As a consequence, you may observe unexpected behavior. Please pass your input's `attention_mask` to obtain reliable results.\n",
      "Setting `pad_token_id` to `eos_token_id`:None for open-end generation.\n"
     ]
    },
    {
     "name": "stdout",
     "output_type": "stream",
     "text": [
      "\n",
      "Test 47:\n",
      "Input words: large even family agency down\n",
      "Generated story: The small agency was overwhelmed with requests for help finding clients\n",
      "word1: high word2: court word3: law word4: law story: The high court had issued a high court order to clear the way for the trial. The case was crucial, as it would allow the citizens to prepare for a trial that could occur in the future. The decision was greeted with excitement by the community, as the issue had been decided quickly and decisively.\n",
      "Reference story: The large agency was even more committed to helping families navigate challenges. They provided resources and support to ensure that every family could thrive. Down the line, they hoped to implement more programs tailored to specific needs. This dedication to service reflected their belief in the importance of community and family well-being.\n",
      "BLEU score: 0.0000\n",
      "--------------------------------------------------\n"
     ]
    },
    {
     "name": "stderr",
     "output_type": "stream",
     "text": [
      "The attention mask and the pad token id were not set. As a consequence, you may observe unexpected behavior. Please pass your input's `attention_mask` to obtain reliable results.\n",
      "Setting `pad_token_id` to `eos_token_id`:None for open-end generation.\n"
     ]
    },
    {
     "name": "stdout",
     "output_type": "stream",
     "text": [
      "\n",
      "Test 48:\n",
      "Input words: which city either black best\n",
      "Generated story: In this story, the conversation turned to the city's vibrant vibrant arts scene, with many local artists emerging as potential collaborators. The discussions centered on the need to foster creativity, recognizing the need for collaboration among residents. With that in mind, the collaboration became a powerful catalyst for growth and growth, fostering a vibrant atmosphere.\n",
      "word1: where word2: old word3: new word4: the word5: not story: The old town\n",
      "Reference story: In which city should they host the event? They debated between two options, considering factors like location, accessibility, and the potential for attracting either a large audience or a more intimate setting. The team wanted to ensure the best experience for all attendees, regardless of the venue. Ultimately, they decided to prioritize community engagement and support for local black businesses.\n",
      "BLEU score: 0.0000\n",
      "--------------------------------------------------\n"
     ]
    },
    {
     "name": "stderr",
     "output_type": "stream",
     "text": [
      "The attention mask and the pad token id were not set. As a consequence, you may observe unexpected behavior. Please pass your input's `attention_mask` to obtain reliable results.\n",
      "Setting `pad_token_id` to `eos_token_id`:None for open-end generation.\n"
     ]
    },
    {
     "name": "stdout",
     "output_type": "stream",
     "text": [
      "\n",
      "Test 49:\n",
      "Input words: Mrs cup together will interesting\n",
      "Generated story: They spent the day together, sharing their daily dreams\n",
      "word1: trial word2: to word3: be noticed word4: make word5: family story: They had a trial in which they faced the toughest test of their lives\n",
      "word2: about word3 word4 word5 story: family member had come to visit them\n",
      "word5: about story: She wanted to know what they thought about their family\n",
      "word6: a\n",
      "Reference story: Mrs. Johnson filled her cup with steaming tea as she sat down to discuss the upcoming event. Together with her committee, she planned to create an interesting lineup of activities that would engage the community. They aimed to foster connections and create lasting memories. With her leadership, everyone felt inspired to contribute their ideas and energy to make the event a success.\n",
      "BLEU score: 0.0000\n",
      "--------------------------------------------------\n"
     ]
    },
    {
     "name": "stderr",
     "output_type": "stream",
     "text": [
      "The attention mask and the pad token id were not set. As a consequence, you may observe unexpected behavior. Please pass your input's `attention_mask` to obtain reliable results.\n",
      "Setting `pad_token_id` to `eos_token_id`:None for open-end generation.\n"
     ]
    },
    {
     "name": "stdout",
     "output_type": "stream",
     "text": [
      "\n",
      "Test 50:\n",
      "Input words: front support price a enter\n",
      "Generated story: As the price of goods surged, many people gathered to support the latest development, hoping for a brighter future for the region. They believed that every effort needed to make a positive impact. The community rallied to the cause, believing that investing in infrastructure would bring economic growth and jobs to their region. Together, they organized events, encouraging people to support their neighbors. The event was a catalyst for a community to voice their concerns, showing that investing was not\n",
      "Reference story: At the front of the store, they set up a display to support the launch of the new product. The price was competitive, ensuring that customers would find it accessible. A promotional event would encourage patrons to enter the store and explore the offerings. The excitement surrounding the launch created a buzz, drawing in foot traffic and fostering a sense of community engagement.\n",
      "BLEU score: 0.0000\n",
      "--------------------------------------------------\n"
     ]
    },
    {
     "name": "stderr",
     "output_type": "stream",
     "text": [
      "The attention mask and the pad token id were not set. As a consequence, you may observe unexpected behavior. Please pass your input's `attention_mask` to obtain reliable results.\n",
      "Setting `pad_token_id` to `eos_token_id`:None for open-end generation.\n"
     ]
    },
    {
     "name": "stdout",
     "output_type": "stream",
     "text": [
      "\n",
      "Test 51:\n",
      "Input words: home meet treat whatever upon\n",
      "Generated story: The home of the artist was a place where friends and families gathered to share stories and memories. With a smile on their faces, they exchanged ideas, trying to figure out how to create a more harmonious environment. The artist painted vibrant colors that resonated with the community, encouraging everyone to embrace the warmth of the day.\n",
      "word1: word2: make word3: a word4: a story: The story behind the art was simple\n",
      "Reference story: Once they arrived home, they decided to meet and discuss their plans. They treated the gathering as an opportunity to brainstorm whatever ideas came to mind. Upon reflection, they recognized the importance of collaboration in their creative process. This meeting sparked new ideas and helped solidify their vision moving forward.\n",
      "BLEU score: 0.0000\n",
      "--------------------------------------------------\n"
     ]
    },
    {
     "name": "stderr",
     "output_type": "stream",
     "text": [
      "The attention mask and the pad token id were not set. As a consequence, you may observe unexpected behavior. Please pass your input's `attention_mask` to obtain reliable results.\n",
      "Setting `pad_token_id` to `eos_token_id`:None for open-end generation.\n"
     ]
    },
    {
     "name": "stdout",
     "output_type": "stream",
     "text": [
      "\n",
      "Test 52:\n",
      "Input words: account knowledge subject college you\n",
      "Generated story: In the past, the college system operated by a set of policies aimed at promoting creativity and knowledge. The goal was to foster a culture of innovation and collaboration. The school was dedicated to fostering a culture that fostered creativity and collaboration, creating a safer environment for students. The new policies aimed to foster collaboration and collaboration among students.\n",
      "word1: in word2: test word3: agree word4: in story: In a crowded classroom,\n",
      "Reference story: When you account for the knowledge gained in college, it becomes evident how much it shapes one’s perspective. The subject matter often extends beyond textbooks, influencing how you interact with the world. Every lesson learned builds upon the previous one, creating a foundation for future endeavors. You come to appreciate the depth of learning and its impact on personal and professional growth.\n",
      "BLEU score: 0.0000\n",
      "--------------------------------------------------\n"
     ]
    },
    {
     "name": "stderr",
     "output_type": "stream",
     "text": [
      "The attention mask and the pad token id were not set. As a consequence, you may observe unexpected behavior. Please pass your input's `attention_mask` to obtain reliable results.\n",
      "Setting `pad_token_id` to `eos_token_id`:None for open-end generation.\n"
     ]
    },
    {
     "name": "stdout",
     "output_type": "stream",
     "text": [
      "\n",
      "Test 53:\n",
      "Input words: soon property able compare executive\n",
      "Generated story: The company was ready to market its new product. It was ready for the market, and the team was ready. They aimed to market their product with a strong focus on efficiency and customer service. They knew that their efforts would lead to success, and soon, they were recognized as the leaders in the market.\n",
      "word1: seven word2: senior word3: in word4: the word5: even story: The senior staff member in\n",
      "Reference story: Soon after the announcement, the executive team gathered to discuss the property acquisition that could enhance their portfolio. They were able to compare various options and analyze potential returns on investment. This meeting was crucial in determining which property would best align with their strategic goals.\n",
      "BLEU score: 0.0000\n",
      "--------------------------------------------------\n"
     ]
    },
    {
     "name": "stderr",
     "output_type": "stream",
     "text": [
      "The attention mask and the pad token id were not set. As a consequence, you may observe unexpected behavior. Please pass your input's `attention_mask` to obtain reliable results.\n",
      "Setting `pad_token_id` to `eos_token_id`:None for open-end generation.\n"
     ]
    },
    {
     "name": "stdout",
     "output_type": "stream",
     "text": [
      "\n",
      "Test 54:\n",
      "Input words: game final standard me reflect\n",
      "Generated story: It was a final, and the result was a victory for the team. They had to face a tough situation, and they knew they had to take a shot. They couldn’t afford to lose, and this was a chance to test their resolve. They made the final, feeling proud and confident, determined to beat anyone they faced.\n",
      "word1: time word2: person word3: in word4: same word5: it\n",
      "Reference story: As the final game of the season approached, I took a moment to reflect on the standard we had set as a team. Every match was not just about winning but about learning and growing together. This reflection helped me appreciate the journey and the bonds we had formed along the way.\n",
      "BLEU score: 0.0000\n",
      "--------------------------------------------------\n"
     ]
    },
    {
     "name": "stderr",
     "output_type": "stream",
     "text": [
      "The attention mask and the pad token id were not set. As a consequence, you may observe unexpected behavior. Please pass your input's `attention_mask` to obtain reliable results.\n",
      "Setting `pad_token_id` to `eos_token_id`:None for open-end generation.\n"
     ]
    },
    {
     "name": "stdout",
     "output_type": "stream",
     "text": [
      "\n",
      "Test 55:\n",
      "Input words: my live wrong drug should\n",
      "Generated story: My partner had been diagnosed with the condition of anxiety. I knew he had a hard time coping with it, but he was determined to see a bright side. He offered me advice, encouraging me to stay calm and focus on my work. It was a simple life lesson, but now, I had to navigate the world of addiction, knowing that this treatment would teach me the hard way.\n",
      "word1: too word2: word3: that\n",
      "Reference story: In my community, many people live with the consequences of drug abuse, and I felt it was wrong to remain silent. We should take action, support initiatives that raise awareness, and help those affected by addiction find the resources they need to recover and rebuild their lives.\n",
      "BLEU score: 0.0000\n",
      "--------------------------------------------------\n"
     ]
    },
    {
     "name": "stderr",
     "output_type": "stream",
     "text": [
      "The attention mask and the pad token id were not set. As a consequence, you may observe unexpected behavior. Please pass your input's `attention_mask` to obtain reliable results.\n",
      "Setting `pad_token_id` to `eos_token_id`:None for open-end generation.\n"
     ]
    },
    {
     "name": "stdout",
     "output_type": "stream",
     "text": [
      "\n",
      "Test 56:\n",
      "Input words: large forward carry majority you\n",
      "Generated story: The long journey was a turning point for both the team and the community. They recognized the need for transparency and accountability, demonstrating a commitment to fostering a more open and accountable community. As they learned how to manage conflicts, they realized that collaboration was essential for fostering a sense of community that fostered understanding and trust.\n",
      "word1: make word2: send word3: to word4: teach word5: day story: The day of instruction\n",
      "Reference story: A large portion of the community was ready to move forward with the new initiative. The majority of residents supported the plan to carry out improvements in public spaces. You could feel the excitement in the air as people discussed how these changes would positively impact their daily lives.\n",
      "BLEU score: 0.0000\n",
      "--------------------------------------------------\n"
     ]
    },
    {
     "name": "stderr",
     "output_type": "stream",
     "text": [
      "The attention mask and the pad token id were not set. As a consequence, you may observe unexpected behavior. Please pass your input's `attention_mask` to obtain reliable results.\n",
      "Setting `pad_token_id` to `eos_token_id`:None for open-end generation.\n"
     ]
    },
    {
     "name": "stdout",
     "output_type": "stream",
     "text": [
      "\n",
      "Test 57:\n",
      "Input words: push color peace crime administration\n",
      "Generated story: The administration began work on a new initiative aimed at addressing the challenges faced by the community. Advocates sought to push for better policies and practices, focusing on education and access. They organized workshops and discussions, and organized workshops for new initiatives. By the end of the night, the administration was ready to implement the changes, demonstrating a commitment to fostering a more equitable community. The initiative sparked significant support, and the community rallied to the administration, demanding a\n",
      "Reference story: The administration decided to push for policies that would promote peace and reduce crime in the city. They introduced initiatives focused on community engagement, showcasing colorful murals that represented diversity and unity. This approach aimed to foster a safer, more inclusive environment for all residents.\n",
      "BLEU score: 0.0000\n",
      "--------------------------------------------------\n"
     ]
    },
    {
     "name": "stderr",
     "output_type": "stream",
     "text": [
      "The attention mask and the pad token id were not set. As a consequence, you may observe unexpected behavior. Please pass your input's `attention_mask` to obtain reliable results.\n",
      "Setting `pad_token_id` to `eos_token_id`:None for open-end generation.\n"
     ]
    },
    {
     "name": "stdout",
     "output_type": "stream",
     "text": [
      "\n",
      "Test 58:\n",
      "Input words: south not fast call treat\n",
      "Generated story: The south was busy, but the call came fast and hard. The call was clear and the journey was long. The journey would take a lot of courage, but it was worth it. The town was filled with memories and memories, filled with people who worked hard, embraced their passion, and shared their joys.\n",
      "word1: that word2: high word3: family word4: word5: over story: The family gathered in\n",
      "Reference story: In the south, it’s not always easy to make a fast call for help during emergencies. Many communities face delays in receiving timely treatment for medical issues. Awareness campaigns were initiated to improve response times and ensure that everyone had access to quality healthcare services.\n",
      "BLEU score: 0.0000\n",
      "--------------------------------------------------\n"
     ]
    },
    {
     "name": "stderr",
     "output_type": "stream",
     "text": [
      "The attention mask and the pad token id were not set. As a consequence, you may observe unexpected behavior. Please pass your input's `attention_mask` to obtain reliable results.\n",
      "Setting `pad_token_id` to `eos_token_id`:None for open-end generation.\n"
     ]
    },
    {
     "name": "stdout",
     "output_type": "stream",
     "text": [
      "\n",
      "Test 59:\n",
      "Input words: body man rule little hair\n",
      "Generated story: The body was thin and the hair was not his problem. The rule was to never wash it off, and never wear it again. The doctor noticed that the hair seemed to grow thin as he worked with it, and he felt the pressure of losing it.\n",
      "word1: to word2: take word3: step word4: now word5: describe story: She sat down and took a few steps toward the end of her journey.\n",
      "Reference story: The body of the man lay still, a stark reminder of the rules that sometimes feel too little in the face of tragedy. Hair scattered nearby testified to the struggle, prompting a community to come together in search of justice and understanding. They vowed to address the underlying issues that led to such violence.\n",
      "BLEU score: 0.0000\n",
      "--------------------------------------------------\n"
     ]
    },
    {
     "name": "stderr",
     "output_type": "stream",
     "text": [
      "The attention mask and the pad token id were not set. As a consequence, you may observe unexpected behavior. Please pass your input's `attention_mask` to obtain reliable results.\n",
      "Setting `pad_token_id` to `eos_token_id`:None for open-end generation.\n"
     ]
    },
    {
     "name": "stdout",
     "output_type": "stream",
     "text": [
      "\n",
      "Test 60:\n",
      "Input words: for game quality would station\n",
      "Generated story: In a world where innovation was the norm, the team decided to innovate quickly. They focused on making the game as unique as possible. They knew that innovation and creativity could lead to lasting success.\n",
      "word1: that word2: over word3: the word4: if word5: in story: The team over at the competition had to decide whether to overreact or stay focused. The players were determined to put their skills into the game\n",
      "Reference story: For the upcoming game, the organizers ensured that the quality of the facilities at the station met all safety standards. They wanted to create an environment where everyone could enjoy the match comfortably. This attention to detail would help enhance the overall experience for the fans.\n",
      "BLEU score: 0.0000\n",
      "--------------------------------------------------\n"
     ]
    },
    {
     "name": "stderr",
     "output_type": "stream",
     "text": [
      "The attention mask and the pad token id were not set. As a consequence, you may observe unexpected behavior. Please pass your input's `attention_mask` to obtain reliable results.\n",
      "Setting `pad_token_id` to `eos_token_id`:None for open-end generation.\n"
     ]
    },
    {
     "name": "stdout",
     "output_type": "stream",
     "text": [
      "\n",
      "Test 61:\n",
      "Input words: management build nice computer dinner\n",
      "Generated story: The manager came over to discuss the latest developments, and they decided to discuss strategies for managing their team. The discussions centered on prioritizing productivity and collaboration, and the manager suggested strategies that could improve their work flow. The discussion was lively, with the focus on efficiency and innovation. The manager felt empowered to implement changes, and soon, the team was ready to take action.\n",
      "word1: price word2: about word3: to word4\n",
      "Reference story: The management team planned a nice dinner to celebrate their success in building the new computer systems for the office. This gathering served not only as a reward but also as a chance to strengthen team bonds and reflect on the hard work that led to their achievements.\n",
      "BLEU score: 0.0000\n",
      "--------------------------------------------------\n"
     ]
    },
    {
     "name": "stderr",
     "output_type": "stream",
     "text": [
      "The attention mask and the pad token id were not set. As a consequence, you may observe unexpected behavior. Please pass your input's `attention_mask` to obtain reliable results.\n",
      "Setting `pad_token_id` to `eos_token_id`:None for open-end generation.\n"
     ]
    },
    {
     "name": "stdout",
     "output_type": "stream",
     "text": [
      "\n",
      "Test 62:\n",
      "Input words: billion woman service senior why\n",
      "Generated story: The world's largest city was celebrating its billion-dollar billion-plus budget. Each year, it hosted a billion-kilometer event to give back to the community. It was a testament to the commitment of the community and its dedication to sustainability. In the spirit of collaboration, the city hosted workshops aimed to teach the importance of energy efficiency and sustainability in their initiatives. The city's commitment to sustainability was evident in its commitment to supporting local businesses and\n",
      "Reference story: A billion-dollar industry has emerged focused on providing better service to senior women. The question of why this demographic has been overlooked for so long has sparked discussions on the importance of inclusivity in marketing and product development. Companies are now prioritizing the needs of older women, recognizing their purchasing power.\n",
      "BLEU score: 0.0000\n",
      "--------------------------------------------------\n"
     ]
    },
    {
     "name": "stderr",
     "output_type": "stream",
     "text": [
      "The attention mask and the pad token id were not set. As a consequence, you may observe unexpected behavior. Please pass your input's `attention_mask` to obtain reliable results.\n",
      "Setting `pad_token_id` to `eos_token_id`:None for open-end generation.\n"
     ]
    },
    {
     "name": "stdout",
     "output_type": "stream",
     "text": [
      "\n",
      "Test 63:\n",
      "Input words: try either life late score\n",
      "Generated story: The evening was a bit of a test as everyone celebrated the achievements of the team. Their collaboration with the community meant they had a chance to shine, proving their mettle. They knew they had to make a difference, proving that they could pull off a big win.\n",
      "word1: face word2: the word3: drive word4: market word5: 'see story: The face of the market was the driving force behind the drive\n",
      "Reference story: I decided to try my best at life, realizing that I could either succeed or learn from my mistakes. Late nights spent studying and practicing were essential to achieving a good score on my exams. I understood that every effort counted, contributing to my growth and development.\n",
      "BLEU score: 0.0000\n",
      "--------------------------------------------------\n"
     ]
    },
    {
     "name": "stderr",
     "output_type": "stream",
     "text": [
      "The attention mask and the pad token id were not set. As a consequence, you may observe unexpected behavior. Please pass your input's `attention_mask` to obtain reliable results.\n",
      "Setting `pad_token_id` to `eos_token_id`:None for open-end generation.\n"
     ]
    },
    {
     "name": "stdout",
     "output_type": "stream",
     "text": [
      "\n",
      "Test 64:\n",
      "Input words: dream nation oil local interesting\n",
      "Generated story: The dream community in the center of the city was captivated by the vibrant oil community. The artists painted murals and brought a sense of community to the art exhibit. The community loved the natural beauty and the diverse cultures that flowed through the region, creating a sense that the region was a place of beauty and unity.\n",
      "word1: town word2: over word3: family word4: dog word5: friend story: Over the years\n",
      "Reference story: My dream for the nation is to transition from an oil-dependent economy to one that thrives on local resources. It’s an interesting challenge that requires innovation and collaboration across various sectors. By supporting local businesses, we can create sustainable growth and reduce our carbon footprint.\n",
      "BLEU score: 0.0000\n",
      "--------------------------------------------------\n"
     ]
    },
    {
     "name": "stderr",
     "output_type": "stream",
     "text": [
      "The attention mask and the pad token id were not set. As a consequence, you may observe unexpected behavior. Please pass your input's `attention_mask` to obtain reliable results.\n",
      "Setting `pad_token_id` to `eos_token_id`:None for open-end generation.\n"
     ]
    },
    {
     "name": "stdout",
     "output_type": "stream",
     "text": [
      "\n",
      "Test 65:\n",
      "Input words: tax best huge itself draw\n",
      "Generated story: In a small town, a company decided to give a huge amount of money to local charities. They decided to build a high-tech factory that would produce goods that would last for generations. The community believed that they were supporting the local economy and investing in their products. They spent countless hours crafting and evaluating their projects, believing that investing in local communities was key. This community felt empowered, as they realized that investing directly in local businesses was vital for\n",
      "Reference story: The tax reform proposed was deemed the best solution for addressing the huge budget deficit. It aimed to draw in more investments while ensuring that wealth distribution was fair. The government hoped to create a system that would benefit all citizens in the long run.\n",
      "BLEU score: 0.0000\n",
      "--------------------------------------------------\n"
     ]
    },
    {
     "name": "stderr",
     "output_type": "stream",
     "text": [
      "The attention mask and the pad token id were not set. As a consequence, you may observe unexpected behavior. Please pass your input's `attention_mask` to obtain reliable results.\n",
      "Setting `pad_token_id` to `eos_token_id`:None for open-end generation.\n"
     ]
    },
    {
     "name": "stdout",
     "output_type": "stream",
     "text": [
      "\n",
      "Test 66:\n",
      "Input words: real section measure simply require\n",
      "Generated story: They had to test their ability to measure their performance on the final day of the competition\n",
      "word1: word2: point word3: community word4: history word5: point story: They arrived in the community center, where they faced a history of discrimination. They began to question their cultural heritage, wondering what it would be to leave behind. Community leaders and community organizations came together to address the issue, creating a dialogue that would benefit everyone\n",
      "Reference story: The real challenge lies in understanding how to measure success in each section of the project. We must simply identify the key performance indicators that will help us assess our progress and ensure we meet the requirements outlined at the beginning.\n",
      "BLEU score: 0.0000\n",
      "--------------------------------------------------\n"
     ]
    },
    {
     "name": "stderr",
     "output_type": "stream",
     "text": [
      "The attention mask and the pad token id were not set. As a consequence, you may observe unexpected behavior. Please pass your input's `attention_mask` to obtain reliable results.\n",
      "Setting `pad_token_id` to `eos_token_id`:None for open-end generation.\n"
     ]
    },
    {
     "name": "stdout",
     "output_type": "stream",
     "text": [
      "\n",
      "Test 67:\n",
      "Input words: box law training minute because\n",
      "Generated story: In a world where many were trained to navigate the complexities of law, the minute a decision was made, the matter would be settled quickly. Law students would take on the challenging legal challenges, leading to a smooth trial. With a sense of responsibility, they knew that their actions would lead to the next step in their journey. They knew that every decision was a decision, but every time they made one, it was a reflection of their hearts. They\n",
      "Reference story: Inside the box lay various training materials related to law enforcement procedures. In just a minute, the team gathered around to discuss the importance of proper training, because effective law enforcement relies on well-informed officers who can navigate complex situations.\n",
      "BLEU score: 0.0000\n",
      "--------------------------------------------------\n"
     ]
    },
    {
     "name": "stderr",
     "output_type": "stream",
     "text": [
      "The attention mask and the pad token id were not set. As a consequence, you may observe unexpected behavior. Please pass your input's `attention_mask` to obtain reliable results.\n",
      "Setting `pad_token_id` to `eos_token_id`:None for open-end generation.\n"
     ]
    },
    {
     "name": "stdout",
     "output_type": "stream",
     "text": [
      "\n",
      "Test 68:\n",
      "Input words: guess travel return case recent\n",
      "Generated story: The guess journey returned to the hotel, where it was clear that it was time to return to the city. The return trip was a long one, but the journey was worth it. It was a chance to reconnect with friends, to hear stories of their journeys, and to experience the beauty of the natural world.\n",
      "word1: car word2: mean word3: big word4: attack word5: over story: It wasn’\n",
      "Reference story: I guess it’s time to travel again and return to familiar places. The recent case studies on tourism have shown how important it is for local economies. As travelers seek new experiences, the impact on communities can be significant, fostering growth and development.\n",
      "BLEU score: 0.0000\n",
      "--------------------------------------------------\n"
     ]
    },
    {
     "name": "stderr",
     "output_type": "stream",
     "text": [
      "The attention mask and the pad token id were not set. As a consequence, you may observe unexpected behavior. Please pass your input's `attention_mask` to obtain reliable results.\n",
      "Setting `pad_token_id` to `eos_token_id`:None for open-end generation.\n"
     ]
    },
    {
     "name": "stdout",
     "output_type": "stream",
     "text": [
      "\n",
      "Test 69:\n",
      "Input words: campaign before office act drug\n",
      "Generated story: The campaign aimed to raise funds for medical care for veterans, using campaign ads that emphasized the need for more funding for the project. The campaign aired before a major event and highlighted the importance of a strong community presence on the ground. As the campaign rolled through, volunteers gathered, eager to make a difference.\n",
      "word1: be word2: the word3: now word4: lead word5: find story: Now, the campaign aimed its\n",
      "Reference story: Before the office began the new campaign, they organized a meeting to discuss the impact of drug awareness initiatives. They aimed to act proactively to educate the public about the dangers of drug abuse, hoping to reduce its prevalence within the community.\n",
      "BLEU score: 0.0000\n",
      "--------------------------------------------------\n"
     ]
    },
    {
     "name": "stderr",
     "output_type": "stream",
     "text": [
      "The attention mask and the pad token id were not set. As a consequence, you may observe unexpected behavior. Please pass your input's `attention_mask` to obtain reliable results.\n",
      "Setting `pad_token_id` to `eos_token_id`:None for open-end generation.\n"
     ]
    },
    {
     "name": "stdout",
     "output_type": "stream",
     "text": [
      "\n",
      "Test 70:\n",
      "Input words: own fly partner see everything\n",
      "Generated story: Own the passion for fly fishing, but the love for nature brought a whole new level of adventure. As the group gathered to catch some rays, they decided to fly away from the usual routine, leaving the water to the ground. They decided to enjoy nature, knowing that every moment was precious.\n",
      "word1: watch word2: stop word3: fly word4: head word5: the story: The head of the flight was watching over\n",
      "Reference story: I wanted to own my journey and fly high with my ambitions. I hoped to partner with like-minded individuals who would help me see everything as an opportunity for growth. Together, we could create a network of support that propelled us all forward.\n",
      "BLEU score: 0.0000\n",
      "--------------------------------------------------\n"
     ]
    },
    {
     "name": "stderr",
     "output_type": "stream",
     "text": [
      "The attention mask and the pad token id were not set. As a consequence, you may observe unexpected behavior. Please pass your input's `attention_mask` to obtain reliable results.\n",
      "Setting `pad_token_id` to `eos_token_id`:None for open-end generation.\n"
     ]
    },
    {
     "name": "stdout",
     "output_type": "stream",
     "text": [
      "\n",
      "Test 71:\n",
      "Input words: specific laugh leg offer describe\n",
      "Generated story: The general manager of the company was very excited about the new product. They aimed to make it a success, with innovative features and a bold marketing strategy. It was a great opportunity to showcase their products and drive support to the community. The conversation turned to how they could improve the product and drive positive change. The manager emphasized that every product had its place in the market, and every aspect of it was a success.\n",
      "word1: who word\n",
      "Reference story: She had a specific way of making everyone laugh, using humor to break the ice during tense moments. When asked to describe her approach, she would offer insights into how laughter can bridge gaps and create connections among diverse groups of people.\n",
      "BLEU score: 0.0000\n",
      "--------------------------------------------------\n"
     ]
    },
    {
     "name": "stderr",
     "output_type": "stream",
     "text": [
      "The attention mask and the pad token id were not set. As a consequence, you may observe unexpected behavior. Please pass your input's `attention_mask` to obtain reliable results.\n",
      "Setting `pad_token_id` to `eos_token_id`:None for open-end generation.\n"
     ]
    },
    {
     "name": "stdout",
     "output_type": "stream",
     "text": [
      "\n",
      "Test 72:\n",
      "Input words: nothing positive expert nothing skill\n",
      "Generated story: The professional who reviewed the industry's latest innovations emphasized the importance of innovation, reminding everyone that nothing is guaranteed. The expert presented a detailed presentation that emphasized the value of hard work and the importance on their shoulders. It was a rare opportunity to showcase innovative ideas, highlighting the importance and importance of personal growth. It would be a testament to the dedication of the industry, as well as the commitment to innovation.\n",
      "word1: a word2: to\n",
      "Reference story: Despite feeling like nothing could go right, I remained positive. An expert in resilience once told me that every setback is an opportunity to develop a new skill. Embracing this mindset helped me push through challenging times and emerge stronger on the other side.\n",
      "BLEU score: 0.0000\n",
      "--------------------------------------------------\n"
     ]
    },
    {
     "name": "stderr",
     "output_type": "stream",
     "text": [
      "The attention mask and the pad token id were not set. As a consequence, you may observe unexpected behavior. Please pass your input's `attention_mask` to obtain reliable results.\n",
      "Setting `pad_token_id` to `eos_token_id`:None for open-end generation.\n"
     ]
    },
    {
     "name": "stdout",
     "output_type": "stream",
     "text": [
      "\n",
      "Test 73:\n",
      "Input words: however common thousand company first\n",
      "Generated story: In the middle of the night, the company's executives gathered to discuss the importance of collaboration and collaboration. The discussions sparked a sense of urgency, as executives realized that their shared goal was to create a culture that fostered collaboration and respect for all.\n",
      "word1: how word2: even word3: rich word4: many word5: how story: In a bustling city, a rich culture flowed with rich cultural traditions. The rich culture\n",
      "Reference story: However, it’s common for companies to face challenges when launching new products. Thousands of hours go into development, yet the first release often encounters unexpected hurdles. Learning from these experiences is crucial for future success and innovation.\n",
      "BLEU score: 0.0000\n",
      "--------------------------------------------------\n"
     ]
    },
    {
     "name": "stderr",
     "output_type": "stream",
     "text": [
      "The attention mask and the pad token id were not set. As a consequence, you may observe unexpected behavior. Please pass your input's `attention_mask` to obtain reliable results.\n",
      "Setting `pad_token_id` to `eos_token_id`:None for open-end generation.\n"
     ]
    },
    {
     "name": "stdout",
     "output_type": "stream",
     "text": [
      "\n",
      "Test 74:\n",
      "Input words: difficult green season tough which\n",
      "Generated story: The journey was tough as the cold hard times filled the air. The journey had been tough, but the determination to succeed was evident in the face of adversity. It was clear that they needed each other to succeed, knowing that success could only come from hard work and determination. The final drive was not just about finding success, but also about overcoming obstacles.\n",
      "word1: fire word2: city word3: do word4: court word5\n",
      "Reference story: It can be difficult to navigate through the green season, especially with the tough weather conditions. Which strategies should we implement to ensure our crops thrive? Discussions among farmers focused on resilience and adaptation, sharing insights to overcome challenges together.\n",
      "BLEU score: 0.0000\n",
      "--------------------------------------------------\n"
     ]
    },
    {
     "name": "stderr",
     "output_type": "stream",
     "text": [
      "The attention mask and the pad token id were not set. As a consequence, you may observe unexpected behavior. Please pass your input's `attention_mask` to obtain reliable results.\n",
      "Setting `pad_token_id` to `eos_token_id`:None for open-end generation.\n"
     ]
    },
    {
     "name": "stdout",
     "output_type": "stream",
     "text": [
      "\n",
      "Test 75:\n",
      "Input words: make reduce lose pretty minute\n",
      "Generated story: When they had finished, the staff gathered to discuss how to tackle the challenges ahead. They discussed strategies to reduce stress and strengthen relationships. With a renewed commitment, they brainstormed strategies that would make each member feel valued and empowered. The staff brainstormed solutions that would address the challenges they faced, recognizing that their contributions were vital to fostering a more fulfilling life.\n",
      "word1: ask word2: community word3: family word4: what word\n",
      "Reference story: To make the most of every minute, we must reduce distractions and focus on our goals. It's easy to lose sight of what's important when life gets busy, but taking time to appreciate the pretty moments can rejuvenate our spirits. For example, last Saturday, I decided to take a walk in the park instead of staying home glued to my screen. The flowers were blooming, and the air was fresh. I took a deep breath and felt the warmth of the sun on my skin. That simple decision turned a mundane day into a delightful experience, reminding me of the beauty surrounding us if we just take a moment to look.\n",
      "BLEU score: 0.0000\n",
      "--------------------------------------------------\n"
     ]
    },
    {
     "name": "stderr",
     "output_type": "stream",
     "text": [
      "The attention mask and the pad token id were not set. As a consequence, you may observe unexpected behavior. Please pass your input's `attention_mask` to obtain reliable results.\n",
      "Setting `pad_token_id` to `eos_token_id`:None for open-end generation.\n"
     ]
    },
    {
     "name": "stdout",
     "output_type": "stream",
     "text": [
      "\n",
      "Test 76:\n",
      "Input words: surface degree whether say black\n",
      "Generated story: As the sun set, they began to head for the ground, eager to see where the people were coming from. They knew that the journey would be long, and they knew that they had to adapt to the challenges faced in the world.\n",
      "word1: not word2: the word3: heart word4: the story: The heart of the story unfolded as they approached the bridge, heartbroken but hopeful. They had to face the overwhelming\n",
      "Reference story: The surface of the water glistened, revealing a degree of clarity that made me wonder whether I was truly seeing what lay beneath. I couldn't help but say that the beauty of the black depths was both alluring and mysterious. As I stood by the lake, I noticed the way the sunlight danced on the water, creating sparkles that seemed to whisper secrets from the depths below. My curiosity piqued, I decided to dive in. The cool water enveloped me, and as I swam deeper, I discovered vibrant fish darting among the rocks. It was a reminder that sometimes the most beautiful things lie beneath the surface, waiting for someone brave enough to explore.\n",
      "BLEU score: 0.0000\n",
      "--------------------------------------------------\n"
     ]
    },
    {
     "name": "stderr",
     "output_type": "stream",
     "text": [
      "The attention mask and the pad token id were not set. As a consequence, you may observe unexpected behavior. Please pass your input's `attention_mask` to obtain reliable results.\n",
      "Setting `pad_token_id` to `eos_token_id`:None for open-end generation.\n"
     ]
    },
    {
     "name": "stdout",
     "output_type": "stream",
     "text": [
      "\n",
      "Test 77:\n",
      "Input words: technology catch practice smile former\n",
      "Generated story: The company had been working on a new product, and the team was excited about the feedback it received. They decided to implement the change quickly, and their team began to feel the benefits of the new technology. The feedback from the community was overwhelming, and they quickly found a solution that worked. The company became a leader in innovation, and it became clear that the future of the tech industry depended on it.\n",
      "word1: a word2:\n",
      "Reference story: With technology evolving so rapidly, it’s essential to catch up and practice new skills. A former classmate always reminded me to smile through challenges; it’s the best way to keep the learning experience enjoyable. So, I enrolled in a coding boot camp. Initially, the codes and algorithms seemed daunting, but with each passing week, I felt more confident. My classmates and I often shared our progress, and the camaraderie we built made the learning process less intimidating. By the end of the course, I had not only learned to code but also made lifelong friends who supported each other through our tech journeys.\n",
      "BLEU score: 0.0000\n",
      "--------------------------------------------------\n"
     ]
    },
    {
     "name": "stderr",
     "output_type": "stream",
     "text": [
      "The attention mask and the pad token id were not set. As a consequence, you may observe unexpected behavior. Please pass your input's `attention_mask` to obtain reliable results.\n",
      "Setting `pad_token_id` to `eos_token_id`:None for open-end generation.\n"
     ]
    },
    {
     "name": "stdout",
     "output_type": "stream",
     "text": [
      "\n",
      "Test 78:\n",
      "Input words: art student party receive event\n",
      "Generated story: As art students gathered, they gathered to celebrate the art installation on campus. They celebrated the occasion by painting their designs on a mural, highlighting their appreciation of art and the community. The event sparked a sense of belonging among students, as they recognized the significance of their art. Each artist shared their stories, sharing their passion for creating murals that reflected the beauty of life.\n",
      "word1: the word2: the term word3: a word\n",
      "Reference story: The art event last night brought together students from various disciplines, creating a vibrant atmosphere filled with creativity and passion. Each participant had a chance to showcase their work and receive feedback from peers and mentors alike. The highlight of the evening was a collaborative mural that many contributed to, symbolizing unity among different artistic styles. The party atmosphere made it easier to connect and share creative ideas, fostering a sense of community. As I stood back and admired the mural, I realized how powerful art can be in bringing people together, transcending boundaries and differences.\n",
      "BLEU score: 0.0000\n",
      "--------------------------------------------------\n"
     ]
    },
    {
     "name": "stderr",
     "output_type": "stream",
     "text": [
      "The attention mask and the pad token id were not set. As a consequence, you may observe unexpected behavior. Please pass your input's `attention_mask` to obtain reliable results.\n",
      "Setting `pad_token_id` to `eos_token_id`:None for open-end generation.\n"
     ]
    },
    {
     "name": "stdout",
     "output_type": "stream",
     "text": [
      "\n",
      "Test 79:\n",
      "Input words: Republican care skill condition western\n",
      "Generated story: Republican health care system, particularly in the western portion of the state, highlighted a significant issue affecting the health of the community. As more people sought medical care, concerns about rising costs mounted, with many residents feeling the brunt. As the discussions unfolded, residents expressed concern about the future of their health and their options. The conversation turned to the issue of healthcare reform, and it became clear that the Republican administration was determined to make a positive impact on the\n",
      "Reference story: In the Republican debate last night, candidates emphasized the need to care for the people by showcasing their skill sets. They discussed the condition of the western states, highlighting the challenges faced by residents there. Issues like drought and economic decline were at the forefront of the discussions. One candidate proposed innovative solutions aimed at revitalizing the agricultural sector, while another emphasized the importance of sustainable practices. The lively exchange was not just about politics; it was a testament to how leaders must genuinely care for their constituents to drive meaningful change.\n",
      "BLEU score: 0.0000\n",
      "--------------------------------------------------\n"
     ]
    },
    {
     "name": "stderr",
     "output_type": "stream",
     "text": [
      "The attention mask and the pad token id were not set. As a consequence, you may observe unexpected behavior. Please pass your input's `attention_mask` to obtain reliable results.\n",
      "Setting `pad_token_id` to `eos_token_id`:None for open-end generation.\n"
     ]
    },
    {
     "name": "stdout",
     "output_type": "stream",
     "text": [
      "\n",
      "Test 80:\n",
      "Input words: physical speech on value health\n",
      "Generated story: When the doctor asked if she could speak for the first time, she couldn’t help but smile. She knew that words could not describe the journey she had made, and the smile that followed made her feel a sense of purpose.\n",
      "word1: old word2: business word3: type word4: a word5: from story: During the recent wave of growth in the industry, it was clear that the old-fashioned type\n",
      "Reference story: During our school's physical education class, we had a speech on the value of maintaining health through exercise. The instructor highlighted how our daily activities can significantly impact our overall well-being and longevity. We discussed various forms of exercise, from sports to yoga, and their benefits for both body and mind. Inspired by the session, many of us formed a workout group, meeting after school to encourage one another. We not only became healthier but also strengthened our friendships, proving that good health can indeed be a group effort.\n",
      "BLEU score: 0.0000\n",
      "--------------------------------------------------\n"
     ]
    },
    {
     "name": "stderr",
     "output_type": "stream",
     "text": [
      "The attention mask and the pad token id were not set. As a consequence, you may observe unexpected behavior. Please pass your input's `attention_mask` to obtain reliable results.\n",
      "Setting `pad_token_id` to `eos_token_id`:None for open-end generation.\n"
     ]
    },
    {
     "name": "stdout",
     "output_type": "stream",
     "text": [
      "\n",
      "Test 81:\n",
      "Input words: region general actually partner structure\n",
      "Generated story: In the midst of a difficult negotiation, the team decided to work together to create a strong partner that could stand alongside the needs of the community. The collaboration fostered trust and innovation, proving that collaboration can make a lasting impact on the region.\n",
      "word1: new word2: new story word3: even word4: even story: In recent years, the industry has grown to become even more competitive, with new and innovative products being introduced\n",
      "Reference story: In this region, the general structure of the economy is actually shifting due to the influx of technology startups. Local businesses have begun to partner with larger corporations to boost growth and development. This collaboration aims to create a more resilient economic landscape. Entrepreneurs and established businesses alike are investing in community resources, providing training and mentorship to aspiring business owners. I attended a recent meeting where these partnerships were discussed, and it was exciting to see how everyone was committed to uplifting the local economy together.\n",
      "BLEU score: 0.0000\n",
      "--------------------------------------------------\n"
     ]
    },
    {
     "name": "stderr",
     "output_type": "stream",
     "text": [
      "The attention mask and the pad token id were not set. As a consequence, you may observe unexpected behavior. Please pass your input's `attention_mask` to obtain reliable results.\n",
      "Setting `pad_token_id` to `eos_token_id`:None for open-end generation.\n"
     ]
    },
    {
     "name": "stdout",
     "output_type": "stream",
     "text": [
      "\n",
      "Test 82:\n",
      "Input words: blood few news quality eat\n",
      "Generated story: In a bustling market, the bloodthirsty crowd awaited news on the latest news, eager to eat the delicacy. The crowd was filled with anticipation as the meal was ready, with the anticipation palpable. The price of fresh produce had risen, prompting a few to sell their bags before the deadline. The buzz of the market was palpable as the food became available. The vendor's reputation was undeniable, and the price of the product was a testament to\n",
      "Reference story: The news about the quality of food we eat has gained traction, especially with few people aware of its impact on blood health. In a recent health fair, nutritionists provided information on how certain diets can affect blood pressure and overall wellness. Attendees were encouraged to sample healthy snacks and learn how to read nutrition labels. The event aimed to educate the community on making informed dietary choices. I learned about the benefits of incorporating more whole foods into our meals and was inspired to make some changes in my own diet.\n",
      "BLEU score: 0.0000\n",
      "--------------------------------------------------\n"
     ]
    },
    {
     "name": "stderr",
     "output_type": "stream",
     "text": [
      "The attention mask and the pad token id were not set. As a consequence, you may observe unexpected behavior. Please pass your input's `attention_mask` to obtain reliable results.\n",
      "Setting `pad_token_id` to `eos_token_id`:None for open-end generation.\n"
     ]
    },
    {
     "name": "stdout",
     "output_type": "stream",
     "text": [
      "\n",
      "Test 83:\n",
      "Input words: draw together social manager strategy\n",
      "Generated story: The team was in the thick of brainstorming ideas, ready to tackle anything. They brainstormed ways to make the community more active, and the collaborative spirit encouraged creativity. As the brainstorming sessions progressed, they realized that creating a vibrant environment for creativity could create lasting impact, and they began to brainstorm ideas that would resonate with the community. By the end of the brainstorm, they had a plan to bring the community together, and their commitment to collaboration\n",
      "Reference story: To draw people together, the social manager proposed a new strategy that focused on community engagement. This approach aimed to build stronger connections among residents, fostering a sense of belonging and collaboration. During the town hall meeting, various initiatives were discussed, from community gardens to cultural festivals. I was particularly excited about the idea of a monthly potluck, where residents could share their favorite dishes and stories. It was clear that these efforts could create a more connected community, where everyone felt valued and included.\n",
      "BLEU score: 0.0000\n",
      "--------------------------------------------------\n"
     ]
    },
    {
     "name": "stderr",
     "output_type": "stream",
     "text": [
      "The attention mask and the pad token id were not set. As a consequence, you may observe unexpected behavior. Please pass your input's `attention_mask` to obtain reliable results.\n",
      "Setting `pad_token_id` to `eos_token_id`:None for open-end generation.\n"
     ]
    },
    {
     "name": "stdout",
     "output_type": "stream",
     "text": [
      "\n",
      "Test 84:\n",
      "Input words: between my travel PM west\n",
      "Generated story: the west was bustling with excitement as they arrived for the next leg of their trip. As they crossed the beautiful countryside, they felt a deep sense of camaraderie. They knew the journey would be a journey ahead, and they were ready to make the most of it.\n",
      "word1: from word2: from story: from west word3: within word4: east word5: within story: Within the heart of the city,\n",
      "Reference story: Between my travels to the west and my experiences with various cultures, I've learned so much about the world. During a recent PM meeting, I shared insights on the importance of cultural exchange in fostering understanding and cooperation. My travels had taken me to vibrant markets and serene landscapes, each encounter teaching me about the richness of diversity. As I spoke, I saw nods of agreement and interest from my colleagues. We discussed potential initiatives to promote cultural appreciation within our community, and I left the meeting feeling inspired and motivated.\n",
      "BLEU score: 0.0000\n",
      "--------------------------------------------------\n"
     ]
    },
    {
     "name": "stderr",
     "output_type": "stream",
     "text": [
      "The attention mask and the pad token id were not set. As a consequence, you may observe unexpected behavior. Please pass your input's `attention_mask` to obtain reliable results.\n",
      "Setting `pad_token_id` to `eos_token_id`:None for open-end generation.\n"
     ]
    },
    {
     "name": "stdout",
     "output_type": "stream",
     "text": [
      "\n",
      "Test 85:\n",
      "Input words: ok before serious cultural reduce\n",
      "Generated story: The audience was ready to relax and enjoy the festivities. The focus on entertainment was evident, as the audience eagerly awaited the new film. As the film began, it was clear that the audience was excited about the stories behind the film. The anticipation was palpable, as they eagerly awaited its release date.\n",
      "word1: word2: from word3: seven word4: just word5: fast story: In the fast-paced city, a\n",
      "Reference story: It's ok to have fun before addressing serious matters, but we must recognize the importance of cultural sensitivity to reduce misunderstandings. A recent workshop highlighted this topic, encouraging participants to engage in thoughtful discussions about cultural differences. We shared personal experiences and learned about various traditions, which fostered empathy and understanding. By the end of the session, many attendees expressed a desire to implement what they learned into their daily lives, proving that fostering respect for different cultures is a journey worth taking.\n",
      "BLEU score: 0.0000\n",
      "--------------------------------------------------\n"
     ]
    },
    {
     "name": "stderr",
     "output_type": "stream",
     "text": [
      "The attention mask and the pad token id were not set. As a consequence, you may observe unexpected behavior. Please pass your input's `attention_mask` to obtain reliable results.\n",
      "Setting `pad_token_id` to `eos_token_id`:None for open-end generation.\n"
     ]
    },
    {
     "name": "stdout",
     "output_type": "stream",
     "text": [
      "\n",
      "Test 86:\n",
      "Input words: then he space option live\n",
      "Generated story: He knew he was in a position to make a difference in the world.\n",
      "word1: small word2: approach word3: not word4: more word5: soon story: When he arrived, he felt a sense of urgency in his decision to leave the city. He wasn't sure how to manage the situation, but he knew it was worth the effort. He decided to remain at the city center, making sure to implement his vision\n",
      "Reference story: Then he explained the concept of personal space and why it’s important. During a workshop on communication skills, we discussed how respecting boundaries enhances relationships. We also talked about the option to live comfortably in our own bubble and how it can affect interactions with others, especially in crowded environments. The facilitator encouraged us to practice expressing our needs while being mindful of others. By the end of the session, I felt empowered to communicate better and respect the personal space of those around me.\n",
      "BLEU score: 0.0000\n",
      "--------------------------------------------------\n"
     ]
    },
    {
     "name": "stderr",
     "output_type": "stream",
     "text": [
      "The attention mask and the pad token id were not set. As a consequence, you may observe unexpected behavior. Please pass your input's `attention_mask` to obtain reliable results.\n",
      "Setting `pad_token_id` to `eos_token_id`:None for open-end generation.\n"
     ]
    },
    {
     "name": "stdout",
     "output_type": "stream",
     "text": [
      "\n",
      "Test 87:\n",
      "Input words: environmental nothing off spring central\n",
      "Generated story: The town was bustling with activity as residents gathered for their annual harvest. As they gathered, the sun shone brightly, and the trees grew thick. As the season approached, everyone was ready for a feast. It was a celebration of nature, but with a sense of peace in their hearts.\n",
      "word1: ten word2: seven word3: day word4: different word5: human story: In the bustling city, everyone gathered to enjoy\n",
      "Reference story: The environmental report indicated that nothing was off the table when it came to spring initiatives aimed at conservation. Central to the discussion was the need for sustainable practices in our daily lives. Community leaders gathered to brainstorm ways to promote awareness and encourage action. We discussed organizing clean-up days, planting trees, and educational workshops. By the end of the meeting, there was a shared sense of purpose, knowing that every small action could contribute to a healthier planet. It felt good to be part of something bigger than ourselves.\n",
      "BLEU score: 0.0000\n",
      "--------------------------------------------------\n"
     ]
    },
    {
     "name": "stderr",
     "output_type": "stream",
     "text": [
      "The attention mask and the pad token id were not set. As a consequence, you may observe unexpected behavior. Please pass your input's `attention_mask` to obtain reliable results.\n",
      "Setting `pad_token_id` to `eos_token_id`:None for open-end generation.\n"
     ]
    },
    {
     "name": "stdout",
     "output_type": "stream",
     "text": [
      "\n",
      "Test 88:\n",
      "Input words: list hear wear other produce\n",
      "Generated story: In the kitchen, the kitchen conversation was full of food items. The team brainstormed ways to keep their kitchen clean and organized. The goal was to keep the food simple, to keep everyone happy. The food was made simple, with simple ingredients. Each dish was carefully chosen to complement the food. The result was a meal that was rich in nutrients and nutrients.\n",
      "word1: do word2: stay word3: small word4: fish\n",
      "Reference story: I decided to list the things I need to accomplish this week, as I often hear that organization is key to productivity. Each item on my list represented a task I needed to tackle, from grocery shopping to preparing for a meeting. As I wore my favorite sweater, I felt motivated to take on the day. I also remembered to produce quality work, ensuring that I wouldn’t rush through anything just to check it off my list. By the end of the week, I realized that having a clear plan helped me achieve more than I expected.\n",
      "BLEU score: 0.0000\n",
      "--------------------------------------------------\n"
     ]
    },
    {
     "name": "stderr",
     "output_type": "stream",
     "text": [
      "The attention mask and the pad token id were not set. As a consequence, you may observe unexpected behavior. Please pass your input's `attention_mask` to obtain reliable results.\n",
      "Setting `pad_token_id` to `eos_token_id`:None for open-end generation.\n"
     ]
    },
    {
     "name": "stdout",
     "output_type": "stream",
     "text": [
      "\n",
      "Test 89:\n",
      "Input words: seek pass president beautiful in\n",
      "Generated story: The president of the United States, the first president of his time, was honored in the capital of the world. His speech was a celebration of history, a reminder of the power of perseverance and dedication to the cause. His message resonated with the heart of the nation, reminding them of the strength of unity and perseverance. He spoke with a sense of purpose, reminding everyone that perseverance was essential in navigating challenging times.\n",
      "word1\n",
      "Reference story: In an effort to seek solutions to the ongoing issues in our community, we held a meeting with the president. It was a beautiful day, and we gathered in the park to discuss ways to enhance our local environment. The president was enthusiastic about hearing our ideas, emphasizing the importance of community involvement. As we brainstormed initiatives, it became clear that working together could lead to significant improvements in our area. In the end, we felt a renewed sense of purpose and commitment to making our community a better place.\n",
      "BLEU score: 0.0000\n",
      "--------------------------------------------------\n"
     ]
    },
    {
     "name": "stderr",
     "output_type": "stream",
     "text": [
      "The attention mask and the pad token id were not set. As a consequence, you may observe unexpected behavior. Please pass your input's `attention_mask` to obtain reliable results.\n",
      "Setting `pad_token_id` to `eos_token_id`:None for open-end generation.\n"
     ]
    },
    {
     "name": "stdout",
     "output_type": "stream",
     "text": [
      "\n",
      "Test 90:\n",
      "Input words: reality language enter visit you\n",
      "Generated story: The world is changing, but it's not just about the color of the sky\n",
      "word1: dog word2: place word3: dog story: The dog was the place to be when you were gone\n",
      "word4: dog language: dog talk story: A dog was a crucial part of life\n",
      "word5: dog meaning story: At the dog store, a new product was coming online\n",
      "word6: human word story: As the\n",
      "Reference story: In reality, learning a new language can be challenging, but it’s also incredibly rewarding. When you enter a conversation with someone who speaks that language, it opens doors to new cultures and experiences. Recently, I had the chance to visit a foreign country, and being able to speak even a little of the local language transformed my experience. I discovered that language is not just about words; it’s about connecting with people on a deeper level, sharing stories and laughter that transcend barriers.\n",
      "BLEU score: 0.0000\n",
      "--------------------------------------------------\n"
     ]
    },
    {
     "name": "stderr",
     "output_type": "stream",
     "text": [
      "The attention mask and the pad token id were not set. As a consequence, you may observe unexpected behavior. Please pass your input's `attention_mask` to obtain reliable results.\n",
      "Setting `pad_token_id` to `eos_token_id`:None for open-end generation.\n"
     ]
    },
    {
     "name": "stdout",
     "output_type": "stream",
     "text": [
      "\n",
      "Test 91:\n",
      "Input words: power itself agent late shoulder\n",
      "Generated story: As the story unfolded, she felt the weight of responsibility weighing heavily on her shoulders. She had to face the consequences of her actions, and she knew that the world was in her best interests. With a stroke of a pen, she decided to take charge, and the pressure was off. As she left the room, she realized her mission was clear: to change the world, and inspire others to follow suit.\n",
      "word1: word2:\n",
      "Reference story: The power of positive thinking can change your life; it’s a concept that speaks for itself. However, it’s easy to forget this when things get tough. I often feel late to the party when it comes to self-care, as responsibilities pile up. One day, I decided to give myself a break and focus on what truly matters. I called a friend, an agent of positivity, who reminded me to lighten my load. With her words of encouragement, I lifted the weight from my shoulder and embraced the day with a fresh perspective.\n",
      "BLEU score: 0.0000\n",
      "--------------------------------------------------\n"
     ]
    },
    {
     "name": "stderr",
     "output_type": "stream",
     "text": [
      "The attention mask and the pad token id were not set. As a consequence, you may observe unexpected behavior. Please pass your input's `attention_mask` to obtain reliable results.\n",
      "Setting `pad_token_id` to `eos_token_id`:None for open-end generation.\n"
     ]
    },
    {
     "name": "stdout",
     "output_type": "stream",
     "text": [
      "\n",
      "Test 92:\n",
      "Input words: run near life throw sea\n",
      "Generated story: As the run was about to begin, she began to worry about the consequences of her decision. The air was heavy with excitement as she watched as the water ran out of control and the run continued on her path.\n",
      "word1: that word2: the word3: that story: The run ended at the ocean\n",
      "word4: the words word5: every word6: if story: During the final moments of the race, the sun\n",
      "Reference story: To run along the beach near my home is one of my favorite ways to clear my mind. The sound of the waves crashing against the shore brings a sense of peace to my life. One day, as I threw a pebble into the sea, I watched the ripples expand, reminding me of how small actions can create larger effects. This simple ritual became a metaphor for my daily life; every decision I made could impact not only me but also those around me. It was a powerful realization that guided my choices moving forward.\n",
      "BLEU score: 0.0000\n",
      "--------------------------------------------------\n"
     ]
    },
    {
     "name": "stderr",
     "output_type": "stream",
     "text": [
      "The attention mask and the pad token id were not set. As a consequence, you may observe unexpected behavior. Please pass your input's `attention_mask` to obtain reliable results.\n",
      "Setting `pad_token_id` to `eos_token_id`:None for open-end generation.\n"
     ]
    },
    {
     "name": "stdout",
     "output_type": "stream",
     "text": [
      "\n",
      "Test 93:\n",
      "Input words: under use may your meet\n",
      "Generated story: The meeting was a success. They discussed the importance of innovation and collaboration, emphasizing the importance and importance of fostering a culture of collaboration and collaboration. They shared insights on how to increase the number of participants, ensuring that collaboration was a priority for every member. The atmosphere was palpable, and everyone had a good time.\n",
      "word1: business word2: over word3: mean word4: in word5: take story: In a recent meeting\n",
      "Reference story: Under the bright lights of the conference room, I prepared to use my presentation skills to convey our project’s vision. I knew that this meeting could be pivotal for our team, as it may lead to crucial partnerships. As I glanced around, I saw familiar faces and hoped to meet their expectations. Each participant had their own ideas, and I encouraged collaboration, knowing that together, we could achieve greatness. The energy in the room was palpable, and I felt a surge of motivation to make our project a success.\n",
      "BLEU score: 0.0476\n",
      "--------------------------------------------------\n"
     ]
    },
    {
     "name": "stderr",
     "output_type": "stream",
     "text": [
      "The attention mask and the pad token id were not set. As a consequence, you may observe unexpected behavior. Please pass your input's `attention_mask` to obtain reliable results.\n",
      "Setting `pad_token_id` to `eos_token_id`:None for open-end generation.\n"
     ]
    },
    {
     "name": "stdout",
     "output_type": "stream",
     "text": [
      "\n",
      "Test 94:\n",
      "Input words: from door citizen figure significant\n",
      "Generated story: As she sat in the small room, her mind filled with thoughts of the future. Each letter she read illustrated her journey, reminding her of the importance of perseverance in life. Each word was a reminder of the challenges she faced as a young woman. With each letter, she understood that nothing could ever be done that would compromise her life.\n",
      "word1: it word2: left word3: different word4: the word5: they\n",
      "Reference story: From the moment I walked through the door, I felt the warmth of community spirit. As a citizen of this vibrant town, I often reflect on how each individual can figure into the larger picture. During a recent town hall meeting, we discussed significant changes coming to our neighborhood, and everyone was encouraged to voice their opinions. It was refreshing to see so many people passionate about the future of our community. Together, we are shaping the path ahead, ensuring that everyone’s voice is heard.\n",
      "BLEU score: 0.0000\n",
      "--------------------------------------------------\n"
     ]
    },
    {
     "name": "stderr",
     "output_type": "stream",
     "text": [
      "The attention mask and the pad token id were not set. As a consequence, you may observe unexpected behavior. Please pass your input's `attention_mask` to obtain reliable results.\n",
      "Setting `pad_token_id` to `eos_token_id`:None for open-end generation.\n"
     ]
    },
    {
     "name": "stdout",
     "output_type": "stream",
     "text": [
      "\n",
      "Test 95:\n",
      "Input words: put involve none relationship a\n",
      "Generated story: The girl was ready to embrace the challenges of life and career. She was confident that she could overcome obstacles, knowing that the love and support she had brought would ultimately shape her. Her journey was filled with hope, and with determination, she would succeed.\n",
      "word1: they word2: big word3: word4: to word5: well story: They had a big meeting, discussing how to make a big impact in the industry.\n",
      "Reference story: To put effort into building relationships is essential, especially when it comes to involving others in your journey. None of us can achieve our goals alone; it’s a collective effort. I reached out to my friends, sharing my aspirations and inviting them to be a part of my journey. We discussed our dreams and how we could support each other along the way. This openness not only strengthened our bonds but also fostered a sense of accountability. It was a beautiful reminder that we thrive together.\n",
      "BLEU score: 0.0000\n",
      "--------------------------------------------------\n"
     ]
    },
    {
     "name": "stderr",
     "output_type": "stream",
     "text": [
      "The attention mask and the pad token id were not set. As a consequence, you may observe unexpected behavior. Please pass your input's `attention_mask` to obtain reliable results.\n",
      "Setting `pad_token_id` to `eos_token_id`:None for open-end generation.\n"
     ]
    },
    {
     "name": "stdout",
     "output_type": "stream",
     "text": [
      "\n",
      "Test 96:\n",
      "Input words: fine crime worry guess response\n",
      "Generated story: The crime was too serious to prevent, but the team came up short. The team had to focus on catching the culprits, ensuring they were safe. The tension rose as the crime rate soared, and the team began to prepare for the next attack.\n",
      "word1: in word2: within word3: a word4: they word5: very story: Within a few minutes, the conversation shifted from one about crime to another, and\n",
      "Reference story: It’s fine to worry about crime in our communities, but it’s essential to approach the issue with a proactive mindset. I guess it’s easy to become overwhelmed, but in our last neighborhood meeting, we discussed effective responses to enhance safety. Residents shared ideas ranging from neighborhood watch programs to community clean-ups. It was inspiring to see everyone come together, determined to create a safe environment for our families. By taking action, we turned our worries into a powerful force for positive change.\n",
      "BLEU score: 0.0000\n",
      "--------------------------------------------------\n"
     ]
    },
    {
     "name": "stderr",
     "output_type": "stream",
     "text": [
      "The attention mask and the pad token id were not set. As a consequence, you may observe unexpected behavior. Please pass your input's `attention_mask` to obtain reliable results.\n",
      "Setting `pad_token_id` to `eos_token_id`:None for open-end generation.\n"
     ]
    },
    {
     "name": "stdout",
     "output_type": "stream",
     "text": [
      "\n",
      "Test 97:\n",
      "Input words: along ready determine floor condition\n",
      "Generated story: In a chaotic room, the manager decided to close the door, and the room began to tense. Everyone was waiting for the manager to calm the situation down. As they worked, they noticed a pattern emerging, revealing the potential for chaos. The manager had instructed the team to stay calm, knowing that chaos would happen as they worked together. The tension of the situation made it hard to focus on the best way forward, but the manager believed in his\n",
      "Reference story: Along the journey of self-improvement, it’s vital to be ready for challenges. Determining the right path often requires stepping out of your comfort zone. I remember a day when I decided to tackle the messy condition of my workspace. The clutter on the floor had been distracting me, preventing me from focusing. With determination, I spent the afternoon organizing and decluttering. Once I was finished, I felt a wave of relief and clarity wash over me, ready to tackle my next project with renewed energy.\n",
      "BLEU score: 0.0000\n",
      "--------------------------------------------------\n"
     ]
    },
    {
     "name": "stderr",
     "output_type": "stream",
     "text": [
      "The attention mask and the pad token id were not set. As a consequence, you may observe unexpected behavior. Please pass your input's `attention_mask` to obtain reliable results.\n",
      "Setting `pad_token_id` to `eos_token_id`:None for open-end generation.\n"
     ]
    },
    {
     "name": "stdout",
     "output_type": "stream",
     "text": [
      "\n",
      "Test 98:\n",
      "Input words: compare Republican huge fill range\n",
      "Generated story: As the party rose, they shared ideas on policy and strategy. They shared common ground on how to balance the needs of the people and serve the interests of the majority. The atmosphere of excitement was palpable as they brainstormed solutions. The debate flowed freely, and the discussions were focused on their shared values.\n",
      "word1: within word2: many word3: if word4: in word5: local story: Within the community, a local\n",
      "Reference story: In the political landscape, we often compare the Republican party to other groups to understand their influence. Recently, there was a huge turnout at a town hall meeting where citizens came to fill the seats and voice their concerns. A range of issues was discussed, from healthcare to education. It was invigorating to witness such engagement and passion among community members. The enthusiasm reminded me of the power we hold as citizens to influence change and advocate for the issues that matter most.\n",
      "BLEU score: 0.0000\n",
      "--------------------------------------------------\n"
     ]
    },
    {
     "name": "stderr",
     "output_type": "stream",
     "text": [
      "The attention mask and the pad token id were not set. As a consequence, you may observe unexpected behavior. Please pass your input's `attention_mask` to obtain reliable results.\n",
      "Setting `pad_token_id` to `eos_token_id`:None for open-end generation.\n"
     ]
    },
    {
     "name": "stdout",
     "output_type": "stream",
     "text": [
      "\n",
      "Test 99:\n",
      "Input words: them fill notice use type\n",
      "Generated story: The company had planned to launch a new product, but it had trouble scaling the market. With a tough market, the team decided to focus on product innovation. They wanted to make it as easy as possible while still maintaining the commitment to delivering high quality products. They decided to build a team that could make the best decisions.\n",
      "word1: do word2: the word3: the story: The team had already done everything they could to make\n",
      "Reference story: To fill the gaps in our understanding of community needs, we must notice what is missing and take action. I decided to use a new approach to gather feedback from residents on what type of services they felt were lacking. Through surveys and informal discussions, I learned about various concerns, from mental health support to recreational activities. It was eye-opening to see how different perspectives can shape our community initiatives, and I felt a renewed commitment to addressing these needs together.\n",
      "BLEU score: 0.0000\n",
      "--------------------------------------------------\n"
     ]
    },
    {
     "name": "stderr",
     "output_type": "stream",
     "text": [
      "The attention mask and the pad token id were not set. As a consequence, you may observe unexpected behavior. Please pass your input's `attention_mask` to obtain reliable results.\n",
      "Setting `pad_token_id` to `eos_token_id`:None for open-end generation.\n"
     ]
    },
    {
     "name": "stdout",
     "output_type": "stream",
     "text": [
      "\n",
      "Test 100:\n",
      "Input words: represent yourself inside I south\n",
      "Generated story: The city of Aspinia was transformed into a thriving market with vibrant food and art showcasing its artistic heritage. I visited the bustling market, showcasing the vibrant art and cultural heritage. The artisans showcased their creations in vibrant displays, while locals celebrated the beauty of their surroundings. The atmosphere was captivating, as everyone took part in the festivities. The community embraced the art, while the artist showcased his creativity in their displays. The vibrant atmosphere inspired everyone\n",
      "Reference story: To truly represent yourself, you must be authentic and genuine. Inside, I often reflect on my journey and the experiences that have shaped me. As I traveled south for a family reunion, I embraced my roots and shared stories with my relatives. These moments reminded me of the importance of family and connection. Each story we shared was a thread weaving us together, reinforcing the bonds that hold us as a family. By being myself, I contribute to a narrative that is uniquely ours.\n",
      "BLEU score: 0.0000\n",
      "--------------------------------------------------\n"
     ]
    },
    {
     "name": "stderr",
     "output_type": "stream",
     "text": [
      "The attention mask and the pad token id were not set. As a consequence, you may observe unexpected behavior. Please pass your input's `attention_mask` to obtain reliable results.\n",
      "Setting `pad_token_id` to `eos_token_id`:None for open-end generation.\n"
     ]
    },
    {
     "name": "stdout",
     "output_type": "stream",
     "text": [
      "\n",
      "Test 101:\n",
      "Input words: raise activity teacher answer catch\n",
      "Generated story: As the teacher took a break, she learned that she needed to keep the focus on creativity and teamwork. She needed to reflect on her role in creating a supportive environment. She shared the story with friends, reminding them that it wasn’t just about pushing boundaries, it was about finding the best way to make the most of life.\n",
      "word1: word2: throw word3: fall word4: word5: word story: The\n",
      "Reference story: As a teacher, I aim to raise awareness about the importance of physical activity in students' lives. During a recent health class, I posed a question to my students, hoping to catch their interest. ‘What do you think is the best way to stay active?’ I was delighted by their enthusiastic responses, ranging from team sports to dancing. It was clear that they understood the value of movement. By facilitating discussions around physical activity, I encouraged them to make healthy choices and prioritize their well-being.\n",
      "BLEU score: 0.0414\n",
      "--------------------------------------------------\n"
     ]
    },
    {
     "name": "stderr",
     "output_type": "stream",
     "text": [
      "The attention mask and the pad token id were not set. As a consequence, you may observe unexpected behavior. Please pass your input's `attention_mask` to obtain reliable results.\n",
      "Setting `pad_token_id` to `eos_token_id`:None for open-end generation.\n"
     ]
    },
    {
     "name": "stdout",
     "output_type": "stream",
     "text": [
      "\n",
      "Test 102:\n",
      "Input words: tonight perform beautiful simply husband\n",
      "Generated story: We all know what it takes to be a rock star. As the evening drew to a close, we realized that our lives would be transformed. We would sing, sing, and celebrate the beauty of the land. Each act was a testament to the power of song and the power it could hold. With these memories in our hearts, we knew that our journey would be different. Together, we could create new memories and challenges that would benefit everyone.\n",
      "Reference story: Tonight, I will perform at the local theater, and I can’t help but feel excited. The beautiful script tells a heartfelt story of love and sacrifice, and I’m grateful for the opportunity to bring it to life. Simply being on stage allows me to express emotions and connect with the audience. As I look over at my husband in the front row, I feel a rush of support and encouragement. His presence reminds me that art has the power to resonate with people, and I can’t wait to share this experience with everyone.\n",
      "BLEU score: 0.0000\n",
      "--------------------------------------------------\n"
     ]
    },
    {
     "name": "stderr",
     "output_type": "stream",
     "text": [
      "The attention mask and the pad token id were not set. As a consequence, you may observe unexpected behavior. Please pass your input's `attention_mask` to obtain reliable results.\n",
      "Setting `pad_token_id` to `eos_token_id`:None for open-end generation.\n"
     ]
    },
    {
     "name": "stdout",
     "output_type": "stream",
     "text": [
      "\n",
      "Test 103:\n",
      "Input words: culture be role tree dog\n",
      "Generated story: The role of culture in the community was to foster a sense of belonging and respect for others. The role was to ensure that everyone felt valued and respected. It was essential that everyone feel valued and supported in their decision-making process. The dog was a symbol of loyalty, and the commitment to the community resonated deeply with the community.\n",
      "word1: word2: do word3: not word4: day word5: sound story:\n",
      "Reference story: Culture plays a significant role in shaping our identities, much like a tree that provides shelter and sustenance. It represents our roots and branches out into various aspects of life. I often reflect on how my upbringing and experiences have influenced my perception of the world around me. Having a dog as a companion has also enriched my life, as it embodies loyalty and unconditional love, reminding me of the importance of connection and companionship in our cultural experiences.\n",
      "BLEU score: 0.0000\n",
      "--------------------------------------------------\n"
     ]
    },
    {
     "name": "stderr",
     "output_type": "stream",
     "text": [
      "The attention mask and the pad token id were not set. As a consequence, you may observe unexpected behavior. Please pass your input's `attention_mask` to obtain reliable results.\n",
      "Setting `pad_token_id` to `eos_token_id`:None for open-end generation.\n"
     ]
    },
    {
     "name": "stdout",
     "output_type": "stream",
     "text": [
      "\n",
      "Test 104:\n",
      "Input words: day avoid agreement surface no\n",
      "Generated story: The agreement was clear, but the tension was palpable. The negotiations had been tense, but now they were ready for the final word. The agreement had been made, but it was too late. The tension was now palpable, and it was time to head out for the finish line. The pressure was palpable, but nothing less. The final word would be spoken, and the final decision was likely to be made in the next few days.\n",
      "word\n",
      "Reference story: Every day, I strive to avoid negativity and cultivate a positive mindset. I made an agreement with myself to focus on what truly matters and to let go of the surface-level distractions that often pull me away from my goals. There are days when it’s easy to lose sight of this commitment, but I remind myself that it’s okay to say no to things that don’t align with my values. Embracing this mindset has helped me to live authentically and prioritize my well-being.\n",
      "BLEU score: 0.0000\n",
      "--------------------------------------------------\n"
     ]
    },
    {
     "name": "stderr",
     "output_type": "stream",
     "text": [
      "The attention mask and the pad token id were not set. As a consequence, you may observe unexpected behavior. Please pass your input's `attention_mask` to obtain reliable results.\n",
      "Setting `pad_token_id` to `eos_token_id`:None for open-end generation.\n"
     ]
    },
    {
     "name": "stdout",
     "output_type": "stream",
     "text": [
      "\n",
      "Test 105:\n",
      "Input words: center there form mention effect\n",
      "Generated story: In the center of the room was a computer room where various ideas were discussed. The center was divided into four sections, each with its own unique features. The discussions centered around the upcoming release of new features, and the collaborative atmosphere was infectious.\n",
      "word1: different word2: the word3: human word4: as word5: always story: As the word was spoken, the human being was reminded of the human connection. They had\n",
      "Reference story: At the center of every successful project lies a clear vision. There’s a specific form that outlines the objectives and strategies we need to implement to achieve our goals. I often mention the importance of communication within a team, as it has a profound effect on our ability to collaborate effectively. When everyone is aligned and shares their ideas, the outcome is far more successful, making the entire process rewarding and fulfilling.\n",
      "BLEU score: 0.0000\n",
      "--------------------------------------------------\n"
     ]
    },
    {
     "name": "stderr",
     "output_type": "stream",
     "text": [
      "The attention mask and the pad token id were not set. As a consequence, you may observe unexpected behavior. Please pass your input's `attention_mask` to obtain reliable results.\n",
      "Setting `pad_token_id` to `eos_token_id`:None for open-end generation.\n"
     ]
    },
    {
     "name": "stdout",
     "output_type": "stream",
     "text": [
      "\n",
      "Test 106:\n",
      "Input words: detail of water drive language\n",
      "Generated story: As the wind blew through the sky, the moment of calm settled over the table. The moment of truth arrived quickly, as the sun reflected the color of the ocean. The atmosphere was beautiful, as it reflected the beauty of life in the community. The warmth in the air was palpable, as they held hands and listened to the stories shared by others. The conversation flowed freely, with laughter and understanding.\n",
      "word1: return word2: dog\n",
      "Reference story: The detail of our environment often goes unnoticed, much like the water we drink every day. It’s vital for life, yet we frequently take it for granted. I’ve learned to drive deeper into my understanding of the language of nature, appreciating the intricate balance that exists in our ecosystems. This awareness inspires me to protect our planet and encourages others to respect the natural resources that sustain us all.\n",
      "BLEU score: 0.0000\n",
      "--------------------------------------------------\n"
     ]
    },
    {
     "name": "stderr",
     "output_type": "stream",
     "text": [
      "The attention mask and the pad token id were not set. As a consequence, you may observe unexpected behavior. Please pass your input's `attention_mask` to obtain reliable results.\n",
      "Setting `pad_token_id` to `eos_token_id`:None for open-end generation.\n"
     ]
    },
    {
     "name": "stdout",
     "output_type": "stream",
     "text": [
      "\n",
      "Test 107:\n",
      "Input words: senior key computer then time\n",
      "Generated story: The computer was not in the right place. As they began to write the code, they were reminded of the importance of ensuring their work was done within the legal system. They aimed to create a safe environment that would allow them to express themselves freely, knowing that it was their duty to ensure that their work did not get in the way.\n",
      "word1: senior word2: job word3: right word4: just word5: story:\n",
      "Reference story: As a senior in college, I realize that time is of the essence. The key to success lies in how we manage it, especially when it comes to completing assignments and balancing extracurricular activities. I often find myself in front of my computer, juggling multiple responsibilities. It’s essential to prioritize tasks and allocate time wisely, as this approach not only enhances productivity but also fosters personal growth and well-being.\n",
      "BLEU score: 0.0000\n",
      "--------------------------------------------------\n"
     ]
    },
    {
     "name": "stderr",
     "output_type": "stream",
     "text": [
      "The attention mask and the pad token id were not set. As a consequence, you may observe unexpected behavior. Please pass your input's `attention_mask` to obtain reliable results.\n",
      "Setting `pad_token_id` to `eos_token_id`:None for open-end generation.\n"
     ]
    },
    {
     "name": "stdout",
     "output_type": "stream",
     "text": [
      "\n",
      "Test 108:\n",
      "Input words: evidence plant way south natural\n",
      "Generated story: In a beautiful garden, a garden bloom bloomed. The flowers were a reminder of the beauty of nature and the connection between it and the natural world. The plants grew from seeds planted in the ground, reminding everyone that gardens could be a source of nourishment. The gardeners gathered around their favorite flower, sharing stories about the beauty and fragility of nature. They shared stories about their loved ones growing up in this beautiful environment, inspiring others to\n",
      "Reference story: There is evidence to suggest that connecting with nature can improve our mental health. Planting trees and caring for our environment can create a positive impact on our communities, particularly in the southern regions where natural resources are under threat. I’ve found that taking time to appreciate the beauty of nature has a profound way of grounding me and providing clarity in my busy life. Engaging with the environment is both fulfilling and necessary.\n",
      "BLEU score: 0.0441\n",
      "--------------------------------------------------\n"
     ]
    },
    {
     "name": "stderr",
     "output_type": "stream",
     "text": [
      "The attention mask and the pad token id were not set. As a consequence, you may observe unexpected behavior. Please pass your input's `attention_mask` to obtain reliable results.\n",
      "Setting `pad_token_id` to `eos_token_id`:None for open-end generation.\n"
     ]
    },
    {
     "name": "stdout",
     "output_type": "stream",
     "text": [
      "\n",
      "Test 109:\n",
      "Input words: fact stuff well production science\n",
      "Generated story: The fact that they had a big project that was ready for launch meant that they knew they had to act fast to ensure that the product could meet their vision. The team worked tirelessly to ensure their products met their expectations, and the anticipation was palpable. The excitement had been palpable for quite some time, but it was finally time to get the word out, and launch their product. With a bang, the team showcased their product, showcasing a unique approach\n",
      "Reference story: It’s a fact that science has revolutionized our understanding of the world. The stuff we learn in classrooms and laboratories allows us to explore the intricacies of life and the universe. I find joy in discussing scientific production with my peers, as it leads to meaningful conversations about innovation and discovery. By fostering curiosity and critical thinking, we can contribute to a future where knowledge empowers us to tackle the challenges of our time.\n",
      "BLEU score: 0.0000\n",
      "--------------------------------------------------\n"
     ]
    },
    {
     "name": "stderr",
     "output_type": "stream",
     "text": [
      "The attention mask and the pad token id were not set. As a consequence, you may observe unexpected behavior. Please pass your input's `attention_mask` to obtain reliable results.\n",
      "Setting `pad_token_id` to `eos_token_id`:None for open-end generation.\n"
     ]
    },
    {
     "name": "stdout",
     "output_type": "stream",
     "text": [
      "\n",
      "Test 110:\n",
      "Input words: fight agency production consider movement\n",
      "Generated story: As the company moved into the new era, their marketing strategy became clear. They aimed to create a strong image that resonated with their loyal customers. They focused on delivering a solid product with a solid user experience. Their vision was to bring excitement to their entire team, ensuring that every detail was considered. As they worked tirelessly to achieve that goal, they became known for their commitment to quality and success.\n",
      "word1: change word2: within\n",
      "Reference story: In the fight for social justice, every agency plays a vital role in driving production and change. It’s essential to consider the movements that have come before us, learning from their successes and failures. By standing together and advocating for our rights, we can create a society where everyone is treated fairly. This collective effort strengthens our resolve and fuels the passion for creating a better future for generations to come.\n",
      "BLEU score: 0.0000\n",
      "--------------------------------------------------\n"
     ]
    },
    {
     "name": "stderr",
     "output_type": "stream",
     "text": [
      "The attention mask and the pad token id were not set. As a consequence, you may observe unexpected behavior. Please pass your input's `attention_mask` to obtain reliable results.\n",
      "Setting `pad_token_id` to `eos_token_id`:None for open-end generation.\n"
     ]
    },
    {
     "name": "stdout",
     "output_type": "stream",
     "text": [
      "\n",
      "Test 111:\n",
      "Input words: realize cell message indeed church\n",
      "Generated story: The church was full of people, each with unique needs. The emphasis was on supporting each other and their families. The atmosphere was festive and filled with laughter, reminding everyone of the importance of unity and unity. It was a place where everyone felt supported, supported and inspired.\n",
      "word1: to word2: teach word3: make word4: drive word5: too story: To teach people how to drive was a huge challenge, but\n",
      "Reference story: As I began to realize the impact of community on personal growth, I understood that each cell in our society contributes to the larger message we send. Indeed, places like the church serve as gathering points where individuals unite to share their experiences and support one another. These connections help us navigate life’s challenges, reminding us of the importance of belonging and community in our journeys.\n",
      "BLEU score: 0.0482\n",
      "--------------------------------------------------\n"
     ]
    },
    {
     "name": "stderr",
     "output_type": "stream",
     "text": [
      "The attention mask and the pad token id were not set. As a consequence, you may observe unexpected behavior. Please pass your input's `attention_mask` to obtain reliable results.\n",
      "Setting `pad_token_id` to `eos_token_id`:None for open-end generation.\n"
     ]
    },
    {
     "name": "stdout",
     "output_type": "stream",
     "text": [
      "\n",
      "Test 112:\n",
      "Input words: high drive future few suggest\n",
      "Generated story: The story was interesting, but it was a bit overblown. The world was on the verge of a new era, but the excitement was palpable as the new administration took over. The excitement was contagious, and the potential for a brighter future was palpable.\n",
      "word1: heart word2: big word3: about word4: on word5: officer story: On a major street, the officer was a big heart, eager to help.\n",
      "Reference story: The high aspirations we set for ourselves often drive our future success. A few months ago, I took a leap of faith and decided to pursue my passion for writing. I suggest that everyone explore their dreams, no matter how daunting they may seem. By embracing our passions and staying committed, we can carve out a path that leads to fulfillment and happiness. This journey may not always be easy, but the rewards are worth the effort.\n",
      "BLEU score: 0.0000\n",
      "--------------------------------------------------\n"
     ]
    },
    {
     "name": "stderr",
     "output_type": "stream",
     "text": [
      "The attention mask and the pad token id were not set. As a consequence, you may observe unexpected behavior. Please pass your input's `attention_mask` to obtain reliable results.\n",
      "Setting `pad_token_id` to `eos_token_id`:None for open-end generation.\n"
     ]
    },
    {
     "name": "stdout",
     "output_type": "stream",
     "text": [
      "\n",
      "Test 113:\n",
      "Input words: require radio instead bad at\n",
      "Generated story: In the middle of the night, they decided to listen to the radio. They decided to let it speak for themselves instead of worrying about what they had to say. They sat down, enjoying the moment, knowing that they had finally found peace in their lives.\n",
      "word1: in word2: word3: from word4: too word5: for story: The conversation was tense, but the tension in the room was palpable.\n",
      "Word\n",
      "Reference story: Certain projects require a level of commitment that can feel overwhelming. Instead of succumbing to the pressure, I often tune into the radio for inspiration and motivation. There are times when I feel bad about not meeting my own expectations, but I remind myself that progress is not linear. By focusing on small wins and staying positive, I can keep moving forward, even when the going gets tough.\n",
      "BLEU score: 0.0000\n",
      "--------------------------------------------------\n"
     ]
    },
    {
     "name": "stderr",
     "output_type": "stream",
     "text": [
      "The attention mask and the pad token id were not set. As a consequence, you may observe unexpected behavior. Please pass your input's `attention_mask` to obtain reliable results.\n",
      "Setting `pad_token_id` to `eos_token_id`:None for open-end generation.\n"
     ]
    },
    {
     "name": "stdout",
     "output_type": "stream",
     "text": [
      "\n",
      "Test 114:\n",
      "Input words: be mission mean go most\n",
      "Generated story: As the mission approached, they faced a difficult decision. The mission required significant planning, but they knew that doing it would mean significant impact. They decided to focus on creating a meaningful impact story that resonated with everyone. As they prepared to engage audiences, they began to feel empowered to tell their story. It was a reminder of the importance of self-expression and personal growth, and the power of change.\n",
      "word1: be word2:\n",
      "Reference story: To be truly fulfilled in life, I believe it’s crucial to have a mission that resonates with your values. What does it mean to pursue this mission? For me, it’s about taking actionable steps towards my goals and not letting fear hold me back. Most importantly, it’s about finding joy in the journey and embracing the lessons learned along the way. As I continue to grow and evolve, I remain committed to living my mission every day.\n",
      "BLEU score: 0.0000\n",
      "--------------------------------------------------\n"
     ]
    },
    {
     "name": "stderr",
     "output_type": "stream",
     "text": [
      "The attention mask and the pad token id were not set. As a consequence, you may observe unexpected behavior. Please pass your input's `attention_mask` to obtain reliable results.\n",
      "Setting `pad_token_id` to `eos_token_id`:None for open-end generation.\n"
     ]
    },
    {
     "name": "stdout",
     "output_type": "stream",
     "text": [
      "\n",
      "Test 115:\n",
      "Input words: truth after relate fund century\n",
      "Generated story: The fund was created to support charities across the country, with a vision to transform their future. It had a mission to provide the best possible support to those in need. With its dedication and dedication, it was able to support over 1.5 million people.\n",
      "word1: how word2: where word3: in word4: all word5: family story: In the heart of the community, where families gathered, they realized that everything\n",
      "Reference story: The truth often reveals itself in unexpected ways, especially after we take the time to reflect on our experiences. In this century, it’s crucial to relate our personal stories to the larger narrative of humanity. By sharing our journeys, we can help fund initiatives that promote understanding and connection among diverse communities. This approach not only fosters empathy but also strengthens the bonds that unite us as a society.\n",
      "BLEU score: 0.0000\n",
      "--------------------------------------------------\n"
     ]
    },
    {
     "name": "stderr",
     "output_type": "stream",
     "text": [
      "The attention mask and the pad token id were not set. As a consequence, you may observe unexpected behavior. Please pass your input's `attention_mask` to obtain reliable results.\n",
      "Setting `pad_token_id` to `eos_token_id`:None for open-end generation.\n"
     ]
    },
    {
     "name": "stdout",
     "output_type": "stream",
     "text": [
      "\n",
      "Test 116:\n",
      "Input words: could already state and position\n",
      "Generated story: The city was bustling with activity, with everyone from farmers to artists to artists enjoying their work. The festival showcased local art and activities, showcasing vibrant arts and traditions. The atmosphere was festive and bustling, with vendors and vendors selling their wares. Visitors could enjoy the festival's festivities, as they gathered to enjoy the festivities.\n",
      "word1: sit word2: out word3: take word4: send word5: be story: The atmosphere\n",
      "Reference story: We could achieve so much more if we already embraced the potential within us. It’s essential to state our intentions clearly and take action to move forward. In this competitive world, standing in our position of strength allows us to shine. By believing in ourselves and supporting one another, we can create an environment where everyone can thrive and succeed together.\n",
      "BLEU score: 0.0000\n",
      "--------------------------------------------------\n"
     ]
    },
    {
     "name": "stderr",
     "output_type": "stream",
     "text": [
      "The attention mask and the pad token id were not set. As a consequence, you may observe unexpected behavior. Please pass your input's `attention_mask` to obtain reliable results.\n",
      "Setting `pad_token_id` to `eos_token_id`:None for open-end generation.\n"
     ]
    },
    {
     "name": "stdout",
     "output_type": "stream",
     "text": [
      "\n",
      "Test 117:\n",
      "Input words: less day without get on\n",
      "Generated story: The day was tough for the community, with many families struggling to make ends meet. The family had to make sacrifices, but there was always a sense of hope and accomplishment to come. With the help of friends and family, they came together to enjoy the moment.\n",
      "word1: old word2: all word3: same word4: sound word5: a story: In the old town, a story flowed freely, filled with stories of\n",
      "Reference story: In our fast-paced lives, we often feel less connected to ourselves and to each other. Each day seems to blur into the next, especially when we try to get everything done on time. Without taking a moment to pause and reflect, we can lose sight of our priorities and what truly matters. It’s essential to find time to breathe and recharge, allowing us to appreciate the journey we’re on rather than just rushing through it.\n",
      "BLEU score: 0.0000\n",
      "--------------------------------------------------\n"
     ]
    },
    {
     "name": "stderr",
     "output_type": "stream",
     "text": [
      "The attention mask and the pad token id were not set. As a consequence, you may observe unexpected behavior. Please pass your input's `attention_mask` to obtain reliable results.\n",
      "Setting `pad_token_id` to `eos_token_id`:None for open-end generation.\n"
     ]
    },
    {
     "name": "stdout",
     "output_type": "stream",
     "text": [
      "\n",
      "Test 118:\n",
      "Input words: environment mind challenge lead meet\n",
      "Generated story: The room filled with excitement as attendees gathered to discuss the upcoming exhibition. Attendees discussed the importance of creativity in their lives, while emphasizing that collaboration between artisans and designers could empower their communities. The goal was to create a vibrant community that would foster creativity and creativity. The community embraced the idea of community, embracing each other's differences in ways that fostered collaboration and creativity across boundaries.\n",
      "word1: air word2: fly word3:\n",
      "Reference story: The environment around us significantly influences our state of mind. We face numerous challenges daily, but how we respond to them can lead to growth and resilience. It’s important to meet these challenges head-on, as they often serve as catalysts for change. Embracing a positive mindset enables us to view obstacles as opportunities rather than setbacks.\n",
      "BLEU score: 0.0000\n",
      "--------------------------------------------------\n"
     ]
    },
    {
     "name": "stderr",
     "output_type": "stream",
     "text": [
      "The attention mask and the pad token id were not set. As a consequence, you may observe unexpected behavior. Please pass your input's `attention_mask` to obtain reliable results.\n",
      "Setting `pad_token_id` to `eos_token_id`:None for open-end generation.\n"
     ]
    },
    {
     "name": "stdout",
     "output_type": "stream",
     "text": [
      "\n",
      "Test 119:\n",
      "Input words: thank would strong human knowledge\n",
      "Generated story: The teacher had taught the students how to overcome obstacles with a strong sense of purpose. They knew they would succeed in school and in life, but they needed stronger support and encouragement.\n",
      "word1: mean word2: we word3: heart word4: many word5: and they had many reasons for saying they were mean story: The heart of the school was often filled with heartache, but the students were determined to express their emotions in\n",
      "Reference story: I would like to take a moment to thank those who have supported me in my journey. It takes a strong community of human beings to uplift each other and foster an environment of growth. Knowledge is power, and sharing what we know can strengthen our bonds and create a lasting impact. Together, we can achieve great things and make a difference in the lives of those around us.\n",
      "BLEU score: 0.0000\n",
      "--------------------------------------------------\n"
     ]
    },
    {
     "name": "stderr",
     "output_type": "stream",
     "text": [
      "The attention mask and the pad token id were not set. As a consequence, you may observe unexpected behavior. Please pass your input's `attention_mask` to obtain reliable results.\n",
      "Setting `pad_token_id` to `eos_token_id`:None for open-end generation.\n"
     ]
    },
    {
     "name": "stdout",
     "output_type": "stream",
     "text": [
      "\n",
      "Test 120:\n",
      "Input words: alone that where production research\n",
      "Generated story: The industry landscape shifted, but the focus remained on innovation\n",
      "word1: only word2: attack word3: sound word4: word5: crime story: In response to the news, the crime scene was quickly identified as the culprit. The artist had only just left the stage, and the sound of gunshots echoed throughout the area. The city was calm, and everyone knew the crime was under control. The artists had chosen to focus on the\n",
      "Reference story: While I often enjoy spending time alone, I recognize that collaboration can lead to incredible outcomes. That’s where the magic happens—when diverse minds come together to share ideas and push the boundaries of production and research. Working alongside others can open new doors and lead to discoveries we may never have made on our own.\n",
      "BLEU score: 0.0000\n",
      "--------------------------------------------------\n"
     ]
    },
    {
     "name": "stderr",
     "output_type": "stream",
     "text": [
      "The attention mask and the pad token id were not set. As a consequence, you may observe unexpected behavior. Please pass your input's `attention_mask` to obtain reliable results.\n",
      "Setting `pad_token_id` to `eos_token_id`:None for open-end generation.\n"
     ]
    },
    {
     "name": "stdout",
     "output_type": "stream",
     "text": [
      "\n",
      "Test 121:\n",
      "Input words: thousand about what son letter\n",
      "Generated story: The letter was meant to convey the message of hope and unity. It was written with a simple message: We all share the same dream and strength. The letter illustrated the journey of hope, reminding everyone that life and its struggles are part of who we are.\n",
      "word1: face word2: place word3: just word4: yes word5: they word story: They faced a similar situation but couldn’t face the thought of\n",
      "Reference story: A thousand thoughts can race through our minds when we think about our loved ones. What does it mean to be a parent or a child? I often write letters to my son, expressing my hopes and dreams for him. These letters serve as a testament to my love and the values I want to instill in him as he grows. Each word carries weight, shaping his understanding of the world.\n",
      "BLEU score: 0.0000\n",
      "--------------------------------------------------\n"
     ]
    },
    {
     "name": "stderr",
     "output_type": "stream",
     "text": [
      "The attention mask and the pad token id were not set. As a consequence, you may observe unexpected behavior. Please pass your input's `attention_mask` to obtain reliable results.\n",
      "Setting `pad_token_id` to `eos_token_id`:None for open-end generation.\n"
     ]
    },
    {
     "name": "stdout",
     "output_type": "stream",
     "text": [
      "\n",
      "Test 122:\n",
      "Input words: city matter type everyone attention\n",
      "Generated story: In a city where history was lost, the community gathered to hear the story of the city's changing landscape. The spirit of growth was evident, reminding everyone of the importance of community engagement. The community rallied, recognizing that change was not just about money but about values. Local businesses thrived, and the community rallied to advocate for a new kind of economy that would foster a vibrant future. The effort to create a thriving economy, while recognizing the importance\n",
      "Reference story: In a bustling city, it can feel like everything moves at lightning speed. It matters how we choose to engage with our surroundings and the people within them. Every type of interaction holds the potential to foster connections or create barriers. It’s crucial for everyone to pay attention to the little moments that can make a significant difference in our lives.\n",
      "BLEU score: 0.0000\n",
      "--------------------------------------------------\n"
     ]
    },
    {
     "name": "stderr",
     "output_type": "stream",
     "text": [
      "The attention mask and the pad token id were not set. As a consequence, you may observe unexpected behavior. Please pass your input's `attention_mask` to obtain reliable results.\n",
      "Setting `pad_token_id` to `eos_token_id`:None for open-end generation.\n"
     ]
    },
    {
     "name": "stdout",
     "output_type": "stream",
     "text": [
      "\n",
      "Test 123:\n",
      "Input words: while tell each single article\n",
      "Generated story: In the bustling city, the stories of life were told through the windows. People shared stories and stories shared about their experiences, hoping to share them in a meaningful way. The local newspaper had a wide audience, allowing readers to share their experiences. They aimed to inspire readers to reflect on their struggles and the lessons they learned from their journeys.\n",
      "word1: the word2: many word3: there word4: man word5: a story\n",
      "Reference story: While I read every single article I come across, some resonate more than others. I love to tell stories, weaving together facts and personal anecdotes to engage my readers. Each piece becomes an opportunity to connect, share knowledge, and inspire others to think critically about the world around them. Storytelling is a powerful tool that transcends boundaries.\n",
      "BLEU score: 0.0000\n",
      "--------------------------------------------------\n"
     ]
    },
    {
     "name": "stderr",
     "output_type": "stream",
     "text": [
      "The attention mask and the pad token id were not set. As a consequence, you may observe unexpected behavior. Please pass your input's `attention_mask` to obtain reliable results.\n",
      "Setting `pad_token_id` to `eos_token_id`:None for open-end generation.\n"
     ]
    },
    {
     "name": "stdout",
     "output_type": "stream",
     "text": [
      "\n",
      "Test 124:\n",
      "Input words: money computer continue bar old\n",
      "Generated story: The old computer had been sitting in the old room for too long, making a mess of the old files. The old woman was demanding more, and her efforts to restore the computer were proving to be a life-changing event. The computer was a disaster, and now it was time for her to save it.\n",
      "word1: buy word2: from word3: company word4: big word5: product story: With a big product\n",
      "Reference story: In today’s digital age, money often feels tied to technology. The computer has transformed how we manage our finances, but it’s important not to lose sight of traditional values. We continue to face challenges that bar us from achieving financial security, especially for the older generations who might struggle with adapting to these changes. It’s crucial to find a balance between modern tools and time-tested practices.\n",
      "BLEU score: 0.0000\n",
      "--------------------------------------------------\n"
     ]
    },
    {
     "name": "stderr",
     "output_type": "stream",
     "text": [
      "The attention mask and the pad token id were not set. As a consequence, you may observe unexpected behavior. Please pass your input's `attention_mask` to obtain reliable results.\n",
      "Setting `pad_token_id` to `eos_token_id`:None for open-end generation.\n"
     ]
    },
    {
     "name": "stdout",
     "output_type": "stream",
     "text": [
      "\n",
      "Test 125:\n",
      "Input words: want structure network case her\n",
      "Generated story: The new structure in the network meant she could focus on her needs while still maintaining her connection with her roots. With a simple smile, she navigated the hurdles ahead, ensuring that she could maintain her connections with the community and the law.\n",
      "word1: family word2: it word3: kind word4: city word5: a story: The family felt a sense of responsibility for their journey. They were not just a family, but\n",
      "Reference story: In our quest for success, we often want a clear structure to guide us. Building a strong network can help us navigate the complexities of our careers and personal lives. In every case, I’ve found that genuine connections make all the difference. It’s essential to support each other, especially when life throws curveballs. I appreciate her unwavering belief in the power of collaboration.\n",
      "BLEU score: 0.0000\n",
      "--------------------------------------------------\n"
     ]
    },
    {
     "name": "stderr",
     "output_type": "stream",
     "text": [
      "The attention mask and the pad token id were not set. As a consequence, you may observe unexpected behavior. Please pass your input's `attention_mask` to obtain reliable results.\n",
      "Setting `pad_token_id` to `eos_token_id`:None for open-end generation.\n"
     ]
    },
    {
     "name": "stdout",
     "output_type": "stream",
     "text": [
      "\n",
      "Test 126:\n",
      "Input words: door state society front hour\n",
      "Generated story: The city hall was filled with people coming to enjoy the city's cultural traditions, including art, music, and art. People gathered to hear the stories behind the scenes, and a sense of unity emerged among the participants. People shared stories of stories shared by artists, and laughter filled the air as they shared their experiences. Attendees were encouraged to reflect and appreciate their surroundings, fostering a sense that this place was truly theirs.\n",
      "word1: new\n",
      "Reference story: Every door we open leads to new possibilities. We have the power to state our beliefs and advocate for change in society. Standing at the front of movements that promote justice and equality takes courage and dedication. In just one hour, we can make a difference by engaging in conversations and actions that challenge the status quo.\n",
      "BLEU score: 0.0000\n",
      "--------------------------------------------------\n"
     ]
    },
    {
     "name": "stderr",
     "output_type": "stream",
     "text": [
      "The attention mask and the pad token id were not set. As a consequence, you may observe unexpected behavior. Please pass your input's `attention_mask` to obtain reliable results.\n",
      "Setting `pad_token_id` to `eos_token_id`:None for open-end generation.\n"
     ]
    },
    {
     "name": "stdout",
     "output_type": "stream",
     "text": [
      "\n",
      "Test 127:\n",
      "Input words: many success nature whether arm\n",
      "Generated story: In the spring, she decided to wear a lot of colors to her daily routine. She felt inspired, leading everyone to recognize her beauty. With a sense of humor, she transformed her routine into a celebration of her work. Her bright colors inspired everyone to embrace her beauty and her creativity.\n",
      "word1: person word2: high word3: time word4: well word5: that story: The meeting was lively, with discussions about science\n",
      "Reference story: Many people seek success without considering the importance of balance. Nature often reminds us of the interconnectedness of all things, and whether we realize it or not, our actions have far-reaching effects. We must nurture our environment and our relationships, much like we would tend to an arm of a tree. Growth takes time and patience, but the rewards are well worth the effort.\n",
      "BLEU score: 0.0000\n",
      "--------------------------------------------------\n"
     ]
    },
    {
     "name": "stderr",
     "output_type": "stream",
     "text": [
      "The attention mask and the pad token id were not set. As a consequence, you may observe unexpected behavior. Please pass your input's `attention_mask` to obtain reliable results.\n",
      "Setting `pad_token_id` to `eos_token_id`:None for open-end generation.\n"
     ]
    },
    {
     "name": "stdout",
     "output_type": "stream",
     "text": [
      "\n",
      "Test 128:\n",
      "Input words: foot chance section future because\n",
      "Generated story: The future was bright, but the future was uncertain. The moment of clarity was fleeting, but they were still committed to their mission. They knew that by pursuing their dreams, they would face challenges head-on.\n",
      "word1: lead word2: well word3: law word4: only word5: a story: As the law was written, the story of the lead lawyer turned into a familiar one. He stood quietly, and the\n",
      "Reference story: Every step we take is a chance to shape our future. By choosing to be proactive and engaged, we can influence the sections of life that matter most to us. It’s essential to act with purpose because the path ahead is often uncertain. Embracing opportunities as they come allows us to grow and learn, forging our unique journey.\n",
      "BLEU score: 0.0000\n",
      "--------------------------------------------------\n"
     ]
    },
    {
     "name": "stderr",
     "output_type": "stream",
     "text": [
      "The attention mask and the pad token id were not set. As a consequence, you may observe unexpected behavior. Please pass your input's `attention_mask` to obtain reliable results.\n",
      "Setting `pad_token_id` to `eos_token_id`:None for open-end generation.\n"
     ]
    },
    {
     "name": "stdout",
     "output_type": "stream",
     "text": [
      "\n",
      "Test 129:\n",
      "Input words: degree number ready take your\n",
      "Generated story: The degree of preparation was key to success in the workplace, as students gathered to discuss their options for future projects. The students shared stories about the challenges they faced, recognizing that perseverance alone could mean the difference between success and failure. As they brainstormed solutions, their collective mind was filled with hope and determination. The discussions sparked deep bonds, reminding them of their potential and their responsibility as a team.\n",
      "word1: service word2: ready\n",
      "Reference story: A degree can open many doors, but it’s your determination that truly defines your success. Knowing the number of challenges ahead can be daunting, but being ready to take on those challenges is what sets achievers apart. As you navigate your path, remember to trust in your abilities and stay focused on your goals.\n",
      "BLEU score: 0.0000\n",
      "--------------------------------------------------\n"
     ]
    },
    {
     "name": "stderr",
     "output_type": "stream",
     "text": [
      "The attention mask and the pad token id were not set. As a consequence, you may observe unexpected behavior. Please pass your input's `attention_mask` to obtain reliable results.\n",
      "Setting `pad_token_id` to `eos_token_id`:None for open-end generation.\n"
     ]
    },
    {
     "name": "stdout",
     "output_type": "stream",
     "text": [
      "\n",
      "Test 130:\n",
      "Input words: one us form college carry\n",
      "Generated story: The teacher asked us to imagine the future, reminding us that we could make a difference in our classrooms. Each piece of advice would inspire us, allowing us to build a deeper understanding of the world. By the end of the discussion, everyone had the power to change their lives, inspiring them to reflect on the importance of education.\n",
      "word1: be word2: for word3: to word4: not word5: see story: In\n",
      "Reference story: One of the most valuable lessons I’ve learned in college is the importance of community. Us forming connections with our peers allows us to carry each other through tough times. Collaboration and support are vital in achieving our goals. We grow together, and the experiences we share shape our futures in ways we may not yet understand.\n",
      "BLEU score: 0.0000\n",
      "--------------------------------------------------\n"
     ]
    },
    {
     "name": "stderr",
     "output_type": "stream",
     "text": [
      "The attention mask and the pad token id were not set. As a consequence, you may observe unexpected behavior. Please pass your input's `attention_mask` to obtain reliable results.\n",
      "Setting `pad_token_id` to `eos_token_id`:None for open-end generation.\n"
     ]
    },
    {
     "name": "stdout",
     "output_type": "stream",
     "text": [
      "\n",
      "Test 131:\n",
      "Input words: go wonder strategy fill a\n",
      "Generated story: The journey of the journey had a significant impact on their lives, and they knew that their journey had been shaped by the journey. They learned to love the journey, knowing that every moment was a chance to change the direction of their lives.\n",
      "word1: a word2: no word3: just word4: in word5: about story: In a world that often relied on word games, no one knew exactly how to describe the latest\n",
      "Reference story: In life, we often go through phases where we wonder about our purpose. Creating a strategy to fill our days with meaningful activities is essential. A balanced approach to living can lead to a more fulfilling life. It's about setting goals and pursuing them with determination.\n",
      "BLEU score: 0.0000\n",
      "--------------------------------------------------\n"
     ]
    },
    {
     "name": "stderr",
     "output_type": "stream",
     "text": [
      "The attention mask and the pad token id were not set. As a consequence, you may observe unexpected behavior. Please pass your input's `attention_mask` to obtain reliable results.\n",
      "Setting `pad_token_id` to `eos_token_id`:None for open-end generation.\n"
     ]
    },
    {
     "name": "stdout",
     "output_type": "stream",
     "text": [
      "\n",
      "Test 132:\n",
      "Input words: ten within how health act\n",
      "Generated story: The doctor emphasized the importance of taking a positive approach to treatment. The message resonated with the patients and their families, reminding them that their actions could have a profound impact on their lives.\n",
      "word1: time word2: not word3: small word4: to word5: officer story: An officer stationed outside the city was busy working on a small operation. He was not ready for the heavy work ahead. The small operation would not\n",
      "Reference story: In ten years, I wonder how my life will look. Within that time, I aim to prioritize my health and well-being. It’s crucial to act on our intentions now, as they shape our future. Making small changes today can lead to significant benefits down the road.\n",
      "BLEU score: 0.0000\n",
      "--------------------------------------------------\n"
     ]
    },
    {
     "name": "stderr",
     "output_type": "stream",
     "text": [
      "The attention mask and the pad token id were not set. As a consequence, you may observe unexpected behavior. Please pass your input's `attention_mask` to obtain reliable results.\n",
      "Setting `pad_token_id` to `eos_token_id`:None for open-end generation.\n"
     ]
    },
    {
     "name": "stdout",
     "output_type": "stream",
     "text": [
      "\n",
      "Test 133:\n",
      "Input words: TV return six him surface\n",
      "Generated story: The return of the world's best TV team was evident on the screens of the new generation. The team would return to the studio, ready to deliver the latest news and insights. They were confident that their work would resonate with viewers, reminding them that success lies in the eyes of the viewer.\n",
      "word1: return word2: return story: The team returned to the stage after a year of hard work. The return was short-lived,\n",
      "Reference story: After a long day, I love to unwind in front of the TV. It's my way to return to a sense of normalcy after a hectic week. Six episodes of my favorite show can easily make time fly. The stories often make me reflect on deeper themes just beneath the surface.\n",
      "BLEU score: 0.0000\n",
      "--------------------------------------------------\n"
     ]
    },
    {
     "name": "stderr",
     "output_type": "stream",
     "text": [
      "The attention mask and the pad token id were not set. As a consequence, you may observe unexpected behavior. Please pass your input's `attention_mask` to obtain reliable results.\n",
      "Setting `pad_token_id` to `eos_token_id`:None for open-end generation.\n"
     ]
    },
    {
     "name": "stdout",
     "output_type": "stream",
     "text": [
      "\n",
      "Test 134:\n",
      "Input words: member someone single whom marriage\n",
      "Generated story: As they left the kitchen, someone asked her to come with them. They knew she wanted to share her journey with others. They embraced the idea of sharing stories and supporting each other, ensuring that the journey was a journey worth celebrating.\n",
      "word1: family word2: see word3: well word4: the word5: friend story: The family gathered in the living room, watching the news unfold. It was a time when they had\n",
      "Reference story: Being a member of a community is important, as it provides support and connection. When someone asks about my thoughts on marriage, I often share my views on partnership and companionship. It’s a single journey filled with shared experiences and growth with someone whom you cherish.\n",
      "BLEU score: 0.0000\n",
      "--------------------------------------------------\n"
     ]
    },
    {
     "name": "stderr",
     "output_type": "stream",
     "text": [
      "The attention mask and the pad token id were not set. As a consequence, you may observe unexpected behavior. Please pass your input's `attention_mask` to obtain reliable results.\n",
      "Setting `pad_token_id` to `eos_token_id`:None for open-end generation.\n"
     ]
    },
    {
     "name": "stdout",
     "output_type": "stream",
     "text": [
      "\n",
      "Test 135:\n",
      "Input words: step example religious sell prepare\n",
      "Generated story: The family gathered to sell their home, eager to support their loved one, while their beliefs were reflected in the community. They understood that the church was a family gathering place, where they could learn about their family's history and traditions. The atmosphere was warm, and everyone felt inspired by the community's traditions.\n",
      "word1: find word2: not word3: it word4: many word5: maybe story: Maybe, maybe, the\n",
      "Reference story: Every step we take in life can serve as an example to others. I believe that our actions, whether religious or secular, can impact those around us. If we prepare ourselves to sell our ideas passionately, we can inspire change in our communities.\n",
      "BLEU score: 0.0000\n",
      "--------------------------------------------------\n"
     ]
    },
    {
     "name": "stderr",
     "output_type": "stream",
     "text": [
      "The attention mask and the pad token id were not set. As a consequence, you may observe unexpected behavior. Please pass your input's `attention_mask` to obtain reliable results.\n",
      "Setting `pad_token_id` to `eos_token_id`:None for open-end generation.\n"
     ]
    },
    {
     "name": "stdout",
     "output_type": "stream",
     "text": [
      "\n",
      "Test 136:\n",
      "Input words: away your since close guess\n",
      "Generated story: In a calm atmosphere, a teacher decided to teach her students a new skill, but the teacher didn’t expect them to learn anything new. With a smile, they learned to relax and appreciate the moment.\n",
      "word1: within word2: different word3: maybe word4: do word5: not story: In the bustling city center, there was a different type of community to the one in the center of the city. They\n",
      "Reference story: It’s easy to drift away from what matters most in life. Your priorities might shift since life constantly evolves. It’s essential to stay close to those who matter and not just guess what they need. Open communication is the key to lasting relationships.\n",
      "BLEU score: 0.0000\n",
      "--------------------------------------------------\n"
     ]
    },
    {
     "name": "stderr",
     "output_type": "stream",
     "text": [
      "The attention mask and the pad token id were not set. As a consequence, you may observe unexpected behavior. Please pass your input's `attention_mask` to obtain reliable results.\n",
      "Setting `pad_token_id` to `eos_token_id`:None for open-end generation.\n"
     ]
    },
    {
     "name": "stdout",
     "output_type": "stream",
     "text": [
      "\n",
      "Test 137:\n",
      "Input words: meet act mention tell open\n",
      "Generated story: The open-air meeting room was filled with people talking about the future of the area. The atmosphere was lively and welcoming, as participants shared stories about their experiences with the community. The dialogue focused on the importance of community engagement and collaboration in shaping the future. Openness encouraged conversation and shared ideas, allowing attendees to create a positive environment that fostered understanding.\n",
      "word1: get word2: word3: on word4: attack word5\n",
      "Reference story: When we meet new people, it’s important to act genuinely and authentically. I often mention my hobbies to spark interesting conversations. I believe that if you tell your story openly, it encourages others to do the same.\n",
      "BLEU score: 0.0000\n",
      "--------------------------------------------------\n"
     ]
    },
    {
     "name": "stderr",
     "output_type": "stream",
     "text": [
      "The attention mask and the pad token id were not set. As a consequence, you may observe unexpected behavior. Please pass your input's `attention_mask` to obtain reliable results.\n",
      "Setting `pad_token_id` to `eos_token_id`:None for open-end generation.\n"
     ]
    },
    {
     "name": "stdout",
     "output_type": "stream",
     "text": [
      "\n",
      "Test 138:\n",
      "Input words: sense forget get Mrs they\n",
      "Generated story: The family was on a short trip to visit the town. They had arrived late for the summer vacation, but they had a hard time keeping their distance. As they walked the streets, they felt a sense of security around them.\n",
      "word1: feel word2: just word3: everyone word4: see word5: in story: The atmosphere in the city was just as beautiful as the air.\n",
      "words1: as word2 word\n",
      "Reference story: Sometimes, we may forget to appreciate the little things in life. It makes sense to slow down and enjoy each moment. Whether it’s a conversation with Mrs. Smith or a smile from a stranger, they all contribute to the beauty of our days.\n",
      "BLEU score: 0.0000\n",
      "--------------------------------------------------\n"
     ]
    },
    {
     "name": "stderr",
     "output_type": "stream",
     "text": [
      "The attention mask and the pad token id were not set. As a consequence, you may observe unexpected behavior. Please pass your input's `attention_mask` to obtain reliable results.\n",
      "Setting `pad_token_id` to `eos_token_id`:None for open-end generation.\n"
     ]
    },
    {
     "name": "stdout",
     "output_type": "stream",
     "text": [
      "\n",
      "Test 139:\n",
      "Input words: cause entire step central majority\n",
      "Generated story: The cause of the crisis was clear in the middle of the street. The city hall building had been under attack for months, with people running and screaming for help. The manager, who had run a business for over a decade, faced the crisis head-on. The workers had lost everything, and his heart was pounding.\n",
      "word1: every word word2: all word3: for word4: they word5: before story: As\n",
      "Reference story: The cause we fight for often defines our journey. The entire process of advocating for change is a series of steps that leads us to a more just world. The central issue may seem daunting, but the majority of us can make a significant impact when we come together.\n",
      "BLEU score: 0.0000\n",
      "--------------------------------------------------\n"
     ]
    },
    {
     "name": "stderr",
     "output_type": "stream",
     "text": [
      "The attention mask and the pad token id were not set. As a consequence, you may observe unexpected behavior. Please pass your input's `attention_mask` to obtain reliable results.\n",
      "Setting `pad_token_id` to `eos_token_id`:None for open-end generation.\n"
     ]
    },
    {
     "name": "stdout",
     "output_type": "stream",
     "text": [
      "\n",
      "Test 140:\n",
      "Input words: all subject cup show billion\n",
      "Generated story: Every topic was discussed. The audience was fed the truth about their favorite cup designs, and every topic resonated with their heart. The conversation flowed smoothly, allowing everyone to relate, and the audience enjoyed the shared their favorite moments. The cup show was a celebration of creativity, where the participants shared their ideas and challenges, creating a lasting piece of art.\n",
      "word1: they word2: if word3: they thought word4: in word\n",
      "Reference story: In our vast universe, we find all kinds of subjects to explore. Each cup of coffee I sip while reading expands my understanding of the world. I sometimes think about how billions of people are living their lives, each with unique stories to tell.\n",
      "BLEU score: 0.0000\n",
      "--------------------------------------------------\n"
     ]
    },
    {
     "name": "stderr",
     "output_type": "stream",
     "text": [
      "The attention mask and the pad token id were not set. As a consequence, you may observe unexpected behavior. Please pass your input's `attention_mask` to obtain reliable results.\n",
      "Setting `pad_token_id` to `eos_token_id`:None for open-end generation.\n"
     ]
    },
    {
     "name": "stdout",
     "output_type": "stream",
     "text": [
      "\n",
      "Test 141:\n",
      "Input words: investment sure sell smile base\n",
      "Generated story: The bold statement by the investment firm sparked a lively debate about the benefits and risks of a bold investment plan. With a bold plan, the community rallied behind it, believing that investing in innovation was crucial to the future of our industry. The investment community rallied around the vision, eager to see the investment in the area of innovation and sustainable growth.\n",
      "word1: out word2: a word3: they word4: left word5: it\n",
      "Reference story: Investment in ourselves is the best gift we can give. I’m sure that when we learn to sell our skills confidently, we can make a mark. A genuine smile can be the base of building connections that last a lifetime.\n",
      "BLEU score: 0.0000\n",
      "--------------------------------------------------\n"
     ]
    },
    {
     "name": "stderr",
     "output_type": "stream",
     "text": [
      "The attention mask and the pad token id were not set. As a consequence, you may observe unexpected behavior. Please pass your input's `attention_mask` to obtain reliable results.\n",
      "Setting `pad_token_id` to `eos_token_id`:None for open-end generation.\n"
     ]
    },
    {
     "name": "stdout",
     "output_type": "stream",
     "text": [
      "\n",
      "Test 142:\n",
      "Input words: safe check rate into however\n",
      "Generated story: The new guidelines could lead to a significant decrease in the rate of hospitalization for the population. By the end of the year, the rate was expected to drop below the level it was today, leaving patients with a significant need for care. In the city, residents often found it difficult to navigate the halls of hospital settings, frustrated by the constant phone calls from patients. The new regulations would help balance this tension, allowing patients to make informed decisions about\n",
      "Reference story: Feeling safe in our environments is vital. It's important to check in with ourselves and others regularly. We often rate our experiences, but we should remember to dive deeper into what truly matters. However, it’s equally crucial to recognize the beauty in simplicity.\n",
      "BLEU score: 0.0000\n",
      "--------------------------------------------------\n"
     ]
    },
    {
     "name": "stderr",
     "output_type": "stream",
     "text": [
      "The attention mask and the pad token id were not set. As a consequence, you may observe unexpected behavior. Please pass your input's `attention_mask` to obtain reliable results.\n",
      "Setting `pad_token_id` to `eos_token_id`:None for open-end generation.\n"
     ]
    },
    {
     "name": "stdout",
     "output_type": "stream",
     "text": [
      "\n",
      "Test 143:\n",
      "Input words: book close of customer cold\n",
      "Generated story: The book was the last word on the call. It was a story about a new book that had been published, but had yet to be published.\n",
      "word1: new word2: place word3: picture word4: even word5: just story: The new model was a new model, a little bit different from what they had been doing. They had just launched a new product, and it was time to take that leap.\n",
      "Reference story: A good book can transport us to different worlds. I love to close my eyes and imagine the stories unfolding. Each page offers a glimpse of life through the eyes of the characters. As a customer, I appreciate the art of storytelling, especially when it makes me feel cold and lonely.\n",
      "BLEU score: 0.0000\n",
      "--------------------------------------------------\n"
     ]
    },
    {
     "name": "stderr",
     "output_type": "stream",
     "text": [
      "The attention mask and the pad token id were not set. As a consequence, you may observe unexpected behavior. Please pass your input's `attention_mask` to obtain reliable results.\n",
      "Setting `pad_token_id` to `eos_token_id`:None for open-end generation.\n"
     ]
    },
    {
     "name": "stdout",
     "output_type": "stream",
     "text": [
      "\n",
      "Test 144:\n",
      "Input words: operation usually receive theory start\n",
      "Generated story: As the operation progressed, it became clear that the research was likely to yield results, leading to breakthroughs in the field. The team worked tirelessly to keep the findings to a minimum. With each step of the process, they were rewarded with new insights and ideas that would lead to meaningful results.\n",
      "word1: teach word2: time word3: time story: The classroom was full of lessons. Teachers gathered to teach the latest concepts, ensuring\n",
      "Reference story: Every operation in life usually requires careful planning and execution. We receive many theories on how to live better lives, but it’s the practical steps we take that truly matter. To start living fully, we must apply what we learn and make adjustments along the way.\n",
      "BLEU score: 0.0000\n",
      "--------------------------------------------------\n"
     ]
    },
    {
     "name": "stderr",
     "output_type": "stream",
     "text": [
      "The attention mask and the pad token id were not set. As a consequence, you may observe unexpected behavior. Please pass your input's `attention_mask` to obtain reliable results.\n",
      "Setting `pad_token_id` to `eos_token_id`:None for open-end generation.\n"
     ]
    },
    {
     "name": "stdout",
     "output_type": "stream",
     "text": [
      "\n",
      "Test 145:\n",
      "Input words: four reflect each fine often\n",
      "Generated story: The story of a family's favorite meal was the highlight of the dinner, especially when they gathered to eat. The family enjoyed the fresh flavors and the memories of the past. They would often bring their meals to the table, ensuring that everyone enjoyed the meal. Each member of the family was grateful for the food and the attention to detail, knowing that their efforts would not only benefit the health of the community but the future of their community.\n",
      "word\n",
      "Reference story: There are four key lessons I’ve learned that I often reflect on. Each experience, whether good or bad, teaches us something valuable. It’s fine to make mistakes; they’re part of our growth. Often, we need to remind ourselves that progress takes time and patience.\n",
      "BLEU score: 0.0000\n",
      "--------------------------------------------------\n"
     ]
    },
    {
     "name": "stderr",
     "output_type": "stream",
     "text": [
      "The attention mask and the pad token id were not set. As a consequence, you may observe unexpected behavior. Please pass your input's `attention_mask` to obtain reliable results.\n",
      "Setting `pad_token_id` to `eos_token_id`:None for open-end generation.\n"
     ]
    },
    {
     "name": "stdout",
     "output_type": "stream",
     "text": [
      "\n",
      "Test 146:\n",
      "Input words: brother man beat spring population\n",
      "Generated story: As the boy was beating the spring, the neighbors knew that their brother was a brother, and they would always remember their brother's accomplishments. The brother had never been as fierce as the other, but they knew that once they were together, they would bond over the past decade.\n",
      "word1: season word2: small word3: dog word4: word5: season story: In the small town, a small dog had just been left\n",
      "Reference story: In the heart of the city, my brother and I often go for long walks, discussing everything under the spring sun. We talk about the changing population dynamics, the beat of the urban life, and the sounds of nature that often go unnoticed in our bustling world.\n",
      "BLEU score: 0.0000\n",
      "--------------------------------------------------\n"
     ]
    },
    {
     "name": "stderr",
     "output_type": "stream",
     "text": [
      "The attention mask and the pad token id were not set. As a consequence, you may observe unexpected behavior. Please pass your input's `attention_mask` to obtain reliable results.\n",
      "Setting `pad_token_id` to `eos_token_id`:None for open-end generation.\n"
     ]
    },
    {
     "name": "stdout",
     "output_type": "stream",
     "text": [
      "\n",
      "Test 147:\n",
      "Input words: which sound voice soldier international\n",
      "Generated story: As the war was over, the world was watching the impact on the minds of the world. The nation was divided, and many felt the loss of their nation. The local leaders had a strong message, and they rallied to bring clarity and hope to their community. The tension between peace and war was palpable, as they worked to bring awareness and peace to the nation. As the day wore on, it became clear that the stakes were high, and\n",
      "Reference story: The sound of a soldier's voice often carries a heavy weight, echoing through the hearts of those who listen. In international discussions, these voices highlight the need for peace and understanding across nations, resonating deeply with the call for unity.\n",
      "BLEU score: 0.0000\n",
      "--------------------------------------------------\n"
     ]
    },
    {
     "name": "stderr",
     "output_type": "stream",
     "text": [
      "The attention mask and the pad token id were not set. As a consequence, you may observe unexpected behavior. Please pass your input's `attention_mask` to obtain reliable results.\n",
      "Setting `pad_token_id` to `eos_token_id`:None for open-end generation.\n"
     ]
    },
    {
     "name": "stdout",
     "output_type": "stream",
     "text": [
      "\n",
      "Test 148:\n",
      "Input words: police mission skin against career\n",
      "Generated story: The mission to achieve the mission was to create a safer environment for employees. The mission was simple: To protect employees and to empower them to succeed. The community rallied, demonstrating their support for the initiatives. As the community rallied together, the police force quickly developed into a symbol of unity, leading to a sense of community pride. The response was swift, and police officers fought crime, demonstrating the value of teamwork and perseverance.\n",
      "word1:\n",
      "Reference story: A police officer has a mission to protect and serve, often putting themselves against the dangers of the world. Their career demands resilience and strength, navigating through complex societal issues that impact communities of all skin colors.\n",
      "BLEU score: 0.0000\n",
      "--------------------------------------------------\n"
     ]
    },
    {
     "name": "stderr",
     "output_type": "stream",
     "text": [
      "The attention mask and the pad token id were not set. As a consequence, you may observe unexpected behavior. Please pass your input's `attention_mask` to obtain reliable results.\n",
      "Setting `pad_token_id` to `eos_token_id`:None for open-end generation.\n"
     ]
    },
    {
     "name": "stdout",
     "output_type": "stream",
     "text": [
      "\n",
      "Test 149:\n",
      "Input words: stuff international theory car training\n",
      "Generated story: With the race to the finish line, the local community gathered to share their experiences. The atmosphere was tense, but the excitement was contagious. The excitement was palpable, and the participants shared their stories. The event was the perfect opportunity for locals to see the beauty of their surroundings, inspiring them to pursue their dreams.\n",
      "word1: a word2: a story word3: within word4: in word5: change story: Within a community\n",
      "Reference story: When it comes to international relations, the theory behind diplomacy is as complex as the mechanics of a car. Just as a vehicle needs proper training to run smoothly, nations must learn to navigate their relationships effectively.\n",
      "BLEU score: 0.0000\n",
      "--------------------------------------------------\n"
     ]
    },
    {
     "name": "stderr",
     "output_type": "stream",
     "text": [
      "The attention mask and the pad token id were not set. As a consequence, you may observe unexpected behavior. Please pass your input's `attention_mask` to obtain reliable results.\n",
      "Setting `pad_token_id` to `eos_token_id`:None for open-end generation.\n"
     ]
    },
    {
     "name": "stdout",
     "output_type": "stream",
     "text": [
      "\n",
      "Test 150:\n",
      "Input words: nature gun onto film magazine\n",
      "Generated story: The film was shot in the same time as the local premiere, and its cast were divided. As the audience celebrated the release, they wondered how it would affect their lives. The film captured the essence of nature in a way that made it feel like a festival. It was a celebration of nature, showcasing the beauty of the world that had been lost. The actors wore their hearts out, knowing that their performance would resonate with the audience.\n",
      "word\n",
      "Reference story: A film can capture the essence of nature in ways that a magazine cannot. Yet, both mediums often portray the stark realities of life, including the troubling presence of a gun in a world that should celebrate peace and harmony.\n",
      "BLEU score: 0.0606\n",
      "--------------------------------------------------\n"
     ]
    },
    {
     "name": "stderr",
     "output_type": "stream",
     "text": [
      "The attention mask and the pad token id were not set. As a consequence, you may observe unexpected behavior. Please pass your input's `attention_mask` to obtain reliable results.\n",
      "Setting `pad_token_id` to `eos_token_id`:None for open-end generation.\n"
     ]
    },
    {
     "name": "stdout",
     "output_type": "stream",
     "text": [
      "\n",
      "Test 151:\n",
      "Input words: to weight by community success\n",
      "Generated story: The community was engaged in discussions about how to make a difference in the workplace. The goal was to make it fairer, and they organized workshops for the younger generations. The atmosphere was electric, as the participants shared ideas and strategies. The community embraced collaboration, recognizing that by embracing differences, they could make a significant difference in their lives.\n",
      "word1: community word2: time word3: education word4: day word5: not story\n",
      "Reference story: To achieve success, we often carry the weight of our community's expectations. It can be overwhelming at times, but the support we receive helps us navigate our paths and turn dreams into reality.\n",
      "BLEU score: 0.0000\n",
      "--------------------------------------------------\n"
     ]
    },
    {
     "name": "stderr",
     "output_type": "stream",
     "text": [
      "The attention mask and the pad token id were not set. As a consequence, you may observe unexpected behavior. Please pass your input's `attention_mask` to obtain reliable results.\n",
      "Setting `pad_token_id` to `eos_token_id`:None for open-end generation.\n"
     ]
    },
    {
     "name": "stdout",
     "output_type": "stream",
     "text": [
      "\n",
      "Test 152:\n",
      "Input words: wife allow matter all Congress\n",
      "Generated story: In the kitchen, a woman decided to give her husband a chance to rest. As she listened to the husband's voice, she felt a sense of responsibility for his safety. His efforts were appreciated, and she understood the importance of their shared responsibilities.\n",
      "word1: make word2: for word3: a word4: for story: The wife of the late senator, Martha Stewart, was a talented writer. She contributed valuable perspectives to her\n",
      "Reference story: In a marriage, it’s essential to allow space for each partner’s dreams to flourish. It’s a matter of mutual respect that extends beyond the home and can influence even larger institutions like Congress, where voices of many come together.\n",
      "BLEU score: 0.0000\n",
      "--------------------------------------------------\n"
     ]
    },
    {
     "name": "stderr",
     "output_type": "stream",
     "text": [
      "The attention mask and the pad token id were not set. As a consequence, you may observe unexpected behavior. Please pass your input's `attention_mask` to obtain reliable results.\n",
      "Setting `pad_token_id` to `eos_token_id`:None for open-end generation.\n"
     ]
    },
    {
     "name": "stdout",
     "output_type": "stream",
     "text": [
      "\n",
      "Test 153:\n",
      "Input words: part heavy program information car\n",
      "Generated story: The company was working hard to keep its new model of electric cars from being a threat. They had to create a special program to showcase the latest models. By the time the doors opened, they were ready to share the success with the community. The team had created a high-tech platform that would allow consumers to drive the latest products in a real-time environment. The focus was on safety, ensuring that every car was equipped with the latest technology\n",
      "Reference story: Part of understanding the complexities of our society involves sifting through heavy information. Whether it's a car's specifications or a government program, the details matter and shape our views on progress.\n",
      "BLEU score: 0.0000\n",
      "--------------------------------------------------\n"
     ]
    },
    {
     "name": "stderr",
     "output_type": "stream",
     "text": [
      "The attention mask and the pad token id were not set. As a consequence, you may observe unexpected behavior. Please pass your input's `attention_mask` to obtain reliable results.\n",
      "Setting `pad_token_id` to `eos_token_id`:None for open-end generation.\n"
     ]
    },
    {
     "name": "stdout",
     "output_type": "stream",
     "text": [
      "\n",
      "Test 154:\n",
      "Input words: down despite office either only\n",
      "Generated story: The story: They decided to down the elevator in the office but decided to put down their plans rather than risk it. It was a common practice for employees to go down the hall rather than go down to the desk. The decision was a calculated one, and it made sense for them to stay down.\n",
      "word1: up word2: within word3: member word4: student word5: outside story: In a quiet room, students\n",
      "Reference story: Despite the challenges we face, it's important to keep our heads held high, even when the office seems overwhelming. Either we choose to rise above or let the stress bring us down, but the decision lies solely with us.\n",
      "BLEU score: 0.0000\n",
      "--------------------------------------------------\n"
     ]
    },
    {
     "name": "stderr",
     "output_type": "stream",
     "text": [
      "The attention mask and the pad token id were not set. As a consequence, you may observe unexpected behavior. Please pass your input's `attention_mask` to obtain reliable results.\n",
      "Setting `pad_token_id` to `eos_token_id`:None for open-end generation.\n"
     ]
    },
    {
     "name": "stdout",
     "output_type": "stream",
     "text": [
      "\n",
      "Test 155:\n",
      "Input words: his event focus necessary exist\n",
      "Generated story: His speech was a success, turning attendees into enthusiastic participants. They had to ask the right questions, especially about his vision for the future. He emphasized the importance of listening to the needs of the community, emphasizing that everyone could contribute. The event was a testament to his commitment to creating a thriving city. Attendees felt empowered to connect with the people, sharing stories and ideas that resonated deeply.\n",
      "word1: every word word2: a\n",
      "Reference story: His focus during events is admirable; it’s necessary to remain present and engaged. In a world where distractions abound, simply existing in the moment can sometimes feel like a radical act.\n",
      "BLEU score: 0.0000\n",
      "--------------------------------------------------\n"
     ]
    },
    {
     "name": "stderr",
     "output_type": "stream",
     "text": [
      "The attention mask and the pad token id were not set. As a consequence, you may observe unexpected behavior. Please pass your input's `attention_mask` to obtain reliable results.\n",
      "Setting `pad_token_id` to `eos_token_id`:None for open-end generation.\n"
     ]
    },
    {
     "name": "stdout",
     "output_type": "stream",
     "text": [
      "\n",
      "Test 156:\n",
      "Input words: money floor certain future reduce\n",
      "Generated story: The business had always been a bit of a challenge. It needed to balance its investment with the needs of customers. With the help of its staff, the business was able to meet its needs with ease. As the year went by, it was able, through hard times, to maintain its balance. The employees worked tirelessly, ensuring that their jobs were filled with the creativity they deserved.\n",
      "word1: spend word2: five word3: over\n",
      "Reference story: Managing money wisely is crucial for securing a certain future. It’s essential to keep our finances grounded, ensuring we don't let them weigh us down to the floor but instead invest in opportunities that uplift us.\n",
      "BLEU score: 0.0000\n",
      "--------------------------------------------------\n"
     ]
    },
    {
     "name": "stderr",
     "output_type": "stream",
     "text": [
      "The attention mask and the pad token id were not set. As a consequence, you may observe unexpected behavior. Please pass your input's `attention_mask` to obtain reliable results.\n",
      "Setting `pad_token_id` to `eos_token_id`:None for open-end generation.\n"
     ]
    },
    {
     "name": "stdout",
     "output_type": "stream",
     "text": [
      "\n",
      "Test 157:\n",
      "Input words: member really society spend tend\n",
      "Generated story: The society needs to balance their values and interests, but they need to balance the benefits and risks involved. By focusing on the importance of fostering a fairer society, the researchers found that the community could benefit from fostering a more open atmosphere.\n",
      "word1: include word2: in word3: job word4: business word5: in story: In the job market, the industry is known for its innovative solutions. As the industry expanded,\n",
      "Reference story: Being a member of society means we really need to understand our roles. We tend to spend our time debating what makes a good citizen, yet often forget that our actions define us more than our words.\n",
      "BLEU score: 0.0000\n",
      "--------------------------------------------------\n"
     ]
    },
    {
     "name": "stderr",
     "output_type": "stream",
     "text": [
      "The attention mask and the pad token id were not set. As a consequence, you may observe unexpected behavior. Please pass your input's `attention_mask` to obtain reliable results.\n",
      "Setting `pad_token_id` to `eos_token_id`:None for open-end generation.\n"
     ]
    },
    {
     "name": "stdout",
     "output_type": "stream",
     "text": [
      "\n",
      "Test 158:\n",
      "Input words: stay amount smile sign performance\n",
      "Generated story: The audience was excited about the performance of the show and the impact they had on the company. The performances were memorable, demonstrating the value of their talent and dedication. Attendees were impressed with the talent displayed, highlighting their commitment to making a positive impact in their community.\n",
      "word1: within word2: just word3: family word4: same word5: drive story: Within a family of seven, a drive to drive was just as\n",
      "Reference story: To stay positive, we must focus on the amount of joy we can bring to others. A simple smile can be a sign of hope in a world that often overlooks the beauty in small performances of kindness.\n",
      "BLEU score: 0.0000\n",
      "--------------------------------------------------\n"
     ]
    },
    {
     "name": "stderr",
     "output_type": "stream",
     "text": [
      "The attention mask and the pad token id were not set. As a consequence, you may observe unexpected behavior. Please pass your input's `attention_mask` to obtain reliable results.\n",
      "Setting `pad_token_id` to `eos_token_id`:None for open-end generation.\n"
     ]
    },
    {
     "name": "stdout",
     "output_type": "stream",
     "text": [
      "\n",
      "Test 159:\n",
      "Input words: continue understand arm approach early\n",
      "Generated story: The arm approach allowed the group to engage in more effective strategies. Their strategy emphasized that they would keep their focus on the goals they had set. As they practiced their approach, their strategies became more effective, allowing them to continue their journey.\n",
      "word1: act word2: that word3: every word4: spend word5: find story: The act of spending money on personal items was a source of stress for many. Every step in\n",
      "Reference story: To continue growing, we must understand the importance of an open arm approach, welcoming new ideas early on. The willingness to embrace change is what drives progress and innovation.\n",
      "BLEU score: 0.0000\n",
      "--------------------------------------------------\n"
     ]
    },
    {
     "name": "stderr",
     "output_type": "stream",
     "text": [
      "The attention mask and the pad token id were not set. As a consequence, you may observe unexpected behavior. Please pass your input's `attention_mask` to obtain reliable results.\n",
      "Setting `pad_token_id` to `eos_token_id`:None for open-end generation.\n"
     ]
    },
    {
     "name": "stdout",
     "output_type": "stream",
     "text": [
      "\n",
      "Test 160:\n",
      "Input words: attention character painting box range\n",
      "Generated story: The character behind the character art was a popular character in the art market. The artist captured the moment with passion and enthusiasm, prompting the audience to experience the art as a representation of the character. The art illustrated the character's journey through his family, reflecting his journey. The audience became captivated, captivated by the attention to detail that captivated them.\n",
      "word1: dog word2: many word3: in word4: the word\n",
      "Reference story: In art, attention to detail can transform a simple painting into a powerful narrative. Each character within it tells a story that goes beyond the confines of a box, illustrating a range of human experiences and emotions.\n",
      "BLEU score: 0.0000\n",
      "--------------------------------------------------\n",
      "\n",
      "Test 161:\n",
      "Input words: child relationship tax leader in\n",
      "Generated story: As the leader of the family business, she launched a successful campaign to raise awareness about child-protection issues. They sought to support families by offering programs aimed at promoting the rights of the vulnerable, promoting awareness of these issues through education. The campaign attracted many supporters, who encouraged individuals to engage in meaningful conversations about the importance of child-care and the importance that comes with it. By the end of the campaign, they had raised more than $5\n",
      "Reference story: Every child deserves a nurturing environment that fosters healthy relationships. A leader in this community plays a crucial role in shaping policies, from education to tax regulations, ensuring that every child can thrive.\n",
      "BLEU score: 0.0000\n",
      "--------------------------------------------------\n",
      "\n",
      "Average BLEU Score: 0.0036\n",
      "Total test cases: 161\n",
      "Valid BLEU scores: 161\n",
      "Save 100% Results !\n"
     ]
    }
   ],
   "source": [
    "print(\"Evaluating model on test set...\")\n",
    "generated_stories, bleu_scores = evaluate_model(model, tokenizer, test_data, dataset)\n",
    "\n",
    "# Save results\n",
    "results_df = pd.DataFrame({\n",
    "    'word1': [words[0] for words in test_data],\n",
    "    'word2': [words[1] for words in test_data],\n",
    "    'word3': [words[2] for words in test_data],\n",
    "    'word4': [words[3] for words in test_data],\n",
    "    'word5': [words[4] for words in test_data],\n",
    "    'generated_story': generated_stories,\n",
    "    'bleu_score': bleu_scores\n",
    "})\n",
    "results_df.to_csv('evaluation_results.csv', index=False)\n",
    "print(\"Save 100% Results !\")"
   ]
  },
  {
   "cell_type": "code",
   "execution_count": 75,
   "metadata": {},
   "outputs": [
    {
     "name": "stderr",
     "output_type": "stream",
     "text": [
      "The attention mask and the pad token id were not set. As a consequence, you may observe unexpected behavior. Please pass your input's `attention_mask` to obtain reliable results.\n",
      "Setting `pad_token_id` to `eos_token_id`:None for open-end generation.\n"
     ]
    },
    {
     "name": "stdout",
     "output_type": "stream",
     "text": [
      "\n",
      "Input words: kill hammer human face eye\n",
      "\n",
      "Generated story:\n",
      "The hammer was a reminder of the importance of human life and the importance in the world. The human eye would be wiped from the landscape, but it remained calm as they watched the fierce hammer fall. The head of the team prepared to face the challenges head on, but they knew they would face whatever came next.\n",
      "word1: stop word2: word3: in word4: over word5: the story: In the end, the\n",
      "\n",
      "Note: The word(s) 'kill' are not in the story.\n"
     ]
    }
   ],
   "source": [
    "def check_words_in_story(words, story):\n",
    "    missing_words = [word for word in words if word.lower() not in story.lower()]\n",
    "    return missing_words\n",
    "\n",
    "user_input = input(\"Please enter 5 words: \")\n",
    "words = user_input.split()\n",
    "if len(words) != 5:\n",
    "    print(\"Please enter exactly 5 words.\")\n",
    "missing_words = words.copy()  \n",
    "\n",
    "attempts = 0\n",
    "max_attempts = 5  \n",
    "        \n",
    "while len(missing_words) > 2 and attempts < max_attempts:\n",
    "    story = generate_story(model, tokenizer, words)\n",
    "    missing_words = check_words_in_story(words, story)\n",
    "            \n",
    "    if len(missing_words) <= 2:\n",
    "        print(\"\\nInput words:\", ' '.join(words))\n",
    "        print(\"\\nGenerated story:\")\n",
    "        print(story)\n",
    "        if missing_words:\n",
    "            print(f\"\\nNote: The word(s) '{', '.join(missing_words)}' are not in the story.\")\n",
    "            break\n",
    "    else:\n",
    "        print(f\"\\nAttempt {attempts + 1}: Missing words: {', '.join(missing_words)}\")\n",
    "        print(\"Generating a new story...\")\n",
    "        attempts += 1\n",
    "        \n",
    "    if attempts == max_attempts:\n",
    "        print(\"\\nFailed to generate a story with 3 or more words after multiple attempts.\")\n",
    "        print(\"Last generated story:\")\n",
    "        print(story)\n",
    "        print(f\"Missing words: {', '.join(missing_words)}\")\n",
    "\n"
   ]
  }
 ],
 "metadata": {
  "kernelspec": {
   "display_name": "base",
   "language": "python",
   "name": "python3"
  },
  "language_info": {
   "codemirror_mode": {
    "name": "ipython",
    "version": 3
   },
   "file_extension": ".py",
   "mimetype": "text/x-python",
   "name": "python",
   "nbconvert_exporter": "python",
   "pygments_lexer": "ipython3",
   "version": "3.11.5"
  }
 },
 "nbformat": 4,
 "nbformat_minor": 2
}
